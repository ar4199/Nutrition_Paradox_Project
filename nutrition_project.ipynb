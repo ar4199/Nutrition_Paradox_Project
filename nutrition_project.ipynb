{
 "cells": [
  {
   "cell_type": "code",
   "execution_count": 1,
   "id": "1399fc13-485c-4a96-be04-998efb326ff9",
   "metadata": {},
   "outputs": [],
   "source": [
    "#install necessary libraries\n",
    "import pandas as pd\n",
    "import numpy as np\n",
    "import matplotlib as plt\n",
    "import seaborn as sns \n",
    "import matplotlib.pyplot as ply\n",
    "import plotly.express as pltly"
   ]
  },
  {
   "cell_type": "code",
   "execution_count": 2,
   "id": "c9f093fb-d708-422d-9644-a06db7c8b688",
   "metadata": {},
   "outputs": [],
   "source": [
    "import requests"
   ]
  },
  {
   "cell_type": "code",
   "execution_count": 3,
   "id": "a97af90d-217f-4fc2-abf6-7d4cd83f1e37",
   "metadata": {},
   "outputs": [
    {
     "data": {
      "text/plain": [
       "<Response [200]>"
      ]
     },
     "execution_count": 3,
     "metadata": {},
     "output_type": "execute_result"
    }
   ],
   "source": [
    "#url to obtain datasets\n",
    "url= \"https://ghoapi.azureedge.net/api/NCD_BMI_30C\"\n",
    "response = requests.get(url)\n",
    "\n",
    "response"
   ]
  },
  {
   "cell_type": "code",
   "execution_count": 4,
   "id": "cad5ddd8-9a0f-4711-b761-c7138b8b2519",
   "metadata": {},
   "outputs": [],
   "source": [
    "data1= response.json()"
   ]
  },
  {
   "cell_type": "code",
   "execution_count": 5,
   "id": "eca7165c-65eb-4f45-8697-763ebae836c5",
   "metadata": {},
   "outputs": [
    {
     "data": {
      "text/plain": [
       "dict_keys(['@odata.context', 'value'])"
      ]
     },
     "execution_count": 5,
     "metadata": {},
     "output_type": "execute_result"
    }
   ],
   "source": [
    "data1.keys()"
   ]
  },
  {
   "cell_type": "code",
   "execution_count": 6,
   "id": "6997f366-7c25-4ac5-8f87-a8a998221383",
   "metadata": {},
   "outputs": [],
   "source": [
    "#create a dataframe\n",
    "df_ob_ad=pd.DataFrame(data1['value'])"
   ]
  },
  {
   "cell_type": "code",
   "execution_count": 7,
   "id": "10a21a19-bcae-4888-a2d0-b332a6841c6e",
   "metadata": {
    "scrolled": true
   },
   "outputs": [
    {
     "data": {
      "text/html": [
       "<div>\n",
       "<style scoped>\n",
       "    .dataframe tbody tr th:only-of-type {\n",
       "        vertical-align: middle;\n",
       "    }\n",
       "\n",
       "    .dataframe tbody tr th {\n",
       "        vertical-align: top;\n",
       "    }\n",
       "\n",
       "    .dataframe thead th {\n",
       "        text-align: right;\n",
       "    }\n",
       "</style>\n",
       "<table border=\"1\" class=\"dataframe\">\n",
       "  <thead>\n",
       "    <tr style=\"text-align: right;\">\n",
       "      <th></th>\n",
       "      <th>Id</th>\n",
       "      <th>IndicatorCode</th>\n",
       "      <th>SpatialDimType</th>\n",
       "      <th>SpatialDim</th>\n",
       "      <th>ParentLocationCode</th>\n",
       "      <th>TimeDimType</th>\n",
       "      <th>ParentLocation</th>\n",
       "      <th>Dim1Type</th>\n",
       "      <th>TimeDim</th>\n",
       "      <th>Dim1</th>\n",
       "      <th>...</th>\n",
       "      <th>DataSourceDim</th>\n",
       "      <th>Value</th>\n",
       "      <th>NumericValue</th>\n",
       "      <th>Low</th>\n",
       "      <th>High</th>\n",
       "      <th>Comments</th>\n",
       "      <th>Date</th>\n",
       "      <th>TimeDimensionValue</th>\n",
       "      <th>TimeDimensionBegin</th>\n",
       "      <th>TimeDimensionEnd</th>\n",
       "    </tr>\n",
       "  </thead>\n",
       "  <tbody>\n",
       "    <tr>\n",
       "      <th>0</th>\n",
       "      <td>5395519</td>\n",
       "      <td>NCD_BMI_30C</td>\n",
       "      <td>COUNTRY</td>\n",
       "      <td>SAU</td>\n",
       "      <td>EMR</td>\n",
       "      <td>YEAR</td>\n",
       "      <td>Eastern Mediterranean</td>\n",
       "      <td>SEX</td>\n",
       "      <td>1997</td>\n",
       "      <td>SEX_BTSX</td>\n",
       "      <td>...</td>\n",
       "      <td>None</td>\n",
       "      <td>22.1 [21.1-23.2]</td>\n",
       "      <td>22.111502</td>\n",
       "      <td>21.063206</td>\n",
       "      <td>23.219305</td>\n",
       "      <td>None</td>\n",
       "      <td>2024-02-29T16:06:41.017+01:00</td>\n",
       "      <td>1997</td>\n",
       "      <td>1997-01-01T00:00:00+01:00</td>\n",
       "      <td>1997-12-31T00:00:00+01:00</td>\n",
       "    </tr>\n",
       "    <tr>\n",
       "      <th>1</th>\n",
       "      <td>5395636</td>\n",
       "      <td>NCD_BMI_30C</td>\n",
       "      <td>COUNTRY</td>\n",
       "      <td>LKA</td>\n",
       "      <td>SEAR</td>\n",
       "      <td>YEAR</td>\n",
       "      <td>South-East Asia</td>\n",
       "      <td>SEX</td>\n",
       "      <td>2013</td>\n",
       "      <td>SEX_MLE</td>\n",
       "      <td>...</td>\n",
       "      <td>None</td>\n",
       "      <td>3.7 [3.0-4.4]</td>\n",
       "      <td>3.682037</td>\n",
       "      <td>3.004463</td>\n",
       "      <td>4.399506</td>\n",
       "      <td>None</td>\n",
       "      <td>2024-02-29T16:06:41.017+01:00</td>\n",
       "      <td>2013</td>\n",
       "      <td>2013-01-01T00:00:00+01:00</td>\n",
       "      <td>2013-12-31T00:00:00+01:00</td>\n",
       "    </tr>\n",
       "    <tr>\n",
       "      <th>2</th>\n",
       "      <td>5395898</td>\n",
       "      <td>NCD_BMI_30C</td>\n",
       "      <td>COUNTRY</td>\n",
       "      <td>KAZ</td>\n",
       "      <td>EUR</td>\n",
       "      <td>YEAR</td>\n",
       "      <td>Europe</td>\n",
       "      <td>SEX</td>\n",
       "      <td>2005</td>\n",
       "      <td>SEX_FMLE</td>\n",
       "      <td>...</td>\n",
       "      <td>None</td>\n",
       "      <td>19.0 [16.9-21.3]</td>\n",
       "      <td>19.026031</td>\n",
       "      <td>16.881686</td>\n",
       "      <td>21.300718</td>\n",
       "      <td>None</td>\n",
       "      <td>2024-02-29T16:06:41.017+01:00</td>\n",
       "      <td>2005</td>\n",
       "      <td>2005-01-01T00:00:00+01:00</td>\n",
       "      <td>2005-12-31T00:00:00+01:00</td>\n",
       "    </tr>\n",
       "    <tr>\n",
       "      <th>3</th>\n",
       "      <td>261</td>\n",
       "      <td>NCD_BMI_30C</td>\n",
       "      <td>COUNTRY</td>\n",
       "      <td>KHM</td>\n",
       "      <td>WPR</td>\n",
       "      <td>YEAR</td>\n",
       "      <td>Western Pacific</td>\n",
       "      <td>SEX</td>\n",
       "      <td>2001</td>\n",
       "      <td>SEX_BTSX</td>\n",
       "      <td>...</td>\n",
       "      <td>None</td>\n",
       "      <td>1.0 [0.8-1.3]</td>\n",
       "      <td>0.981696</td>\n",
       "      <td>0.756741</td>\n",
       "      <td>1.274868</td>\n",
       "      <td>None</td>\n",
       "      <td>2024-02-29T16:06:41.017+01:00</td>\n",
       "      <td>2001</td>\n",
       "      <td>2001-01-01T00:00:00+01:00</td>\n",
       "      <td>2001-12-31T00:00:00+01:00</td>\n",
       "    </tr>\n",
       "    <tr>\n",
       "      <th>4</th>\n",
       "      <td>358</td>\n",
       "      <td>NCD_BMI_30C</td>\n",
       "      <td>COUNTRY</td>\n",
       "      <td>IRN</td>\n",
       "      <td>EMR</td>\n",
       "      <td>YEAR</td>\n",
       "      <td>Eastern Mediterranean</td>\n",
       "      <td>SEX</td>\n",
       "      <td>2020</td>\n",
       "      <td>SEX_MLE</td>\n",
       "      <td>...</td>\n",
       "      <td>None</td>\n",
       "      <td>17.5 [15.8-19.2]</td>\n",
       "      <td>17.487641</td>\n",
       "      <td>15.793777</td>\n",
       "      <td>19.245727</td>\n",
       "      <td>None</td>\n",
       "      <td>2024-02-29T16:06:41.017+01:00</td>\n",
       "      <td>2020</td>\n",
       "      <td>2020-01-01T00:00:00+01:00</td>\n",
       "      <td>2020-12-31T00:00:00+01:00</td>\n",
       "    </tr>\n",
       "  </tbody>\n",
       "</table>\n",
       "<p>5 rows × 25 columns</p>\n",
       "</div>"
      ],
      "text/plain": [
       "        Id IndicatorCode SpatialDimType SpatialDim ParentLocationCode  \\\n",
       "0  5395519   NCD_BMI_30C        COUNTRY        SAU                EMR   \n",
       "1  5395636   NCD_BMI_30C        COUNTRY        LKA               SEAR   \n",
       "2  5395898   NCD_BMI_30C        COUNTRY        KAZ                EUR   \n",
       "3      261   NCD_BMI_30C        COUNTRY        KHM                WPR   \n",
       "4      358   NCD_BMI_30C        COUNTRY        IRN                EMR   \n",
       "\n",
       "  TimeDimType         ParentLocation Dim1Type  TimeDim      Dim1  ...  \\\n",
       "0        YEAR  Eastern Mediterranean      SEX     1997  SEX_BTSX  ...   \n",
       "1        YEAR        South-East Asia      SEX     2013   SEX_MLE  ...   \n",
       "2        YEAR                 Europe      SEX     2005  SEX_FMLE  ...   \n",
       "3        YEAR        Western Pacific      SEX     2001  SEX_BTSX  ...   \n",
       "4        YEAR  Eastern Mediterranean      SEX     2020   SEX_MLE  ...   \n",
       "\n",
       "  DataSourceDim             Value NumericValue        Low       High Comments  \\\n",
       "0          None  22.1 [21.1-23.2]    22.111502  21.063206  23.219305     None   \n",
       "1          None     3.7 [3.0-4.4]     3.682037   3.004463   4.399506     None   \n",
       "2          None  19.0 [16.9-21.3]    19.026031  16.881686  21.300718     None   \n",
       "3          None     1.0 [0.8-1.3]     0.981696   0.756741   1.274868     None   \n",
       "4          None  17.5 [15.8-19.2]    17.487641  15.793777  19.245727     None   \n",
       "\n",
       "                            Date  TimeDimensionValue  \\\n",
       "0  2024-02-29T16:06:41.017+01:00                1997   \n",
       "1  2024-02-29T16:06:41.017+01:00                2013   \n",
       "2  2024-02-29T16:06:41.017+01:00                2005   \n",
       "3  2024-02-29T16:06:41.017+01:00                2001   \n",
       "4  2024-02-29T16:06:41.017+01:00                2020   \n",
       "\n",
       "          TimeDimensionBegin           TimeDimensionEnd  \n",
       "0  1997-01-01T00:00:00+01:00  1997-12-31T00:00:00+01:00  \n",
       "1  2013-01-01T00:00:00+01:00  2013-12-31T00:00:00+01:00  \n",
       "2  2005-01-01T00:00:00+01:00  2005-12-31T00:00:00+01:00  \n",
       "3  2001-01-01T00:00:00+01:00  2001-12-31T00:00:00+01:00  \n",
       "4  2020-01-01T00:00:00+01:00  2020-12-31T00:00:00+01:00  \n",
       "\n",
       "[5 rows x 25 columns]"
      ]
     },
     "execution_count": 7,
     "metadata": {},
     "output_type": "execute_result"
    }
   ],
   "source": [
    "#check the data frame for basic understanding\n",
    "df_ob_ad.head(5)"
   ]
  },
  {
   "cell_type": "code",
   "execution_count": 8,
   "id": "9d86307b-a807-4de1-96dc-d5806ef9ffba",
   "metadata": {},
   "outputs": [
    {
     "data": {
      "text/plain": [
       "(20790, 25)"
      ]
     },
     "execution_count": 8,
     "metadata": {},
     "output_type": "execute_result"
    }
   ],
   "source": [
    "df_ob_ad.shape"
   ]
  },
  {
   "cell_type": "code",
   "execution_count": 9,
   "id": "4a7fd6ca-232f-4df4-abe2-3219c6abdd0e",
   "metadata": {},
   "outputs": [
    {
     "data": {
      "text/html": [
       "<div>\n",
       "<style scoped>\n",
       "    .dataframe tbody tr th:only-of-type {\n",
       "        vertical-align: middle;\n",
       "    }\n",
       "\n",
       "    .dataframe tbody tr th {\n",
       "        vertical-align: top;\n",
       "    }\n",
       "\n",
       "    .dataframe thead th {\n",
       "        text-align: right;\n",
       "    }\n",
       "</style>\n",
       "<table border=\"1\" class=\"dataframe\">\n",
       "  <thead>\n",
       "    <tr style=\"text-align: right;\">\n",
       "      <th></th>\n",
       "      <th>Id</th>\n",
       "      <th>TimeDim</th>\n",
       "      <th>NumericValue</th>\n",
       "      <th>Low</th>\n",
       "      <th>High</th>\n",
       "    </tr>\n",
       "  </thead>\n",
       "  <tbody>\n",
       "    <tr>\n",
       "      <th>count</th>\n",
       "      <td>2.079000e+04</td>\n",
       "      <td>20790.000000</td>\n",
       "      <td>20790.000000</td>\n",
       "      <td>20790.000000</td>\n",
       "      <td>20790.000000</td>\n",
       "    </tr>\n",
       "    <tr>\n",
       "      <th>mean</th>\n",
       "      <td>5.026723e+06</td>\n",
       "      <td>2006.000000</td>\n",
       "      <td>17.092687</td>\n",
       "      <td>14.805798</td>\n",
       "      <td>19.607289</td>\n",
       "    </tr>\n",
       "    <tr>\n",
       "      <th>std</th>\n",
       "      <td>2.884454e+06</td>\n",
       "      <td>9.522134</td>\n",
       "      <td>13.771709</td>\n",
       "      <td>12.704608</td>\n",
       "      <td>14.937235</td>\n",
       "    </tr>\n",
       "    <tr>\n",
       "      <th>min</th>\n",
       "      <td>2.610000e+02</td>\n",
       "      <td>1990.000000</td>\n",
       "      <td>0.072335</td>\n",
       "      <td>0.045961</td>\n",
       "      <td>0.107287</td>\n",
       "    </tr>\n",
       "    <tr>\n",
       "      <th>25%</th>\n",
       "      <td>2.524062e+06</td>\n",
       "      <td>1998.000000</td>\n",
       "      <td>6.104706</td>\n",
       "      <td>4.747322</td>\n",
       "      <td>7.781379</td>\n",
       "    </tr>\n",
       "    <tr>\n",
       "      <th>50%</th>\n",
       "      <td>5.048938e+06</td>\n",
       "      <td>2006.000000</td>\n",
       "      <td>14.910650</td>\n",
       "      <td>12.499671</td>\n",
       "      <td>17.415895</td>\n",
       "    </tr>\n",
       "    <tr>\n",
       "      <th>75%</th>\n",
       "      <td>7.518072e+06</td>\n",
       "      <td>2014.000000</td>\n",
       "      <td>23.704413</td>\n",
       "      <td>20.920535</td>\n",
       "      <td>26.799126</td>\n",
       "    </tr>\n",
       "    <tr>\n",
       "      <th>max</th>\n",
       "      <td>1.001774e+07</td>\n",
       "      <td>2022.000000</td>\n",
       "      <td>80.609250</td>\n",
       "      <td>74.365371</td>\n",
       "      <td>87.868512</td>\n",
       "    </tr>\n",
       "  </tbody>\n",
       "</table>\n",
       "</div>"
      ],
      "text/plain": [
       "                 Id       TimeDim  NumericValue           Low          High\n",
       "count  2.079000e+04  20790.000000  20790.000000  20790.000000  20790.000000\n",
       "mean   5.026723e+06   2006.000000     17.092687     14.805798     19.607289\n",
       "std    2.884454e+06      9.522134     13.771709     12.704608     14.937235\n",
       "min    2.610000e+02   1990.000000      0.072335      0.045961      0.107287\n",
       "25%    2.524062e+06   1998.000000      6.104706      4.747322      7.781379\n",
       "50%    5.048938e+06   2006.000000     14.910650     12.499671     17.415895\n",
       "75%    7.518072e+06   2014.000000     23.704413     20.920535     26.799126\n",
       "max    1.001774e+07   2022.000000     80.609250     74.365371     87.868512"
      ]
     },
     "execution_count": 9,
     "metadata": {},
     "output_type": "execute_result"
    }
   ],
   "source": [
    "df_ob_ad.describe()"
   ]
  },
  {
   "cell_type": "code",
   "execution_count": 10,
   "id": "aa2c4bbd-8b84-4f29-9ab8-f66c7ec81961",
   "metadata": {
    "scrolled": true
   },
   "outputs": [
    {
     "name": "stdout",
     "output_type": "stream",
     "text": [
      "<class 'pandas.core.frame.DataFrame'>\n",
      "RangeIndex: 20790 entries, 0 to 20789\n",
      "Data columns (total 25 columns):\n",
      " #   Column              Non-Null Count  Dtype  \n",
      "---  ------              --------------  -----  \n",
      " 0   Id                  20790 non-null  int64  \n",
      " 1   IndicatorCode       20790 non-null  object \n",
      " 2   SpatialDimType      20790 non-null  object \n",
      " 3   SpatialDim          20790 non-null  object \n",
      " 4   ParentLocationCode  19701 non-null  object \n",
      " 5   TimeDimType         20790 non-null  object \n",
      " 6   ParentLocation      19701 non-null  object \n",
      " 7   Dim1Type            20790 non-null  object \n",
      " 8   TimeDim             20790 non-null  int64  \n",
      " 9   Dim1                20790 non-null  object \n",
      " 10  Dim2Type            20790 non-null  object \n",
      " 11  Dim2                20790 non-null  object \n",
      " 12  Dim3Type            0 non-null      object \n",
      " 13  Dim3                0 non-null      object \n",
      " 14  DataSourceDimType   0 non-null      object \n",
      " 15  DataSourceDim       0 non-null      object \n",
      " 16  Value               20790 non-null  object \n",
      " 17  NumericValue        20790 non-null  float64\n",
      " 18  Low                 20790 non-null  float64\n",
      " 19  High                20790 non-null  float64\n",
      " 20  Comments            0 non-null      object \n",
      " 21  Date                20790 non-null  object \n",
      " 22  TimeDimensionValue  20790 non-null  object \n",
      " 23  TimeDimensionBegin  20790 non-null  object \n",
      " 24  TimeDimensionEnd    20790 non-null  object \n",
      "dtypes: float64(3), int64(2), object(20)\n",
      "memory usage: 4.0+ MB\n"
     ]
    }
   ],
   "source": [
    "df_ob_ad.info()"
   ]
  },
  {
   "cell_type": "code",
   "execution_count": 11,
   "id": "aa4476c1-075e-4f11-976f-199b5e856438",
   "metadata": {},
   "outputs": [
    {
     "data": {
      "text/plain": [
       "<Response [200]>"
      ]
     },
     "execution_count": 11,
     "metadata": {},
     "output_type": "execute_result"
    }
   ],
   "source": [
    "url= \"https://ghoapi.azureedge.net/api/NCD_BMI_PLUS2C\"\n",
    "response = requests.get(url)\n",
    "\n",
    "response"
   ]
  },
  {
   "cell_type": "code",
   "execution_count": 12,
   "id": "318bad5b-49ec-47e3-99ae-ac030b8bcf8d",
   "metadata": {},
   "outputs": [],
   "source": [
    "data2 = response.json()"
   ]
  },
  {
   "cell_type": "code",
   "execution_count": 13,
   "id": "d2b8d538-d358-432a-851e-54ada9faaa76",
   "metadata": {},
   "outputs": [
    {
     "data": {
      "text/plain": [
       "dict_keys(['@odata.context', 'value'])"
      ]
     },
     "execution_count": 13,
     "metadata": {},
     "output_type": "execute_result"
    }
   ],
   "source": [
    "data2.keys()\n"
   ]
  },
  {
   "cell_type": "code",
   "execution_count": 14,
   "id": "8ec7b4f8-1a75-49cf-a2de-0076ce0ec0f5",
   "metadata": {},
   "outputs": [],
   "source": [
    "df_ob_ch = pd.DataFrame(data2['value'])"
   ]
  },
  {
   "cell_type": "code",
   "execution_count": 15,
   "id": "1c352643-5163-4d64-9503-f8718406a280",
   "metadata": {},
   "outputs": [
    {
     "data": {
      "text/plain": [
       "(62370, 25)"
      ]
     },
     "execution_count": 15,
     "metadata": {},
     "output_type": "execute_result"
    }
   ],
   "source": [
    "df_ob_ch.shape\n"
   ]
  },
  {
   "cell_type": "code",
   "execution_count": 16,
   "id": "998adc6d-8d6f-4a8a-8d9c-9a5273d11aa2",
   "metadata": {
    "scrolled": true
   },
   "outputs": [
    {
     "name": "stdout",
     "output_type": "stream",
     "text": [
      "<class 'pandas.core.frame.DataFrame'>\n",
      "RangeIndex: 62370 entries, 0 to 62369\n",
      "Data columns (total 25 columns):\n",
      " #   Column              Non-Null Count  Dtype  \n",
      "---  ------              --------------  -----  \n",
      " 0   Id                  62370 non-null  int64  \n",
      " 1   IndicatorCode       62370 non-null  object \n",
      " 2   SpatialDimType      62370 non-null  object \n",
      " 3   SpatialDim          62370 non-null  object \n",
      " 4   ParentLocationCode  59103 non-null  object \n",
      " 5   TimeDimType         62370 non-null  object \n",
      " 6   ParentLocation      59103 non-null  object \n",
      " 7   Dim1Type            62370 non-null  object \n",
      " 8   TimeDim             62370 non-null  int64  \n",
      " 9   Dim1                62370 non-null  object \n",
      " 10  Dim2Type            62370 non-null  object \n",
      " 11  Dim2                62370 non-null  object \n",
      " 12  Dim3Type            0 non-null      object \n",
      " 13  Dim3                0 non-null      object \n",
      " 14  DataSourceDimType   0 non-null      object \n",
      " 15  DataSourceDim       0 non-null      object \n",
      " 16  Value               62370 non-null  object \n",
      " 17  NumericValue        62370 non-null  float64\n",
      " 18  Low                 62370 non-null  float64\n",
      " 19  High                62370 non-null  float64\n",
      " 20  Comments            0 non-null      object \n",
      " 21  Date                62370 non-null  object \n",
      " 22  TimeDimensionValue  62370 non-null  object \n",
      " 23  TimeDimensionBegin  62370 non-null  object \n",
      " 24  TimeDimensionEnd    62370 non-null  object \n",
      "dtypes: float64(3), int64(2), object(20)\n",
      "memory usage: 11.9+ MB\n"
     ]
    }
   ],
   "source": [
    "df_ob_ch.info()"
   ]
  },
  {
   "cell_type": "code",
   "execution_count": 17,
   "id": "4460eea7-7112-4267-9075-07c3090bf95b",
   "metadata": {},
   "outputs": [
    {
     "data": {
      "text/plain": [
       "<Response [200]>"
      ]
     },
     "execution_count": 17,
     "metadata": {},
     "output_type": "execute_result"
    }
   ],
   "source": [
    "url = \"https://ghoapi.azureedge.net/api/NCD_BMI_18C\"\n",
    "response = requests.get(url)\n",
    "response"
   ]
  },
  {
   "cell_type": "code",
   "execution_count": 18,
   "id": "fd301a6a-77fd-4177-905e-bf71b2596e23",
   "metadata": {},
   "outputs": [],
   "source": [
    "data3 = response.json()\n"
   ]
  },
  {
   "cell_type": "code",
   "execution_count": 19,
   "id": "f9501bd7-5cd5-4d89-8a90-0281718a349f",
   "metadata": {},
   "outputs": [
    {
     "data": {
      "text/plain": [
       "dict_keys(['@odata.context', 'value'])"
      ]
     },
     "execution_count": 19,
     "metadata": {},
     "output_type": "execute_result"
    }
   ],
   "source": [
    "data3.keys()"
   ]
  },
  {
   "cell_type": "code",
   "execution_count": 20,
   "id": "59c218b9-b607-41e7-b988-7dc6cd08a4c3",
   "metadata": {},
   "outputs": [],
   "source": [
    "df_ml_ad = pd.DataFrame(data3['value'])"
   ]
  },
  {
   "cell_type": "code",
   "execution_count": 21,
   "id": "81684a00-96f4-4267-b0cd-174c93d12c9a",
   "metadata": {
    "scrolled": true
   },
   "outputs": [
    {
     "name": "stdout",
     "output_type": "stream",
     "text": [
      "<class 'pandas.core.frame.DataFrame'>\n",
      "RangeIndex: 20790 entries, 0 to 20789\n",
      "Data columns (total 25 columns):\n",
      " #   Column              Non-Null Count  Dtype  \n",
      "---  ------              --------------  -----  \n",
      " 0   Id                  20790 non-null  int64  \n",
      " 1   IndicatorCode       20790 non-null  object \n",
      " 2   SpatialDimType      20790 non-null  object \n",
      " 3   SpatialDim          20790 non-null  object \n",
      " 4   ParentLocationCode  19701 non-null  object \n",
      " 5   TimeDimType         20790 non-null  object \n",
      " 6   ParentLocation      19701 non-null  object \n",
      " 7   Dim1Type            20790 non-null  object \n",
      " 8   TimeDim             20790 non-null  int64  \n",
      " 9   Dim1                20790 non-null  object \n",
      " 10  Dim2Type            20790 non-null  object \n",
      " 11  Dim2                20790 non-null  object \n",
      " 12  Dim3Type            0 non-null      object \n",
      " 13  Dim3                0 non-null      object \n",
      " 14  DataSourceDimType   0 non-null      object \n",
      " 15  DataSourceDim       0 non-null      object \n",
      " 16  Value               20790 non-null  object \n",
      " 17  NumericValue        20790 non-null  float64\n",
      " 18  Low                 20790 non-null  float64\n",
      " 19  High                20790 non-null  float64\n",
      " 20  Comments            0 non-null      object \n",
      " 21  Date                20790 non-null  object \n",
      " 22  TimeDimensionValue  20790 non-null  object \n",
      " 23  TimeDimensionBegin  20790 non-null  object \n",
      " 24  TimeDimensionEnd    20790 non-null  object \n",
      "dtypes: float64(3), int64(2), object(20)\n",
      "memory usage: 4.0+ MB\n"
     ]
    }
   ],
   "source": [
    "df_ml_ad.info()"
   ]
  },
  {
   "cell_type": "code",
   "execution_count": 22,
   "id": "390c97bb-3faf-4a4e-a208-08f7c4dc3598",
   "metadata": {
    "scrolled": true
   },
   "outputs": [
    {
     "data": {
      "text/plain": [
       "Id                        0\n",
       "IndicatorCode             0\n",
       "SpatialDimType            0\n",
       "SpatialDim                0\n",
       "ParentLocationCode     1089\n",
       "TimeDimType               0\n",
       "ParentLocation         1089\n",
       "Dim1Type                  0\n",
       "TimeDim                   0\n",
       "Dim1                      0\n",
       "Dim2Type                  0\n",
       "Dim2                      0\n",
       "Dim3Type              20790\n",
       "Dim3                  20790\n",
       "DataSourceDimType     20790\n",
       "DataSourceDim         20790\n",
       "Value                     0\n",
       "NumericValue              0\n",
       "Low                       0\n",
       "High                      0\n",
       "Comments              20790\n",
       "Date                      0\n",
       "TimeDimensionValue        0\n",
       "TimeDimensionBegin        0\n",
       "TimeDimensionEnd          0\n",
       "dtype: int64"
      ]
     },
     "execution_count": 22,
     "metadata": {},
     "output_type": "execute_result"
    }
   ],
   "source": [
    "df_ml_ad.isnull().sum()"
   ]
  },
  {
   "cell_type": "code",
   "execution_count": 23,
   "id": "1805018a-e8aa-4f1d-9986-937f71203ea9",
   "metadata": {},
   "outputs": [
    {
     "data": {
      "text/plain": [
       "<Response [200]>"
      ]
     },
     "execution_count": 23,
     "metadata": {},
     "output_type": "execute_result"
    }
   ],
   "source": [
    "url = \"https://ghoapi.azureedge.net/api/NCD_BMI_MINUS2C\"\n",
    "response = requests.get(url)\n",
    "response"
   ]
  },
  {
   "cell_type": "code",
   "execution_count": 24,
   "id": "ff851e2f-1a6c-4812-abbe-44d1f758d13a",
   "metadata": {},
   "outputs": [],
   "source": [
    "data4 = response.json()"
   ]
  },
  {
   "cell_type": "code",
   "execution_count": 25,
   "id": "8a30251a-553f-44f7-b7ed-f94f37a2dd99",
   "metadata": {},
   "outputs": [
    {
     "data": {
      "text/plain": [
       "dict_keys(['@odata.context', 'value'])"
      ]
     },
     "execution_count": 25,
     "metadata": {},
     "output_type": "execute_result"
    }
   ],
   "source": [
    "data4.keys()"
   ]
  },
  {
   "cell_type": "code",
   "execution_count": 26,
   "id": "ad01c2c0-8ef4-4142-86c0-de88e443b42f",
   "metadata": {},
   "outputs": [],
   "source": [
    "df_ml_ch = pd.DataFrame(data4[\"value\"])\n"
   ]
  },
  {
   "cell_type": "code",
   "execution_count": 27,
   "id": "d37af5bf-d043-4ff1-b14d-c843603937cf",
   "metadata": {
    "scrolled": true
   },
   "outputs": [
    {
     "name": "stdout",
     "output_type": "stream",
     "text": [
      "<class 'pandas.core.frame.DataFrame'>\n",
      "RangeIndex: 62370 entries, 0 to 62369\n",
      "Data columns (total 25 columns):\n",
      " #   Column              Non-Null Count  Dtype  \n",
      "---  ------              --------------  -----  \n",
      " 0   Id                  62370 non-null  int64  \n",
      " 1   IndicatorCode       62370 non-null  object \n",
      " 2   SpatialDimType      62370 non-null  object \n",
      " 3   SpatialDim          62370 non-null  object \n",
      " 4   ParentLocationCode  59103 non-null  object \n",
      " 5   TimeDimType         62370 non-null  object \n",
      " 6   ParentLocation      59103 non-null  object \n",
      " 7   Dim1Type            62370 non-null  object \n",
      " 8   Dim1                62370 non-null  object \n",
      " 9   TimeDim             62370 non-null  int64  \n",
      " 10  Dim2Type            62370 non-null  object \n",
      " 11  Dim2                62370 non-null  object \n",
      " 12  Dim3Type            0 non-null      object \n",
      " 13  Dim3                0 non-null      object \n",
      " 14  DataSourceDimType   0 non-null      object \n",
      " 15  DataSourceDim       0 non-null      object \n",
      " 16  Value               62370 non-null  object \n",
      " 17  NumericValue        62370 non-null  float64\n",
      " 18  Low                 62370 non-null  float64\n",
      " 19  High                62370 non-null  float64\n",
      " 20  Comments            0 non-null      object \n",
      " 21  Date                62370 non-null  object \n",
      " 22  TimeDimensionValue  62370 non-null  object \n",
      " 23  TimeDimensionBegin  62370 non-null  object \n",
      " 24  TimeDimensionEnd    62370 non-null  object \n",
      "dtypes: float64(3), int64(2), object(20)\n",
      "memory usage: 11.9+ MB\n"
     ]
    }
   ],
   "source": [
    "df_ml_ch.info()"
   ]
  },
  {
   "cell_type": "code",
   "execution_count": 28,
   "id": "4f2aa6c3-8748-4464-a7fe-5dcddccc7df3",
   "metadata": {
    "scrolled": true
   },
   "outputs": [
    {
     "name": "stdout",
     "output_type": "stream",
     "text": [
      "<class 'pandas.core.frame.DataFrame'>\n",
      "RangeIndex: 20790 entries, 0 to 20789\n",
      "Data columns (total 26 columns):\n",
      " #   Column              Non-Null Count  Dtype  \n",
      "---  ------              --------------  -----  \n",
      " 0   Id                  20790 non-null  int64  \n",
      " 1   IndicatorCode       20790 non-null  object \n",
      " 2   SpatialDimType      20790 non-null  object \n",
      " 3   SpatialDim          20790 non-null  object \n",
      " 4   ParentLocationCode  19701 non-null  object \n",
      " 5   TimeDimType         20790 non-null  object \n",
      " 6   ParentLocation      19701 non-null  object \n",
      " 7   Dim1Type            20790 non-null  object \n",
      " 8   TimeDim             20790 non-null  int64  \n",
      " 9   Dim1                20790 non-null  object \n",
      " 10  Dim2Type            20790 non-null  object \n",
      " 11  Dim2                20790 non-null  object \n",
      " 12  Dim3Type            0 non-null      object \n",
      " 13  Dim3                0 non-null      object \n",
      " 14  DataSourceDimType   0 non-null      object \n",
      " 15  DataSourceDim       0 non-null      object \n",
      " 16  Value               20790 non-null  object \n",
      " 17  NumericValue        20790 non-null  float64\n",
      " 18  Low                 20790 non-null  float64\n",
      " 19  High                20790 non-null  float64\n",
      " 20  Comments            0 non-null      object \n",
      " 21  Date                20790 non-null  object \n",
      " 22  TimeDimensionValue  20790 non-null  object \n",
      " 23  TimeDimensionBegin  20790 non-null  object \n",
      " 24  TimeDimensionEnd    20790 non-null  object \n",
      " 25  AgeGroup            20790 non-null  object \n",
      "dtypes: float64(3), int64(2), object(21)\n",
      "memory usage: 4.1+ MB\n"
     ]
    }
   ],
   "source": [
    "#change the agegroup column name to adult\n",
    "df_ob_ad['AgeGroup']=\"Adult\"\n",
    "df_ob_ad.info()"
   ]
  },
  {
   "cell_type": "code",
   "execution_count": 29,
   "id": "f9e7a997-cb2d-4688-8f07-f1531622a23d",
   "metadata": {
    "scrolled": true
   },
   "outputs": [
    {
     "name": "stdout",
     "output_type": "stream",
     "text": [
      "<class 'pandas.core.frame.DataFrame'>\n",
      "RangeIndex: 62370 entries, 0 to 62369\n",
      "Data columns (total 26 columns):\n",
      " #   Column              Non-Null Count  Dtype  \n",
      "---  ------              --------------  -----  \n",
      " 0   Id                  62370 non-null  int64  \n",
      " 1   IndicatorCode       62370 non-null  object \n",
      " 2   SpatialDimType      62370 non-null  object \n",
      " 3   SpatialDim          62370 non-null  object \n",
      " 4   ParentLocationCode  59103 non-null  object \n",
      " 5   TimeDimType         62370 non-null  object \n",
      " 6   ParentLocation      59103 non-null  object \n",
      " 7   Dim1Type            62370 non-null  object \n",
      " 8   TimeDim             62370 non-null  int64  \n",
      " 9   Dim1                62370 non-null  object \n",
      " 10  Dim2Type            62370 non-null  object \n",
      " 11  Dim2                62370 non-null  object \n",
      " 12  Dim3Type            0 non-null      object \n",
      " 13  Dim3                0 non-null      object \n",
      " 14  DataSourceDimType   0 non-null      object \n",
      " 15  DataSourceDim       0 non-null      object \n",
      " 16  Value               62370 non-null  object \n",
      " 17  NumericValue        62370 non-null  float64\n",
      " 18  Low                 62370 non-null  float64\n",
      " 19  High                62370 non-null  float64\n",
      " 20  Comments            0 non-null      object \n",
      " 21  Date                62370 non-null  object \n",
      " 22  TimeDimensionValue  62370 non-null  object \n",
      " 23  TimeDimensionBegin  62370 non-null  object \n",
      " 24  TimeDimensionEnd    62370 non-null  object \n",
      " 25  AgeGroup            62370 non-null  object \n",
      "dtypes: float64(3), int64(2), object(21)\n",
      "memory usage: 12.4+ MB\n"
     ]
    }
   ],
   "source": [
    "# change the agegroup column name to child\n",
    "df_ob_ch['AgeGroup']='Child'\n",
    "df_ob_ch.info()"
   ]
  },
  {
   "cell_type": "code",
   "execution_count": 30,
   "id": "c291e036-037c-4b53-a01f-ca7afbe98448",
   "metadata": {},
   "outputs": [],
   "source": [
    "df_ml_ad['AgeGroup']=\"Adult\""
   ]
  },
  {
   "cell_type": "code",
   "execution_count": 31,
   "id": "c91824f3-fea9-4e82-a86f-acfa8f8173cd",
   "metadata": {},
   "outputs": [],
   "source": [
    "df_ml_ch['AgeGroup']='Child'"
   ]
  },
  {
   "cell_type": "code",
   "execution_count": 32,
   "id": "74d35119-48cf-4193-bde2-2763d9f41657",
   "metadata": {},
   "outputs": [],
   "source": [
    "#combine the obesity dataframes of adult and child into one dataframe\n",
    "df_obese = pd.concat([df_ob_ad,df_ob_ch],ignore_index=True)"
   ]
  },
  {
   "cell_type": "code",
   "execution_count": 33,
   "id": "c17326e2-b031-4011-bc2e-cfe62dac9dcc",
   "metadata": {
    "jupyter": {
     "source_hidden": true
    },
    "scrolled": true
   },
   "outputs": [
    {
     "name": "stdout",
     "output_type": "stream",
     "text": [
      "<class 'pandas.core.frame.DataFrame'>\n",
      "RangeIndex: 83160 entries, 0 to 83159\n",
      "Data columns (total 26 columns):\n",
      " #   Column              Non-Null Count  Dtype  \n",
      "---  ------              --------------  -----  \n",
      " 0   Id                  83160 non-null  int64  \n",
      " 1   IndicatorCode       83160 non-null  object \n",
      " 2   SpatialDimType      83160 non-null  object \n",
      " 3   SpatialDim          83160 non-null  object \n",
      " 4   ParentLocationCode  78804 non-null  object \n",
      " 5   TimeDimType         83160 non-null  object \n",
      " 6   ParentLocation      78804 non-null  object \n",
      " 7   Dim1Type            83160 non-null  object \n",
      " 8   TimeDim             83160 non-null  int64  \n",
      " 9   Dim1                83160 non-null  object \n",
      " 10  Dim2Type            83160 non-null  object \n",
      " 11  Dim2                83160 non-null  object \n",
      " 12  Dim3Type            0 non-null      object \n",
      " 13  Dim3                0 non-null      object \n",
      " 14  DataSourceDimType   0 non-null      object \n",
      " 15  DataSourceDim       0 non-null      object \n",
      " 16  Value               83160 non-null  object \n",
      " 17  NumericValue        83160 non-null  float64\n",
      " 18  Low                 83160 non-null  float64\n",
      " 19  High                83160 non-null  float64\n",
      " 20  Comments            0 non-null      object \n",
      " 21  Date                83160 non-null  object \n",
      " 22  TimeDimensionValue  83160 non-null  object \n",
      " 23  TimeDimensionBegin  83160 non-null  object \n",
      " 24  TimeDimensionEnd    83160 non-null  object \n",
      " 25  AgeGroup            83160 non-null  object \n",
      "dtypes: float64(3), int64(2), object(21)\n",
      "memory usage: 16.5+ MB\n"
     ]
    }
   ],
   "source": [
    "df_obese.info()"
   ]
  },
  {
   "cell_type": "code",
   "execution_count": 34,
   "id": "4388cdd7-8c53-4535-b8ee-ba231d79903c",
   "metadata": {},
   "outputs": [
    {
     "name": "stdout",
     "output_type": "stream",
     "text": [
      "<class 'pandas.core.frame.DataFrame'>\n",
      "RangeIndex: 83160 entries, 0 to 83159\n",
      "Data columns (total 26 columns):\n",
      " #   Column              Non-Null Count  Dtype  \n",
      "---  ------              --------------  -----  \n",
      " 0   Id                  83160 non-null  int64  \n",
      " 1   IndicatorCode       83160 non-null  object \n",
      " 2   SpatialDimType      83160 non-null  object \n",
      " 3   SpatialDim          83160 non-null  object \n",
      " 4   ParentLocationCode  78804 non-null  object \n",
      " 5   TimeDimType         83160 non-null  object \n",
      " 6   ParentLocation      78804 non-null  object \n",
      " 7   Dim1Type            83160 non-null  object \n",
      " 8   TimeDim             83160 non-null  int64  \n",
      " 9   Dim1                83160 non-null  object \n",
      " 10  Dim2Type            83160 non-null  object \n",
      " 11  Dim2                83160 non-null  object \n",
      " 12  Dim3Type            0 non-null      object \n",
      " 13  Dim3                0 non-null      object \n",
      " 14  DataSourceDimType   0 non-null      object \n",
      " 15  DataSourceDim       0 non-null      object \n",
      " 16  Value               83160 non-null  object \n",
      " 17  NumericValue        83160 non-null  float64\n",
      " 18  Low                 83160 non-null  float64\n",
      " 19  High                83160 non-null  float64\n",
      " 20  Comments            0 non-null      object \n",
      " 21  Date                83160 non-null  object \n",
      " 22  TimeDimensionValue  83160 non-null  object \n",
      " 23  TimeDimensionBegin  83160 non-null  object \n",
      " 24  TimeDimensionEnd    83160 non-null  object \n",
      " 25  AgeGroup            83160 non-null  object \n",
      "dtypes: float64(3), int64(2), object(21)\n",
      "memory usage: 16.5+ MB\n"
     ]
    }
   ],
   "source": [
    "#combine the malnutrition dataframe of adult and child into one dataframe\n",
    "df_malnut=pd.concat([df_ml_ad,df_ml_ch],ignore_index=True)\n",
    "df_malnut.info()"
   ]
  },
  {
   "cell_type": "code",
   "execution_count": 35,
   "id": "cfa543d1-37d9-4303-8469-485bb5c1bc83",
   "metadata": {
    "scrolled": true
   },
   "outputs": [
    {
     "data": {
      "text/html": [
       "<div>\n",
       "<style scoped>\n",
       "    .dataframe tbody tr th:only-of-type {\n",
       "        vertical-align: middle;\n",
       "    }\n",
       "\n",
       "    .dataframe tbody tr th {\n",
       "        vertical-align: top;\n",
       "    }\n",
       "\n",
       "    .dataframe thead th {\n",
       "        text-align: right;\n",
       "    }\n",
       "</style>\n",
       "<table border=\"1\" class=\"dataframe\">\n",
       "  <thead>\n",
       "    <tr style=\"text-align: right;\">\n",
       "      <th></th>\n",
       "      <th>Id</th>\n",
       "      <th>IndicatorCode</th>\n",
       "      <th>SpatialDimType</th>\n",
       "      <th>SpatialDim</th>\n",
       "      <th>ParentLocationCode</th>\n",
       "      <th>TimeDimType</th>\n",
       "      <th>ParentLocation</th>\n",
       "      <th>Dim1Type</th>\n",
       "      <th>TimeDim</th>\n",
       "      <th>Dim1</th>\n",
       "      <th>...</th>\n",
       "      <th>Value</th>\n",
       "      <th>NumericValue</th>\n",
       "      <th>Low</th>\n",
       "      <th>High</th>\n",
       "      <th>Comments</th>\n",
       "      <th>Date</th>\n",
       "      <th>TimeDimensionValue</th>\n",
       "      <th>TimeDimensionBegin</th>\n",
       "      <th>TimeDimensionEnd</th>\n",
       "      <th>AgeGroup</th>\n",
       "    </tr>\n",
       "  </thead>\n",
       "  <tbody>\n",
       "    <tr>\n",
       "      <th>1</th>\n",
       "      <td>5395636</td>\n",
       "      <td>NCD_BMI_30C</td>\n",
       "      <td>COUNTRY</td>\n",
       "      <td>LKA</td>\n",
       "      <td>SEAR</td>\n",
       "      <td>YEAR</td>\n",
       "      <td>South-East Asia</td>\n",
       "      <td>SEX</td>\n",
       "      <td>2013</td>\n",
       "      <td>SEX_MLE</td>\n",
       "      <td>...</td>\n",
       "      <td>3.7 [3.0-4.4]</td>\n",
       "      <td>3.682037</td>\n",
       "      <td>3.004463</td>\n",
       "      <td>4.399506</td>\n",
       "      <td>None</td>\n",
       "      <td>2024-02-29T16:06:41.017+01:00</td>\n",
       "      <td>2013</td>\n",
       "      <td>2013-01-01T00:00:00+01:00</td>\n",
       "      <td>2013-12-31T00:00:00+01:00</td>\n",
       "      <td>Adult</td>\n",
       "    </tr>\n",
       "    <tr>\n",
       "      <th>4</th>\n",
       "      <td>358</td>\n",
       "      <td>NCD_BMI_30C</td>\n",
       "      <td>COUNTRY</td>\n",
       "      <td>IRN</td>\n",
       "      <td>EMR</td>\n",
       "      <td>YEAR</td>\n",
       "      <td>Eastern Mediterranean</td>\n",
       "      <td>SEX</td>\n",
       "      <td>2020</td>\n",
       "      <td>SEX_MLE</td>\n",
       "      <td>...</td>\n",
       "      <td>17.5 [15.8-19.2]</td>\n",
       "      <td>17.487641</td>\n",
       "      <td>15.793777</td>\n",
       "      <td>19.245727</td>\n",
       "      <td>None</td>\n",
       "      <td>2024-02-29T16:06:41.017+01:00</td>\n",
       "      <td>2020</td>\n",
       "      <td>2020-01-01T00:00:00+01:00</td>\n",
       "      <td>2020-12-31T00:00:00+01:00</td>\n",
       "      <td>Adult</td>\n",
       "    </tr>\n",
       "    <tr>\n",
       "      <th>11</th>\n",
       "      <td>4860</td>\n",
       "      <td>NCD_BMI_30C</td>\n",
       "      <td>COUNTRY</td>\n",
       "      <td>IRQ</td>\n",
       "      <td>EMR</td>\n",
       "      <td>YEAR</td>\n",
       "      <td>Eastern Mediterranean</td>\n",
       "      <td>SEX</td>\n",
       "      <td>2020</td>\n",
       "      <td>SEX_MLE</td>\n",
       "      <td>...</td>\n",
       "      <td>28.3 [23.1-33.8]</td>\n",
       "      <td>28.335530</td>\n",
       "      <td>23.089589</td>\n",
       "      <td>33.815336</td>\n",
       "      <td>None</td>\n",
       "      <td>2024-02-29T16:06:41.017+01:00</td>\n",
       "      <td>2020</td>\n",
       "      <td>2020-01-01T00:00:00+01:00</td>\n",
       "      <td>2020-12-31T00:00:00+01:00</td>\n",
       "      <td>Adult</td>\n",
       "    </tr>\n",
       "    <tr>\n",
       "      <th>17</th>\n",
       "      <td>6450</td>\n",
       "      <td>NCD_BMI_30C</td>\n",
       "      <td>COUNTRY</td>\n",
       "      <td>GRL</td>\n",
       "      <td>EUR</td>\n",
       "      <td>YEAR</td>\n",
       "      <td>Europe</td>\n",
       "      <td>SEX</td>\n",
       "      <td>2014</td>\n",
       "      <td>SEX_FMLE</td>\n",
       "      <td>...</td>\n",
       "      <td>27.9 [24.9-31.2]</td>\n",
       "      <td>27.948704</td>\n",
       "      <td>24.924766</td>\n",
       "      <td>31.213260</td>\n",
       "      <td>None</td>\n",
       "      <td>2024-02-29T16:06:41.017+01:00</td>\n",
       "      <td>2014</td>\n",
       "      <td>2014-01-01T00:00:00+01:00</td>\n",
       "      <td>2014-12-31T00:00:00+01:00</td>\n",
       "      <td>Adult</td>\n",
       "    </tr>\n",
       "    <tr>\n",
       "      <th>19</th>\n",
       "      <td>7701</td>\n",
       "      <td>NCD_BMI_30C</td>\n",
       "      <td>COUNTRY</td>\n",
       "      <td>ARM</td>\n",
       "      <td>EUR</td>\n",
       "      <td>YEAR</td>\n",
       "      <td>Europe</td>\n",
       "      <td>SEX</td>\n",
       "      <td>2019</td>\n",
       "      <td>SEX_FMLE</td>\n",
       "      <td>...</td>\n",
       "      <td>31.9 [28.2-35.6]</td>\n",
       "      <td>31.893221</td>\n",
       "      <td>28.160682</td>\n",
       "      <td>35.574925</td>\n",
       "      <td>None</td>\n",
       "      <td>2024-02-29T16:06:41.017+01:00</td>\n",
       "      <td>2019</td>\n",
       "      <td>2019-01-01T00:00:00+01:00</td>\n",
       "      <td>2019-12-31T00:00:00+01:00</td>\n",
       "      <td>Adult</td>\n",
       "    </tr>\n",
       "    <tr>\n",
       "      <th>...</th>\n",
       "      <td>...</td>\n",
       "      <td>...</td>\n",
       "      <td>...</td>\n",
       "      <td>...</td>\n",
       "      <td>...</td>\n",
       "      <td>...</td>\n",
       "      <td>...</td>\n",
       "      <td>...</td>\n",
       "      <td>...</td>\n",
       "      <td>...</td>\n",
       "      <td>...</td>\n",
       "      <td>...</td>\n",
       "      <td>...</td>\n",
       "      <td>...</td>\n",
       "      <td>...</td>\n",
       "      <td>...</td>\n",
       "      <td>...</td>\n",
       "      <td>...</td>\n",
       "      <td>...</td>\n",
       "      <td>...</td>\n",
       "      <td>...</td>\n",
       "    </tr>\n",
       "    <tr>\n",
       "      <th>83137</th>\n",
       "      <td>10013959</td>\n",
       "      <td>NCD_BMI_PLUS2C</td>\n",
       "      <td>COUNTRY</td>\n",
       "      <td>TJK</td>\n",
       "      <td>EUR</td>\n",
       "      <td>YEAR</td>\n",
       "      <td>Europe</td>\n",
       "      <td>SEX</td>\n",
       "      <td>2020</td>\n",
       "      <td>SEX_BTSX</td>\n",
       "      <td>...</td>\n",
       "      <td>1.5 [1.0-2.2]</td>\n",
       "      <td>1.475931</td>\n",
       "      <td>0.964176</td>\n",
       "      <td>2.197432</td>\n",
       "      <td>None</td>\n",
       "      <td>2024-02-29T16:06:41.017+01:00</td>\n",
       "      <td>2020</td>\n",
       "      <td>2020-01-01T00:00:00+01:00</td>\n",
       "      <td>2020-12-31T00:00:00+01:00</td>\n",
       "      <td>Child</td>\n",
       "    </tr>\n",
       "    <tr>\n",
       "      <th>83140</th>\n",
       "      <td>10014848</td>\n",
       "      <td>NCD_BMI_PLUS2C</td>\n",
       "      <td>COUNTRY</td>\n",
       "      <td>SOM</td>\n",
       "      <td>EMR</td>\n",
       "      <td>YEAR</td>\n",
       "      <td>Eastern Mediterranean</td>\n",
       "      <td>SEX</td>\n",
       "      <td>2012</td>\n",
       "      <td>SEX_FMLE</td>\n",
       "      <td>...</td>\n",
       "      <td>2.0 [0.3-5.9]</td>\n",
       "      <td>1.966190</td>\n",
       "      <td>0.302039</td>\n",
       "      <td>5.872414</td>\n",
       "      <td>None</td>\n",
       "      <td>2024-02-29T16:06:41.017+01:00</td>\n",
       "      <td>2012</td>\n",
       "      <td>2012-01-01T00:00:00+01:00</td>\n",
       "      <td>2012-12-31T00:00:00+01:00</td>\n",
       "      <td>Child</td>\n",
       "    </tr>\n",
       "    <tr>\n",
       "      <th>83148</th>\n",
       "      <td>10016362</td>\n",
       "      <td>NCD_BMI_PLUS2C</td>\n",
       "      <td>COUNTRY</td>\n",
       "      <td>VUT</td>\n",
       "      <td>WPR</td>\n",
       "      <td>YEAR</td>\n",
       "      <td>Western Pacific</td>\n",
       "      <td>SEX</td>\n",
       "      <td>2021</td>\n",
       "      <td>SEX_MLE</td>\n",
       "      <td>...</td>\n",
       "      <td>16.6 [3.3-34.9]</td>\n",
       "      <td>16.634887</td>\n",
       "      <td>3.325899</td>\n",
       "      <td>34.877816</td>\n",
       "      <td>None</td>\n",
       "      <td>2024-02-29T16:06:41.017+01:00</td>\n",
       "      <td>2021</td>\n",
       "      <td>2021-01-01T00:00:00+01:00</td>\n",
       "      <td>2021-12-31T00:00:00+01:00</td>\n",
       "      <td>Child</td>\n",
       "    </tr>\n",
       "    <tr>\n",
       "      <th>83151</th>\n",
       "      <td>10016824</td>\n",
       "      <td>NCD_BMI_PLUS2C</td>\n",
       "      <td>COUNTRY</td>\n",
       "      <td>MDG</td>\n",
       "      <td>AFR</td>\n",
       "      <td>YEAR</td>\n",
       "      <td>Africa</td>\n",
       "      <td>SEX</td>\n",
       "      <td>2014</td>\n",
       "      <td>SEX_MLE</td>\n",
       "      <td>...</td>\n",
       "      <td>2.0 [0.2-6.3]</td>\n",
       "      <td>2.032189</td>\n",
       "      <td>0.236481</td>\n",
       "      <td>6.341185</td>\n",
       "      <td>None</td>\n",
       "      <td>2024-02-29T16:06:41.017+01:00</td>\n",
       "      <td>2014</td>\n",
       "      <td>2014-01-01T00:00:00+01:00</td>\n",
       "      <td>2014-12-31T00:00:00+01:00</td>\n",
       "      <td>Child</td>\n",
       "    </tr>\n",
       "    <tr>\n",
       "      <th>83154</th>\n",
       "      <td>10017321</td>\n",
       "      <td>NCD_BMI_PLUS2C</td>\n",
       "      <td>COUNTRY</td>\n",
       "      <td>FIN</td>\n",
       "      <td>EUR</td>\n",
       "      <td>YEAR</td>\n",
       "      <td>Europe</td>\n",
       "      <td>SEX</td>\n",
       "      <td>2017</td>\n",
       "      <td>SEX_MLE</td>\n",
       "      <td>...</td>\n",
       "      <td>11.4 [10.1-12.8]</td>\n",
       "      <td>11.390631</td>\n",
       "      <td>10.087850</td>\n",
       "      <td>12.760153</td>\n",
       "      <td>None</td>\n",
       "      <td>2024-02-29T16:06:41.017+01:00</td>\n",
       "      <td>2017</td>\n",
       "      <td>2017-01-01T00:00:00+01:00</td>\n",
       "      <td>2017-12-31T00:00:00+01:00</td>\n",
       "      <td>Child</td>\n",
       "    </tr>\n",
       "  </tbody>\n",
       "</table>\n",
       "<p>27720 rows × 26 columns</p>\n",
       "</div>"
      ],
      "text/plain": [
       "             Id   IndicatorCode SpatialDimType SpatialDim ParentLocationCode  \\\n",
       "1       5395636     NCD_BMI_30C        COUNTRY        LKA               SEAR   \n",
       "4           358     NCD_BMI_30C        COUNTRY        IRN                EMR   \n",
       "11         4860     NCD_BMI_30C        COUNTRY        IRQ                EMR   \n",
       "17         6450     NCD_BMI_30C        COUNTRY        GRL                EUR   \n",
       "19         7701     NCD_BMI_30C        COUNTRY        ARM                EUR   \n",
       "...         ...             ...            ...        ...                ...   \n",
       "83137  10013959  NCD_BMI_PLUS2C        COUNTRY        TJK                EUR   \n",
       "83140  10014848  NCD_BMI_PLUS2C        COUNTRY        SOM                EMR   \n",
       "83148  10016362  NCD_BMI_PLUS2C        COUNTRY        VUT                WPR   \n",
       "83151  10016824  NCD_BMI_PLUS2C        COUNTRY        MDG                AFR   \n",
       "83154  10017321  NCD_BMI_PLUS2C        COUNTRY        FIN                EUR   \n",
       "\n",
       "      TimeDimType         ParentLocation Dim1Type  TimeDim      Dim1  ...  \\\n",
       "1            YEAR        South-East Asia      SEX     2013   SEX_MLE  ...   \n",
       "4            YEAR  Eastern Mediterranean      SEX     2020   SEX_MLE  ...   \n",
       "11           YEAR  Eastern Mediterranean      SEX     2020   SEX_MLE  ...   \n",
       "17           YEAR                 Europe      SEX     2014  SEX_FMLE  ...   \n",
       "19           YEAR                 Europe      SEX     2019  SEX_FMLE  ...   \n",
       "...           ...                    ...      ...      ...       ...  ...   \n",
       "83137        YEAR                 Europe      SEX     2020  SEX_BTSX  ...   \n",
       "83140        YEAR  Eastern Mediterranean      SEX     2012  SEX_FMLE  ...   \n",
       "83148        YEAR        Western Pacific      SEX     2021   SEX_MLE  ...   \n",
       "83151        YEAR                 Africa      SEX     2014   SEX_MLE  ...   \n",
       "83154        YEAR                 Europe      SEX     2017   SEX_MLE  ...   \n",
       "\n",
       "                  Value NumericValue        Low       High Comments  \\\n",
       "1         3.7 [3.0-4.4]     3.682037   3.004463   4.399506     None   \n",
       "4      17.5 [15.8-19.2]    17.487641  15.793777  19.245727     None   \n",
       "11     28.3 [23.1-33.8]    28.335530  23.089589  33.815336     None   \n",
       "17     27.9 [24.9-31.2]    27.948704  24.924766  31.213260     None   \n",
       "19     31.9 [28.2-35.6]    31.893221  28.160682  35.574925     None   \n",
       "...                 ...          ...        ...        ...      ...   \n",
       "83137     1.5 [1.0-2.2]     1.475931   0.964176   2.197432     None   \n",
       "83140     2.0 [0.3-5.9]     1.966190   0.302039   5.872414     None   \n",
       "83148   16.6 [3.3-34.9]    16.634887   3.325899  34.877816     None   \n",
       "83151     2.0 [0.2-6.3]     2.032189   0.236481   6.341185     None   \n",
       "83154  11.4 [10.1-12.8]    11.390631  10.087850  12.760153     None   \n",
       "\n",
       "                                Date TimeDimensionValue  \\\n",
       "1      2024-02-29T16:06:41.017+01:00               2013   \n",
       "4      2024-02-29T16:06:41.017+01:00               2020   \n",
       "11     2024-02-29T16:06:41.017+01:00               2020   \n",
       "17     2024-02-29T16:06:41.017+01:00               2014   \n",
       "19     2024-02-29T16:06:41.017+01:00               2019   \n",
       "...                              ...                ...   \n",
       "83137  2024-02-29T16:06:41.017+01:00               2020   \n",
       "83140  2024-02-29T16:06:41.017+01:00               2012   \n",
       "83148  2024-02-29T16:06:41.017+01:00               2021   \n",
       "83151  2024-02-29T16:06:41.017+01:00               2014   \n",
       "83154  2024-02-29T16:06:41.017+01:00               2017   \n",
       "\n",
       "              TimeDimensionBegin           TimeDimensionEnd  AgeGroup  \n",
       "1      2013-01-01T00:00:00+01:00  2013-12-31T00:00:00+01:00     Adult  \n",
       "4      2020-01-01T00:00:00+01:00  2020-12-31T00:00:00+01:00     Adult  \n",
       "11     2020-01-01T00:00:00+01:00  2020-12-31T00:00:00+01:00     Adult  \n",
       "17     2014-01-01T00:00:00+01:00  2014-12-31T00:00:00+01:00     Adult  \n",
       "19     2019-01-01T00:00:00+01:00  2019-12-31T00:00:00+01:00     Adult  \n",
       "...                          ...                        ...       ...  \n",
       "83137  2020-01-01T00:00:00+01:00  2020-12-31T00:00:00+01:00     Child  \n",
       "83140  2012-01-01T00:00:00+01:00  2012-12-31T00:00:00+01:00     Child  \n",
       "83148  2021-01-01T00:00:00+01:00  2021-12-31T00:00:00+01:00     Child  \n",
       "83151  2014-01-01T00:00:00+01:00  2014-12-31T00:00:00+01:00     Child  \n",
       "83154  2017-01-01T00:00:00+01:00  2017-12-31T00:00:00+01:00     Child  \n",
       "\n",
       "[27720 rows x 26 columns]"
      ]
     },
     "execution_count": 35,
     "metadata": {},
     "output_type": "execute_result"
    }
   ],
   "source": [
    "#choose the year gap from 2012 to 2022\n",
    "df_obese=df_obese[(df_obese['TimeDim']>=2012)&(df_obese['TimeDim']<=2022)]\n",
    "df_obese"
   ]
  },
  {
   "cell_type": "code",
   "execution_count": 36,
   "id": "444a8a4c-dd97-4f34-88bc-c4aa81be1434",
   "metadata": {},
   "outputs": [
    {
     "data": {
      "text/html": [
       "<div>\n",
       "<style scoped>\n",
       "    .dataframe tbody tr th:only-of-type {\n",
       "        vertical-align: middle;\n",
       "    }\n",
       "\n",
       "    .dataframe tbody tr th {\n",
       "        vertical-align: top;\n",
       "    }\n",
       "\n",
       "    .dataframe thead th {\n",
       "        text-align: right;\n",
       "    }\n",
       "</style>\n",
       "<table border=\"1\" class=\"dataframe\">\n",
       "  <thead>\n",
       "    <tr style=\"text-align: right;\">\n",
       "      <th></th>\n",
       "      <th>Id</th>\n",
       "      <th>IndicatorCode</th>\n",
       "      <th>SpatialDimType</th>\n",
       "      <th>SpatialDim</th>\n",
       "      <th>ParentLocationCode</th>\n",
       "      <th>TimeDimType</th>\n",
       "      <th>ParentLocation</th>\n",
       "      <th>Dim1Type</th>\n",
       "      <th>TimeDim</th>\n",
       "      <th>Dim1</th>\n",
       "      <th>...</th>\n",
       "      <th>Value</th>\n",
       "      <th>NumericValue</th>\n",
       "      <th>Low</th>\n",
       "      <th>High</th>\n",
       "      <th>Comments</th>\n",
       "      <th>Date</th>\n",
       "      <th>TimeDimensionValue</th>\n",
       "      <th>TimeDimensionBegin</th>\n",
       "      <th>TimeDimensionEnd</th>\n",
       "      <th>AgeGroup</th>\n",
       "    </tr>\n",
       "  </thead>\n",
       "  <tbody>\n",
       "    <tr>\n",
       "      <th>0</th>\n",
       "      <td>53</td>\n",
       "      <td>NCD_BMI_18C</td>\n",
       "      <td>COUNTRY</td>\n",
       "      <td>GAB</td>\n",
       "      <td>AFR</td>\n",
       "      <td>YEAR</td>\n",
       "      <td>Africa</td>\n",
       "      <td>SEX</td>\n",
       "      <td>2021</td>\n",
       "      <td>SEX_FMLE</td>\n",
       "      <td>...</td>\n",
       "      <td>5.8 [4.0-8.1]</td>\n",
       "      <td>5.795110</td>\n",
       "      <td>3.972036</td>\n",
       "      <td>8.077021</td>\n",
       "      <td>None</td>\n",
       "      <td>2024-02-29T16:06:41.017+01:00</td>\n",
       "      <td>2021</td>\n",
       "      <td>2021-01-01T00:00:00+01:00</td>\n",
       "      <td>2021-12-31T00:00:00+01:00</td>\n",
       "      <td>Adult</td>\n",
       "    </tr>\n",
       "    <tr>\n",
       "      <th>4</th>\n",
       "      <td>2246</td>\n",
       "      <td>NCD_BMI_18C</td>\n",
       "      <td>COUNTRY</td>\n",
       "      <td>MNG</td>\n",
       "      <td>WPR</td>\n",
       "      <td>YEAR</td>\n",
       "      <td>Western Pacific</td>\n",
       "      <td>SEX</td>\n",
       "      <td>2017</td>\n",
       "      <td>SEX_BTSX</td>\n",
       "      <td>...</td>\n",
       "      <td>3.1 [2.4-3.8]</td>\n",
       "      <td>3.090652</td>\n",
       "      <td>2.428230</td>\n",
       "      <td>3.842155</td>\n",
       "      <td>None</td>\n",
       "      <td>2024-02-29T16:06:41.017+01:00</td>\n",
       "      <td>2017</td>\n",
       "      <td>2017-01-01T00:00:00+01:00</td>\n",
       "      <td>2017-12-31T00:00:00+01:00</td>\n",
       "      <td>Adult</td>\n",
       "    </tr>\n",
       "    <tr>\n",
       "      <th>5</th>\n",
       "      <td>2552</td>\n",
       "      <td>NCD_BMI_18C</td>\n",
       "      <td>COUNTRY</td>\n",
       "      <td>SLE</td>\n",
       "      <td>AFR</td>\n",
       "      <td>YEAR</td>\n",
       "      <td>Africa</td>\n",
       "      <td>SEX</td>\n",
       "      <td>2016</td>\n",
       "      <td>SEX_FMLE</td>\n",
       "      <td>...</td>\n",
       "      <td>8.4 [6.7-10.3]</td>\n",
       "      <td>8.371724</td>\n",
       "      <td>6.655668</td>\n",
       "      <td>10.253121</td>\n",
       "      <td>None</td>\n",
       "      <td>2024-02-29T16:06:41.017+01:00</td>\n",
       "      <td>2016</td>\n",
       "      <td>2016-01-01T00:00:00+01:00</td>\n",
       "      <td>2016-12-31T00:00:00+01:00</td>\n",
       "      <td>Adult</td>\n",
       "    </tr>\n",
       "    <tr>\n",
       "      <th>7</th>\n",
       "      <td>4075</td>\n",
       "      <td>NCD_BMI_18C</td>\n",
       "      <td>REGION</td>\n",
       "      <td>SEAR</td>\n",
       "      <td>None</td>\n",
       "      <td>YEAR</td>\n",
       "      <td>None</td>\n",
       "      <td>SEX</td>\n",
       "      <td>2021</td>\n",
       "      <td>SEX_BTSX</td>\n",
       "      <td>...</td>\n",
       "      <td>13.3 [12.2-14.4]</td>\n",
       "      <td>13.336353</td>\n",
       "      <td>12.242323</td>\n",
       "      <td>14.442866</td>\n",
       "      <td>None</td>\n",
       "      <td>2024-02-29T16:06:41.017+01:00</td>\n",
       "      <td>2021</td>\n",
       "      <td>2021-01-01T00:00:00+01:00</td>\n",
       "      <td>2021-12-31T00:00:00+01:00</td>\n",
       "      <td>Adult</td>\n",
       "    </tr>\n",
       "    <tr>\n",
       "      <th>9</th>\n",
       "      <td>4958</td>\n",
       "      <td>NCD_BMI_18C</td>\n",
       "      <td>COUNTRY</td>\n",
       "      <td>QAT</td>\n",
       "      <td>EMR</td>\n",
       "      <td>YEAR</td>\n",
       "      <td>Eastern Mediterranean</td>\n",
       "      <td>SEX</td>\n",
       "      <td>2014</td>\n",
       "      <td>SEX_MLE</td>\n",
       "      <td>...</td>\n",
       "      <td>2.2 [1.3-3.5]</td>\n",
       "      <td>2.208070</td>\n",
       "      <td>1.253843</td>\n",
       "      <td>3.516819</td>\n",
       "      <td>None</td>\n",
       "      <td>2024-02-29T16:06:41.017+01:00</td>\n",
       "      <td>2014</td>\n",
       "      <td>2014-01-01T00:00:00+01:00</td>\n",
       "      <td>2014-12-31T00:00:00+01:00</td>\n",
       "      <td>Adult</td>\n",
       "    </tr>\n",
       "  </tbody>\n",
       "</table>\n",
       "<p>5 rows × 26 columns</p>\n",
       "</div>"
      ],
      "text/plain": [
       "     Id IndicatorCode SpatialDimType SpatialDim ParentLocationCode  \\\n",
       "0    53   NCD_BMI_18C        COUNTRY        GAB                AFR   \n",
       "4  2246   NCD_BMI_18C        COUNTRY        MNG                WPR   \n",
       "5  2552   NCD_BMI_18C        COUNTRY        SLE                AFR   \n",
       "7  4075   NCD_BMI_18C         REGION       SEAR               None   \n",
       "9  4958   NCD_BMI_18C        COUNTRY        QAT                EMR   \n",
       "\n",
       "  TimeDimType         ParentLocation Dim1Type  TimeDim      Dim1  ...  \\\n",
       "0        YEAR                 Africa      SEX     2021  SEX_FMLE  ...   \n",
       "4        YEAR        Western Pacific      SEX     2017  SEX_BTSX  ...   \n",
       "5        YEAR                 Africa      SEX     2016  SEX_FMLE  ...   \n",
       "7        YEAR                   None      SEX     2021  SEX_BTSX  ...   \n",
       "9        YEAR  Eastern Mediterranean      SEX     2014   SEX_MLE  ...   \n",
       "\n",
       "              Value NumericValue        Low       High Comments  \\\n",
       "0     5.8 [4.0-8.1]     5.795110   3.972036   8.077021     None   \n",
       "4     3.1 [2.4-3.8]     3.090652   2.428230   3.842155     None   \n",
       "5    8.4 [6.7-10.3]     8.371724   6.655668  10.253121     None   \n",
       "7  13.3 [12.2-14.4]    13.336353  12.242323  14.442866     None   \n",
       "9     2.2 [1.3-3.5]     2.208070   1.253843   3.516819     None   \n",
       "\n",
       "                            Date TimeDimensionValue  \\\n",
       "0  2024-02-29T16:06:41.017+01:00               2021   \n",
       "4  2024-02-29T16:06:41.017+01:00               2017   \n",
       "5  2024-02-29T16:06:41.017+01:00               2016   \n",
       "7  2024-02-29T16:06:41.017+01:00               2021   \n",
       "9  2024-02-29T16:06:41.017+01:00               2014   \n",
       "\n",
       "          TimeDimensionBegin           TimeDimensionEnd  AgeGroup  \n",
       "0  2021-01-01T00:00:00+01:00  2021-12-31T00:00:00+01:00     Adult  \n",
       "4  2017-01-01T00:00:00+01:00  2017-12-31T00:00:00+01:00     Adult  \n",
       "5  2016-01-01T00:00:00+01:00  2016-12-31T00:00:00+01:00     Adult  \n",
       "7  2021-01-01T00:00:00+01:00  2021-12-31T00:00:00+01:00     Adult  \n",
       "9  2014-01-01T00:00:00+01:00  2014-12-31T00:00:00+01:00     Adult  \n",
       "\n",
       "[5 rows x 26 columns]"
      ]
     },
     "execution_count": 36,
     "metadata": {},
     "output_type": "execute_result"
    }
   ],
   "source": [
    "#choose the year gap from 2012 to 2022\n",
    "df_malnut =df_malnut[(df_malnut['TimeDim']>=2012)&(df_malnut['TimeDim']<=2022)]\n",
    "df_malnut.head()"
   ]
  },
  {
   "cell_type": "code",
   "execution_count": 37,
   "id": "f59d77b1-da84-4ff0-be09-34c86814f08d",
   "metadata": {},
   "outputs": [
    {
     "data": {
      "text/plain": [
       "['Id',\n",
       " 'IndicatorCode',\n",
       " 'SpatialDimType',\n",
       " 'SpatialDim',\n",
       " 'ParentLocationCode',\n",
       " 'TimeDimType',\n",
       " 'ParentLocation',\n",
       " 'Dim1Type',\n",
       " 'TimeDim',\n",
       " 'Dim1',\n",
       " 'Dim2Type',\n",
       " 'Dim2',\n",
       " 'Dim3Type',\n",
       " 'Dim3',\n",
       " 'DataSourceDimType',\n",
       " 'DataSourceDim',\n",
       " 'Value',\n",
       " 'NumericValue',\n",
       " 'Low',\n",
       " 'High',\n",
       " 'Comments',\n",
       " 'Date',\n",
       " 'TimeDimensionValue',\n",
       " 'TimeDimensionBegin',\n",
       " 'TimeDimensionEnd',\n",
       " 'AgeGroup']"
      ]
     },
     "execution_count": 37,
     "metadata": {},
     "output_type": "execute_result"
    }
   ],
   "source": [
    "df_obese.columns.tolist()"
   ]
  },
  {
   "cell_type": "code",
   "execution_count": 38,
   "id": "e171d9c4-01d2-428c-b25a-a56ee207af0a",
   "metadata": {},
   "outputs": [],
   "source": [
    "#remove unnecessary columns\n",
    "df_obese = df_obese[['ParentLocation','Dim1','TimeDim','Low','High','NumericValue','SpatialDim','AgeGroup']]"
   ]
  },
  {
   "cell_type": "code",
   "execution_count": 39,
   "id": "1dc01433-ba66-4522-9c0b-802df194597b",
   "metadata": {},
   "outputs": [],
   "source": [
    "#remove unnecessary columns\n",
    "df_malnut = df_malnut[['ParentLocation','Dim1','TimeDim','Low','High','NumericValue','SpatialDim','AgeGroup']]"
   ]
  },
  {
   "cell_type": "code",
   "execution_count": 40,
   "id": "2d2bab6a-b958-47f6-a220-3d1eb116ddb8",
   "metadata": {
    "scrolled": true
   },
   "outputs": [
    {
     "name": "stderr",
     "output_type": "stream",
     "text": [
      "/var/folders/5j/dqld7g010pn_g3494p0p7yqw0000gn/T/ipykernel_47351/2280087727.py:2: SettingWithCopyWarning: \n",
      "A value is trying to be set on a copy of a slice from a DataFrame\n",
      "\n",
      "See the caveats in the documentation: https://pandas.pydata.org/pandas-docs/stable/user_guide/indexing.html#returning-a-view-versus-a-copy\n",
      "  df_obese.rename(columns={'ParentLocation' : 'Region','Dim1':'Gender','TimeDim':'Year','Low':'Lower_Bound','High':'Upper_bound','NumericValue':'Mean_Estimate','SpatialDim':'Country'},inplace = True)\n",
      "/var/folders/5j/dqld7g010pn_g3494p0p7yqw0000gn/T/ipykernel_47351/2280087727.py:3: SettingWithCopyWarning: \n",
      "A value is trying to be set on a copy of a slice from a DataFrame.\n",
      "Try using .loc[row_indexer,col_indexer] = value instead\n",
      "\n",
      "See the caveats in the documentation: https://pandas.pydata.org/pandas-docs/stable/user_guide/indexing.html#returning-a-view-versus-a-copy\n",
      "  df_obese['Gender']=df_obese['Gender'].replace({'SEX_MLE':'Male','SEX_FMLE':'Female','SEX_BTSX':'Both'})\n"
     ]
    },
    {
     "data": {
      "text/html": [
       "<div>\n",
       "<style scoped>\n",
       "    .dataframe tbody tr th:only-of-type {\n",
       "        vertical-align: middle;\n",
       "    }\n",
       "\n",
       "    .dataframe tbody tr th {\n",
       "        vertical-align: top;\n",
       "    }\n",
       "\n",
       "    .dataframe thead th {\n",
       "        text-align: right;\n",
       "    }\n",
       "</style>\n",
       "<table border=\"1\" class=\"dataframe\">\n",
       "  <thead>\n",
       "    <tr style=\"text-align: right;\">\n",
       "      <th></th>\n",
       "      <th>Region</th>\n",
       "      <th>Gender</th>\n",
       "      <th>Year</th>\n",
       "      <th>Lower_Bound</th>\n",
       "      <th>Upper_bound</th>\n",
       "      <th>Mean_Estimate</th>\n",
       "      <th>Country</th>\n",
       "      <th>AgeGroup</th>\n",
       "    </tr>\n",
       "  </thead>\n",
       "  <tbody>\n",
       "    <tr>\n",
       "      <th>1</th>\n",
       "      <td>South-East Asia</td>\n",
       "      <td>Male</td>\n",
       "      <td>2013</td>\n",
       "      <td>3.004463</td>\n",
       "      <td>4.399506</td>\n",
       "      <td>3.682037</td>\n",
       "      <td>LKA</td>\n",
       "      <td>Adult</td>\n",
       "    </tr>\n",
       "    <tr>\n",
       "      <th>4</th>\n",
       "      <td>Eastern Mediterranean</td>\n",
       "      <td>Male</td>\n",
       "      <td>2020</td>\n",
       "      <td>15.793777</td>\n",
       "      <td>19.245727</td>\n",
       "      <td>17.487641</td>\n",
       "      <td>IRN</td>\n",
       "      <td>Adult</td>\n",
       "    </tr>\n",
       "    <tr>\n",
       "      <th>11</th>\n",
       "      <td>Eastern Mediterranean</td>\n",
       "      <td>Male</td>\n",
       "      <td>2020</td>\n",
       "      <td>23.089589</td>\n",
       "      <td>33.815336</td>\n",
       "      <td>28.335530</td>\n",
       "      <td>IRQ</td>\n",
       "      <td>Adult</td>\n",
       "    </tr>\n",
       "    <tr>\n",
       "      <th>17</th>\n",
       "      <td>Europe</td>\n",
       "      <td>Female</td>\n",
       "      <td>2014</td>\n",
       "      <td>24.924766</td>\n",
       "      <td>31.213260</td>\n",
       "      <td>27.948704</td>\n",
       "      <td>GRL</td>\n",
       "      <td>Adult</td>\n",
       "    </tr>\n",
       "    <tr>\n",
       "      <th>19</th>\n",
       "      <td>Europe</td>\n",
       "      <td>Female</td>\n",
       "      <td>2019</td>\n",
       "      <td>28.160682</td>\n",
       "      <td>35.574925</td>\n",
       "      <td>31.893221</td>\n",
       "      <td>ARM</td>\n",
       "      <td>Adult</td>\n",
       "    </tr>\n",
       "    <tr>\n",
       "      <th>20</th>\n",
       "      <td>Europe</td>\n",
       "      <td>Both</td>\n",
       "      <td>2018</td>\n",
       "      <td>29.905805</td>\n",
       "      <td>37.470856</td>\n",
       "      <td>33.694205</td>\n",
       "      <td>MLT</td>\n",
       "      <td>Adult</td>\n",
       "    </tr>\n",
       "    <tr>\n",
       "      <th>23</th>\n",
       "      <td>Americas</td>\n",
       "      <td>Female</td>\n",
       "      <td>2021</td>\n",
       "      <td>37.527829</td>\n",
       "      <td>46.368906</td>\n",
       "      <td>41.919816</td>\n",
       "      <td>PAN</td>\n",
       "      <td>Adult</td>\n",
       "    </tr>\n",
       "    <tr>\n",
       "      <th>24</th>\n",
       "      <td>South-East Asia</td>\n",
       "      <td>Both</td>\n",
       "      <td>2015</td>\n",
       "      <td>4.505710</td>\n",
       "      <td>5.061039</td>\n",
       "      <td>4.778455</td>\n",
       "      <td>IND</td>\n",
       "      <td>Adult</td>\n",
       "    </tr>\n",
       "    <tr>\n",
       "      <th>26</th>\n",
       "      <td>Africa</td>\n",
       "      <td>Male</td>\n",
       "      <td>2015</td>\n",
       "      <td>1.292387</td>\n",
       "      <td>3.989719</td>\n",
       "      <td>2.371328</td>\n",
       "      <td>MDG</td>\n",
       "      <td>Adult</td>\n",
       "    </tr>\n",
       "    <tr>\n",
       "      <th>27</th>\n",
       "      <td>Africa</td>\n",
       "      <td>Both</td>\n",
       "      <td>2014</td>\n",
       "      <td>4.583484</td>\n",
       "      <td>6.641459</td>\n",
       "      <td>5.516195</td>\n",
       "      <td>GIN</td>\n",
       "      <td>Adult</td>\n",
       "    </tr>\n",
       "  </tbody>\n",
       "</table>\n",
       "</div>"
      ],
      "text/plain": [
       "                   Region  Gender  Year  Lower_Bound  Upper_bound  \\\n",
       "1         South-East Asia    Male  2013     3.004463     4.399506   \n",
       "4   Eastern Mediterranean    Male  2020    15.793777    19.245727   \n",
       "11  Eastern Mediterranean    Male  2020    23.089589    33.815336   \n",
       "17                 Europe  Female  2014    24.924766    31.213260   \n",
       "19                 Europe  Female  2019    28.160682    35.574925   \n",
       "20                 Europe    Both  2018    29.905805    37.470856   \n",
       "23               Americas  Female  2021    37.527829    46.368906   \n",
       "24        South-East Asia    Both  2015     4.505710     5.061039   \n",
       "26                 Africa    Male  2015     1.292387     3.989719   \n",
       "27                 Africa    Both  2014     4.583484     6.641459   \n",
       "\n",
       "    Mean_Estimate Country AgeGroup  \n",
       "1        3.682037     LKA    Adult  \n",
       "4       17.487641     IRN    Adult  \n",
       "11      28.335530     IRQ    Adult  \n",
       "17      27.948704     GRL    Adult  \n",
       "19      31.893221     ARM    Adult  \n",
       "20      33.694205     MLT    Adult  \n",
       "23      41.919816     PAN    Adult  \n",
       "24       4.778455     IND    Adult  \n",
       "26       2.371328     MDG    Adult  \n",
       "27       5.516195     GIN    Adult  "
      ]
     },
     "execution_count": 40,
     "metadata": {},
     "output_type": "execute_result"
    }
   ],
   "source": [
    "#rename the columns for better understanding\n",
    "df_obese.rename(columns={'ParentLocation' : 'Region','Dim1':'Gender','TimeDim':'Year','Low':'Lower_Bound','High':'Upper_bound','NumericValue':'Mean_Estimate','SpatialDim':'Country'},inplace = True)\n",
    "df_obese['Gender']=df_obese['Gender'].replace({'SEX_MLE':'Male','SEX_FMLE':'Female','SEX_BTSX':'Both'})\n",
    "df_obese.head(10)\n"
   ]
  },
  {
   "cell_type": "code",
   "execution_count": 41,
   "id": "8d373bda-5b0a-4f07-9083-e65274cf5744",
   "metadata": {},
   "outputs": [
    {
     "data": {
      "text/html": [
       "<div>\n",
       "<style scoped>\n",
       "    .dataframe tbody tr th:only-of-type {\n",
       "        vertical-align: middle;\n",
       "    }\n",
       "\n",
       "    .dataframe tbody tr th {\n",
       "        vertical-align: top;\n",
       "    }\n",
       "\n",
       "    .dataframe thead th {\n",
       "        text-align: right;\n",
       "    }\n",
       "</style>\n",
       "<table border=\"1\" class=\"dataframe\">\n",
       "  <thead>\n",
       "    <tr style=\"text-align: right;\">\n",
       "      <th></th>\n",
       "      <th>Region</th>\n",
       "      <th>Gender</th>\n",
       "      <th>Year</th>\n",
       "      <th>Lower_Bound</th>\n",
       "      <th>Upper_bound</th>\n",
       "      <th>Mean_Estimate</th>\n",
       "      <th>Country</th>\n",
       "      <th>AgeGroup</th>\n",
       "    </tr>\n",
       "  </thead>\n",
       "  <tbody>\n",
       "    <tr>\n",
       "      <th>0</th>\n",
       "      <td>Africa</td>\n",
       "      <td>Female</td>\n",
       "      <td>2021</td>\n",
       "      <td>3.972036</td>\n",
       "      <td>8.077021</td>\n",
       "      <td>5.795110</td>\n",
       "      <td>GAB</td>\n",
       "      <td>Adult</td>\n",
       "    </tr>\n",
       "    <tr>\n",
       "      <th>4</th>\n",
       "      <td>Western Pacific</td>\n",
       "      <td>Both</td>\n",
       "      <td>2017</td>\n",
       "      <td>2.428230</td>\n",
       "      <td>3.842155</td>\n",
       "      <td>3.090652</td>\n",
       "      <td>MNG</td>\n",
       "      <td>Adult</td>\n",
       "    </tr>\n",
       "    <tr>\n",
       "      <th>5</th>\n",
       "      <td>Africa</td>\n",
       "      <td>Female</td>\n",
       "      <td>2016</td>\n",
       "      <td>6.655668</td>\n",
       "      <td>10.253121</td>\n",
       "      <td>8.371724</td>\n",
       "      <td>SLE</td>\n",
       "      <td>Adult</td>\n",
       "    </tr>\n",
       "    <tr>\n",
       "      <th>7</th>\n",
       "      <td>None</td>\n",
       "      <td>Both</td>\n",
       "      <td>2021</td>\n",
       "      <td>12.242323</td>\n",
       "      <td>14.442866</td>\n",
       "      <td>13.336353</td>\n",
       "      <td>SEAR</td>\n",
       "      <td>Adult</td>\n",
       "    </tr>\n",
       "    <tr>\n",
       "      <th>9</th>\n",
       "      <td>Eastern Mediterranean</td>\n",
       "      <td>Male</td>\n",
       "      <td>2014</td>\n",
       "      <td>1.253843</td>\n",
       "      <td>3.516819</td>\n",
       "      <td>2.208070</td>\n",
       "      <td>QAT</td>\n",
       "      <td>Adult</td>\n",
       "    </tr>\n",
       "    <tr>\n",
       "      <th>18</th>\n",
       "      <td>Europe</td>\n",
       "      <td>Male</td>\n",
       "      <td>2016</td>\n",
       "      <td>1.620023</td>\n",
       "      <td>3.592917</td>\n",
       "      <td>2.485100</td>\n",
       "      <td>UZB</td>\n",
       "      <td>Adult</td>\n",
       "    </tr>\n",
       "    <tr>\n",
       "      <th>19</th>\n",
       "      <td>Europe</td>\n",
       "      <td>Male</td>\n",
       "      <td>2016</td>\n",
       "      <td>1.080912</td>\n",
       "      <td>1.517122</td>\n",
       "      <td>1.286515</td>\n",
       "      <td>GBR</td>\n",
       "      <td>Adult</td>\n",
       "    </tr>\n",
       "    <tr>\n",
       "      <th>21</th>\n",
       "      <td>Americas</td>\n",
       "      <td>Both</td>\n",
       "      <td>2017</td>\n",
       "      <td>1.753235</td>\n",
       "      <td>5.004670</td>\n",
       "      <td>3.053979</td>\n",
       "      <td>HND</td>\n",
       "      <td>Adult</td>\n",
       "    </tr>\n",
       "    <tr>\n",
       "      <th>24</th>\n",
       "      <td>Western Pacific</td>\n",
       "      <td>Female</td>\n",
       "      <td>2017</td>\n",
       "      <td>1.676187</td>\n",
       "      <td>5.794811</td>\n",
       "      <td>3.391189</td>\n",
       "      <td>VUT</td>\n",
       "      <td>Adult</td>\n",
       "    </tr>\n",
       "    <tr>\n",
       "      <th>26</th>\n",
       "      <td>Europe</td>\n",
       "      <td>Male</td>\n",
       "      <td>2020</td>\n",
       "      <td>0.388338</td>\n",
       "      <td>1.995449</td>\n",
       "      <td>0.966038</td>\n",
       "      <td>MNE</td>\n",
       "      <td>Adult</td>\n",
       "    </tr>\n",
       "  </tbody>\n",
       "</table>\n",
       "</div>"
      ],
      "text/plain": [
       "                   Region  Gender  Year  Lower_Bound  Upper_bound  \\\n",
       "0                  Africa  Female  2021     3.972036     8.077021   \n",
       "4         Western Pacific    Both  2017     2.428230     3.842155   \n",
       "5                  Africa  Female  2016     6.655668    10.253121   \n",
       "7                    None    Both  2021    12.242323    14.442866   \n",
       "9   Eastern Mediterranean    Male  2014     1.253843     3.516819   \n",
       "18                 Europe    Male  2016     1.620023     3.592917   \n",
       "19                 Europe    Male  2016     1.080912     1.517122   \n",
       "21               Americas    Both  2017     1.753235     5.004670   \n",
       "24        Western Pacific  Female  2017     1.676187     5.794811   \n",
       "26                 Europe    Male  2020     0.388338     1.995449   \n",
       "\n",
       "    Mean_Estimate Country AgeGroup  \n",
       "0        5.795110     GAB    Adult  \n",
       "4        3.090652     MNG    Adult  \n",
       "5        8.371724     SLE    Adult  \n",
       "7       13.336353    SEAR    Adult  \n",
       "9        2.208070     QAT    Adult  \n",
       "18       2.485100     UZB    Adult  \n",
       "19       1.286515     GBR    Adult  \n",
       "21       3.053979     HND    Adult  \n",
       "24       3.391189     VUT    Adult  \n",
       "26       0.966038     MNE    Adult  "
      ]
     },
     "execution_count": 41,
     "metadata": {},
     "output_type": "execute_result"
    }
   ],
   "source": [
    "#rename the column for better understanding\n",
    "df_malnut.rename(columns={'ParentLocation' : 'Region','Dim1':'Gender','TimeDim':'Year','Low':'Lower_Bound','High':'Upper_bound','NumericValue':'Mean_Estimate','SpatialDim':'Country'},inplace = True)\n",
    "df_malnut['Gender']=df_malnut['Gender'].replace({'SEX_MLE':'Male','SEX_FMLE':'Female','SEX_BTSX':'Both'})\n",
    "df_malnut.head(10)"
   ]
  },
  {
   "cell_type": "code",
   "execution_count": 42,
   "id": "012a5e41-2475-4d3e-8f62-1cee68de7d36",
   "metadata": {},
   "outputs": [
    {
     "data": {
      "text/plain": [
       "Region           1452\n",
       "Gender              0\n",
       "Year                0\n",
       "Lower_Bound         0\n",
       "Upper_bound         0\n",
       "Mean_Estimate       0\n",
       "Country             0\n",
       "AgeGroup            0\n",
       "dtype: int64"
      ]
     },
     "execution_count": 42,
     "metadata": {},
     "output_type": "execute_result"
    }
   ],
   "source": [
    "#check for missing values\n",
    "df_malnut.isnull().sum()"
   ]
  },
  {
   "cell_type": "code",
   "execution_count": 43,
   "id": "47a78459-f3c9-46bb-841e-c8bff8bd3dd6",
   "metadata": {},
   "outputs": [
    {
     "data": {
      "text/plain": [
       "Index(['Region', 'Gender', 'Year', 'Lower_Bound', 'Upper_bound',\n",
       "       'Mean_Estimate', 'Country', 'AgeGroup'],\n",
       "      dtype='object')"
      ]
     },
     "execution_count": 43,
     "metadata": {},
     "output_type": "execute_result"
    }
   ],
   "source": [
    "df_malnut.keys()"
   ]
  },
  {
   "cell_type": "code",
   "execution_count": 44,
   "id": "90e0ef8a-cf96-4567-aa18-28b4db8196f6",
   "metadata": {},
   "outputs": [
    {
     "data": {
      "text/plain": [
       "['Region',\n",
       " 'Gender',\n",
       " 'Year',\n",
       " 'Lower_Bound',\n",
       " 'Upper_bound',\n",
       " 'Mean_Estimate',\n",
       " 'Country',\n",
       " 'AgeGroup']"
      ]
     },
     "execution_count": 44,
     "metadata": {},
     "output_type": "execute_result"
    }
   ],
   "source": [
    "df_obese.columns.tolist()"
   ]
  },
  {
   "cell_type": "code",
   "execution_count": 60,
   "id": "1bafceae-4029-4873-8bf0-806a2dc6ee0c",
   "metadata": {
    "scrolled": true
   },
   "outputs": [
    {
     "name": "stdout",
     "output_type": "stream",
     "text": [
      "Requirement already satisfied: pymysql in /opt/anaconda3/lib/python3.12/site-packages (1.1.1)\n"
     ]
    }
   ],
   "source": [
    "#install sql\n",
    "!pip install pymysql"
   ]
  },
  {
   "cell_type": "code",
   "execution_count": 62,
   "id": "513334ed-399f-4b90-8012-56e1120dc67f",
   "metadata": {},
   "outputs": [],
   "source": [
    "import pymysql"
   ]
  },
  {
   "cell_type": "code",
   "execution_count": 64,
   "id": "c3046f7d-229b-446f-b148-0bdd1f5d2a72",
   "metadata": {
    "scrolled": true
   },
   "outputs": [
    {
     "ename": "SyntaxError",
     "evalue": "invalid syntax (3417855741.py, line 2)",
     "output_type": "error",
     "traceback": [
      "\u001b[0;36m  Cell \u001b[0;32mIn[64], line 2\u001b[0;36m\u001b[0m\n\u001b[0;31m    pip install pycountry\u001b[0m\n\u001b[0m        ^\u001b[0m\n\u001b[0;31mSyntaxError\u001b[0m\u001b[0;31m:\u001b[0m invalid syntax\n"
     ]
    }
   ],
   "source": [
    "#install pycountry to extract the fullname of the countries \n",
    "pip install pycountry"
   ]
  },
  {
   "cell_type": "code",
   "execution_count": 66,
   "id": "9aee920d-a3f9-48e5-aa9f-2b764fb5cb36",
   "metadata": {},
   "outputs": [],
   "source": [
    "import pycountry as pc"
   ]
  },
  {
   "cell_type": "code",
   "execution_count": 68,
   "id": "a6478f92-6134-47a4-a2e3-db5b0130fce4",
   "metadata": {},
   "outputs": [
    {
     "data": {
      "text/plain": [
       "array(['Africa', 'Western Pacific', None, 'Eastern Mediterranean',\n",
       "       'Europe', 'Americas', 'South-East Asia'], dtype=object)"
      ]
     },
     "execution_count": 68,
     "metadata": {},
     "output_type": "execute_result"
    }
   ],
   "source": [
    "df_malnut['Region'].unique()"
   ]
  },
  {
   "cell_type": "code",
   "execution_count": 70,
   "id": "73f096d9-1ea0-438e-b0ec-80d860dfee80",
   "metadata": {},
   "outputs": [],
   "source": [
    "#country names which are not available to extract  \n",
    "special_cases = {\n",
    "                    'GLOBAL': 'Global',\n",
    "                    'WB_LMI': 'Low & Middle Income',\n",
    "                    'WB_HI': 'High Income',\n",
    "                    'WB_LI': 'Low Income',\n",
    "                    'EMR': 'Eastern Mediterranean Region',\n",
    "                    'EUR': 'Europe',\n",
    "                    'AFR': 'Africa',\n",
    "                    'SEAR': 'South-East Asia Region',\n",
    "                    'WPR': 'Western Pacific Region',\n",
    "                    'AMR': 'Americas Region',\n",
    "                    'WB_UMI': 'Upper Middle Income'}"
   ]
  },
  {
   "cell_type": "code",
   "execution_count": 72,
   "id": "8ffc9d7a-65a5-4b06-8c59-563c6e508418",
   "metadata": {},
   "outputs": [],
   "source": [
    "def get_country_name(code):\n",
    "    try:\n",
    "        return pc.countries.get(alpha_3=code).name\n",
    "    except:\n",
    "        pass\n",
    "    return special_cases.get(code,None)"
   ]
  },
  {
   "cell_type": "code",
   "execution_count": 74,
   "id": "22148b8a-43dd-401e-9857-be5cb33d933e",
   "metadata": {},
   "outputs": [
    {
     "data": {
      "text/plain": [
       "<function __main__.get_country_name(code)>"
      ]
     },
     "execution_count": 74,
     "metadata": {},
     "output_type": "execute_result"
    }
   ],
   "source": [
    "get_country_name"
   ]
  },
  {
   "cell_type": "code",
   "execution_count": 76,
   "id": "e7fc73bf-249f-497a-8e17-566fbca150d7",
   "metadata": {},
   "outputs": [
    {
     "name": "stderr",
     "output_type": "stream",
     "text": [
      "/var/folders/5j/dqld7g010pn_g3494p0p7yqw0000gn/T/ipykernel_47351/2153295278.py:1: SettingWithCopyWarning: \n",
      "A value is trying to be set on a copy of a slice from a DataFrame.\n",
      "Try using .loc[row_indexer,col_indexer] = value instead\n",
      "\n",
      "See the caveats in the documentation: https://pandas.pydata.org/pandas-docs/stable/user_guide/indexing.html#returning-a-view-versus-a-copy\n",
      "  df_obese['Country_Name'] = df_obese['Country'].apply(get_country_name)\n"
     ]
    }
   ],
   "source": [
    "df_obese['Country_Name'] = df_obese['Country'].apply(get_country_name)"
   ]
  },
  {
   "cell_type": "code",
   "execution_count": 78,
   "id": "e96c4404-6044-482a-a12f-3fde7380a11b",
   "metadata": {
    "jupyter": {
     "source_hidden": true
    }
   },
   "outputs": [
    {
     "data": {
      "text/html": [
       "<div>\n",
       "<style scoped>\n",
       "    .dataframe tbody tr th:only-of-type {\n",
       "        vertical-align: middle;\n",
       "    }\n",
       "\n",
       "    .dataframe tbody tr th {\n",
       "        vertical-align: top;\n",
       "    }\n",
       "\n",
       "    .dataframe thead th {\n",
       "        text-align: right;\n",
       "    }\n",
       "</style>\n",
       "<table border=\"1\" class=\"dataframe\">\n",
       "  <thead>\n",
       "    <tr style=\"text-align: right;\">\n",
       "      <th></th>\n",
       "      <th>Region</th>\n",
       "      <th>Gender</th>\n",
       "      <th>Year</th>\n",
       "      <th>Lower_Bound</th>\n",
       "      <th>Upper_bound</th>\n",
       "      <th>Mean_Estimate</th>\n",
       "      <th>Country</th>\n",
       "      <th>AgeGroup</th>\n",
       "      <th>Country_Name</th>\n",
       "    </tr>\n",
       "  </thead>\n",
       "  <tbody>\n",
       "    <tr>\n",
       "      <th>1</th>\n",
       "      <td>South-East Asia</td>\n",
       "      <td>Male</td>\n",
       "      <td>2013</td>\n",
       "      <td>3.004463</td>\n",
       "      <td>4.399506</td>\n",
       "      <td>3.682037</td>\n",
       "      <td>LKA</td>\n",
       "      <td>Adult</td>\n",
       "      <td>Sri Lanka</td>\n",
       "    </tr>\n",
       "    <tr>\n",
       "      <th>4</th>\n",
       "      <td>Eastern Mediterranean</td>\n",
       "      <td>Male</td>\n",
       "      <td>2020</td>\n",
       "      <td>15.793777</td>\n",
       "      <td>19.245727</td>\n",
       "      <td>17.487641</td>\n",
       "      <td>IRN</td>\n",
       "      <td>Adult</td>\n",
       "      <td>Iran, Islamic Republic of</td>\n",
       "    </tr>\n",
       "    <tr>\n",
       "      <th>11</th>\n",
       "      <td>Eastern Mediterranean</td>\n",
       "      <td>Male</td>\n",
       "      <td>2020</td>\n",
       "      <td>23.089589</td>\n",
       "      <td>33.815336</td>\n",
       "      <td>28.335530</td>\n",
       "      <td>IRQ</td>\n",
       "      <td>Adult</td>\n",
       "      <td>Iraq</td>\n",
       "    </tr>\n",
       "    <tr>\n",
       "      <th>17</th>\n",
       "      <td>Europe</td>\n",
       "      <td>Female</td>\n",
       "      <td>2014</td>\n",
       "      <td>24.924766</td>\n",
       "      <td>31.213260</td>\n",
       "      <td>27.948704</td>\n",
       "      <td>GRL</td>\n",
       "      <td>Adult</td>\n",
       "      <td>Greenland</td>\n",
       "    </tr>\n",
       "    <tr>\n",
       "      <th>19</th>\n",
       "      <td>Europe</td>\n",
       "      <td>Female</td>\n",
       "      <td>2019</td>\n",
       "      <td>28.160682</td>\n",
       "      <td>35.574925</td>\n",
       "      <td>31.893221</td>\n",
       "      <td>ARM</td>\n",
       "      <td>Adult</td>\n",
       "      <td>Armenia</td>\n",
       "    </tr>\n",
       "    <tr>\n",
       "      <th>20</th>\n",
       "      <td>Europe</td>\n",
       "      <td>Both</td>\n",
       "      <td>2018</td>\n",
       "      <td>29.905805</td>\n",
       "      <td>37.470856</td>\n",
       "      <td>33.694205</td>\n",
       "      <td>MLT</td>\n",
       "      <td>Adult</td>\n",
       "      <td>Malta</td>\n",
       "    </tr>\n",
       "    <tr>\n",
       "      <th>23</th>\n",
       "      <td>Americas</td>\n",
       "      <td>Female</td>\n",
       "      <td>2021</td>\n",
       "      <td>37.527829</td>\n",
       "      <td>46.368906</td>\n",
       "      <td>41.919816</td>\n",
       "      <td>PAN</td>\n",
       "      <td>Adult</td>\n",
       "      <td>Panama</td>\n",
       "    </tr>\n",
       "    <tr>\n",
       "      <th>24</th>\n",
       "      <td>South-East Asia</td>\n",
       "      <td>Both</td>\n",
       "      <td>2015</td>\n",
       "      <td>4.505710</td>\n",
       "      <td>5.061039</td>\n",
       "      <td>4.778455</td>\n",
       "      <td>IND</td>\n",
       "      <td>Adult</td>\n",
       "      <td>India</td>\n",
       "    </tr>\n",
       "    <tr>\n",
       "      <th>26</th>\n",
       "      <td>Africa</td>\n",
       "      <td>Male</td>\n",
       "      <td>2015</td>\n",
       "      <td>1.292387</td>\n",
       "      <td>3.989719</td>\n",
       "      <td>2.371328</td>\n",
       "      <td>MDG</td>\n",
       "      <td>Adult</td>\n",
       "      <td>Madagascar</td>\n",
       "    </tr>\n",
       "    <tr>\n",
       "      <th>27</th>\n",
       "      <td>Africa</td>\n",
       "      <td>Both</td>\n",
       "      <td>2014</td>\n",
       "      <td>4.583484</td>\n",
       "      <td>6.641459</td>\n",
       "      <td>5.516195</td>\n",
       "      <td>GIN</td>\n",
       "      <td>Adult</td>\n",
       "      <td>Guinea</td>\n",
       "    </tr>\n",
       "  </tbody>\n",
       "</table>\n",
       "</div>"
      ],
      "text/plain": [
       "                   Region  Gender  Year  Lower_Bound  Upper_bound  \\\n",
       "1         South-East Asia    Male  2013     3.004463     4.399506   \n",
       "4   Eastern Mediterranean    Male  2020    15.793777    19.245727   \n",
       "11  Eastern Mediterranean    Male  2020    23.089589    33.815336   \n",
       "17                 Europe  Female  2014    24.924766    31.213260   \n",
       "19                 Europe  Female  2019    28.160682    35.574925   \n",
       "20                 Europe    Both  2018    29.905805    37.470856   \n",
       "23               Americas  Female  2021    37.527829    46.368906   \n",
       "24        South-East Asia    Both  2015     4.505710     5.061039   \n",
       "26                 Africa    Male  2015     1.292387     3.989719   \n",
       "27                 Africa    Both  2014     4.583484     6.641459   \n",
       "\n",
       "    Mean_Estimate Country AgeGroup               Country_Name  \n",
       "1        3.682037     LKA    Adult                  Sri Lanka  \n",
       "4       17.487641     IRN    Adult  Iran, Islamic Republic of  \n",
       "11      28.335530     IRQ    Adult                       Iraq  \n",
       "17      27.948704     GRL    Adult                  Greenland  \n",
       "19      31.893221     ARM    Adult                    Armenia  \n",
       "20      33.694205     MLT    Adult                      Malta  \n",
       "23      41.919816     PAN    Adult                     Panama  \n",
       "24       4.778455     IND    Adult                      India  \n",
       "26       2.371328     MDG    Adult                 Madagascar  \n",
       "27       5.516195     GIN    Adult                     Guinea  "
      ]
     },
     "execution_count": 78,
     "metadata": {},
     "output_type": "execute_result"
    }
   ],
   "source": [
    "df_obese.head(10)"
   ]
  },
  {
   "cell_type": "code",
   "execution_count": 80,
   "id": "33727f3c-d43a-4483-9159-497d1e4f24ee",
   "metadata": {},
   "outputs": [
    {
     "data": {
      "text/html": [
       "<div>\n",
       "<style scoped>\n",
       "    .dataframe tbody tr th:only-of-type {\n",
       "        vertical-align: middle;\n",
       "    }\n",
       "\n",
       "    .dataframe tbody tr th {\n",
       "        vertical-align: top;\n",
       "    }\n",
       "\n",
       "    .dataframe thead th {\n",
       "        text-align: right;\n",
       "    }\n",
       "</style>\n",
       "<table border=\"1\" class=\"dataframe\">\n",
       "  <thead>\n",
       "    <tr style=\"text-align: right;\">\n",
       "      <th></th>\n",
       "      <th>Region</th>\n",
       "      <th>Gender</th>\n",
       "      <th>Year</th>\n",
       "      <th>Lower_Bound</th>\n",
       "      <th>Upper_bound</th>\n",
       "      <th>Mean_Estimate</th>\n",
       "      <th>Country</th>\n",
       "      <th>AgeGroup</th>\n",
       "      <th>Country_Name</th>\n",
       "    </tr>\n",
       "  </thead>\n",
       "  <tbody>\n",
       "    <tr>\n",
       "      <th>0</th>\n",
       "      <td>Africa</td>\n",
       "      <td>Female</td>\n",
       "      <td>2021</td>\n",
       "      <td>3.972036</td>\n",
       "      <td>8.077021</td>\n",
       "      <td>5.795110</td>\n",
       "      <td>GAB</td>\n",
       "      <td>Adult</td>\n",
       "      <td>Gabon</td>\n",
       "    </tr>\n",
       "    <tr>\n",
       "      <th>4</th>\n",
       "      <td>Western Pacific</td>\n",
       "      <td>Both</td>\n",
       "      <td>2017</td>\n",
       "      <td>2.428230</td>\n",
       "      <td>3.842155</td>\n",
       "      <td>3.090652</td>\n",
       "      <td>MNG</td>\n",
       "      <td>Adult</td>\n",
       "      <td>Mongolia</td>\n",
       "    </tr>\n",
       "    <tr>\n",
       "      <th>5</th>\n",
       "      <td>Africa</td>\n",
       "      <td>Female</td>\n",
       "      <td>2016</td>\n",
       "      <td>6.655668</td>\n",
       "      <td>10.253121</td>\n",
       "      <td>8.371724</td>\n",
       "      <td>SLE</td>\n",
       "      <td>Adult</td>\n",
       "      <td>Sierra Leone</td>\n",
       "    </tr>\n",
       "    <tr>\n",
       "      <th>7</th>\n",
       "      <td>None</td>\n",
       "      <td>Both</td>\n",
       "      <td>2021</td>\n",
       "      <td>12.242323</td>\n",
       "      <td>14.442866</td>\n",
       "      <td>13.336353</td>\n",
       "      <td>SEAR</td>\n",
       "      <td>Adult</td>\n",
       "      <td>South-East Asia Region</td>\n",
       "    </tr>\n",
       "    <tr>\n",
       "      <th>9</th>\n",
       "      <td>Eastern Mediterranean</td>\n",
       "      <td>Male</td>\n",
       "      <td>2014</td>\n",
       "      <td>1.253843</td>\n",
       "      <td>3.516819</td>\n",
       "      <td>2.208070</td>\n",
       "      <td>QAT</td>\n",
       "      <td>Adult</td>\n",
       "      <td>Qatar</td>\n",
       "    </tr>\n",
       "  </tbody>\n",
       "</table>\n",
       "</div>"
      ],
      "text/plain": [
       "                  Region  Gender  Year  Lower_Bound  Upper_bound  \\\n",
       "0                 Africa  Female  2021     3.972036     8.077021   \n",
       "4        Western Pacific    Both  2017     2.428230     3.842155   \n",
       "5                 Africa  Female  2016     6.655668    10.253121   \n",
       "7                   None    Both  2021    12.242323    14.442866   \n",
       "9  Eastern Mediterranean    Male  2014     1.253843     3.516819   \n",
       "\n",
       "   Mean_Estimate Country AgeGroup            Country_Name  \n",
       "0       5.795110     GAB    Adult                   Gabon  \n",
       "4       3.090652     MNG    Adult                Mongolia  \n",
       "5       8.371724     SLE    Adult            Sierra Leone  \n",
       "7      13.336353    SEAR    Adult  South-East Asia Region  \n",
       "9       2.208070     QAT    Adult                   Qatar  "
      ]
     },
     "execution_count": 80,
     "metadata": {},
     "output_type": "execute_result"
    }
   ],
   "source": [
    "df_malnut['Country_Name'] = df_malnut['Country'].apply(get_country_name)\n",
    "df_malnut.head()"
   ]
  },
  {
   "cell_type": "code",
   "execution_count": 82,
   "id": "38de045d-f217-4c72-b250-47e623501ae8",
   "metadata": {
    "jupyter": {
     "source_hidden": true
    }
   },
   "outputs": [
    {
     "data": {
      "text/plain": [
       "Region           1452\n",
       "Gender              0\n",
       "Year                0\n",
       "Lower_Bound         0\n",
       "Upper_bound         0\n",
       "Mean_Estimate       0\n",
       "Country             0\n",
       "AgeGroup            0\n",
       "Country_Name        0\n",
       "dtype: int64"
      ]
     },
     "execution_count": 82,
     "metadata": {},
     "output_type": "execute_result"
    }
   ],
   "source": [
    "df_obese.isnull().sum()"
   ]
  },
  {
   "cell_type": "code",
   "execution_count": 84,
   "id": "d5b2a6ea-9eb2-45c7-b555-5f7a28de84a2",
   "metadata": {
    "jupyter": {
     "source_hidden": true
    }
   },
   "outputs": [
    {
     "data": {
      "text/html": [
       "<div>\n",
       "<style scoped>\n",
       "    .dataframe tbody tr th:only-of-type {\n",
       "        vertical-align: middle;\n",
       "    }\n",
       "\n",
       "    .dataframe tbody tr th {\n",
       "        vertical-align: top;\n",
       "    }\n",
       "\n",
       "    .dataframe thead th {\n",
       "        text-align: right;\n",
       "    }\n",
       "</style>\n",
       "<table border=\"1\" class=\"dataframe\">\n",
       "  <thead>\n",
       "    <tr style=\"text-align: right;\">\n",
       "      <th></th>\n",
       "      <th>Region</th>\n",
       "      <th>Gender</th>\n",
       "      <th>Year</th>\n",
       "      <th>Lower_Bound</th>\n",
       "      <th>Upper_bound</th>\n",
       "      <th>Mean_Estimate</th>\n",
       "      <th>Country</th>\n",
       "      <th>AgeGroup</th>\n",
       "      <th>Country_Name</th>\n",
       "    </tr>\n",
       "  </thead>\n",
       "  <tbody>\n",
       "    <tr>\n",
       "      <th>155</th>\n",
       "      <td>None</td>\n",
       "      <td>Female</td>\n",
       "      <td>2016</td>\n",
       "      <td>5.970943</td>\n",
       "      <td>6.696701</td>\n",
       "      <td>6.324915</td>\n",
       "      <td>WPR</td>\n",
       "      <td>Adult</td>\n",
       "      <td>Western Pacific Region</td>\n",
       "    </tr>\n",
       "    <tr>\n",
       "      <th>167</th>\n",
       "      <td>None</td>\n",
       "      <td>Female</td>\n",
       "      <td>2019</td>\n",
       "      <td>24.963759</td>\n",
       "      <td>26.624760</td>\n",
       "      <td>25.783622</td>\n",
       "      <td>WB_HI</td>\n",
       "      <td>Adult</td>\n",
       "      <td>High Income</td>\n",
       "    </tr>\n",
       "    <tr>\n",
       "      <th>251</th>\n",
       "      <td>None</td>\n",
       "      <td>Female</td>\n",
       "      <td>2017</td>\n",
       "      <td>12.172082</td>\n",
       "      <td>12.886313</td>\n",
       "      <td>12.520297</td>\n",
       "      <td>WB_LMI</td>\n",
       "      <td>Adult</td>\n",
       "      <td>Low &amp; Middle Income</td>\n",
       "    </tr>\n",
       "    <tr>\n",
       "      <th>352</th>\n",
       "      <td>None</td>\n",
       "      <td>Female</td>\n",
       "      <td>2022</td>\n",
       "      <td>9.591366</td>\n",
       "      <td>11.653028</td>\n",
       "      <td>10.585164</td>\n",
       "      <td>SEAR</td>\n",
       "      <td>Adult</td>\n",
       "      <td>South-East Asia Region</td>\n",
       "    </tr>\n",
       "    <tr>\n",
       "      <th>685</th>\n",
       "      <td>None</td>\n",
       "      <td>Male</td>\n",
       "      <td>2021</td>\n",
       "      <td>29.186985</td>\n",
       "      <td>32.267982</td>\n",
       "      <td>30.725309</td>\n",
       "      <td>AMR</td>\n",
       "      <td>Adult</td>\n",
       "      <td>Americas Region</td>\n",
       "    </tr>\n",
       "    <tr>\n",
       "      <th>...</th>\n",
       "      <td>...</td>\n",
       "      <td>...</td>\n",
       "      <td>...</td>\n",
       "      <td>...</td>\n",
       "      <td>...</td>\n",
       "      <td>...</td>\n",
       "      <td>...</td>\n",
       "      <td>...</td>\n",
       "      <td>...</td>\n",
       "    </tr>\n",
       "    <tr>\n",
       "      <th>82753</th>\n",
       "      <td>None</td>\n",
       "      <td>Male</td>\n",
       "      <td>2020</td>\n",
       "      <td>3.208165</td>\n",
       "      <td>6.375460</td>\n",
       "      <td>4.610661</td>\n",
       "      <td>WB_LI</td>\n",
       "      <td>Child</td>\n",
       "      <td>Low Income</td>\n",
       "    </tr>\n",
       "    <tr>\n",
       "      <th>82789</th>\n",
       "      <td>None</td>\n",
       "      <td>Male</td>\n",
       "      <td>2020</td>\n",
       "      <td>8.139845</td>\n",
       "      <td>9.995961</td>\n",
       "      <td>9.013220</td>\n",
       "      <td>EUR</td>\n",
       "      <td>Child</td>\n",
       "      <td>Europe</td>\n",
       "    </tr>\n",
       "    <tr>\n",
       "      <th>82807</th>\n",
       "      <td>None</td>\n",
       "      <td>Male</td>\n",
       "      <td>2014</td>\n",
       "      <td>3.995784</td>\n",
       "      <td>5.021876</td>\n",
       "      <td>4.487799</td>\n",
       "      <td>SEAR</td>\n",
       "      <td>Child</td>\n",
       "      <td>South-East Asia Region</td>\n",
       "    </tr>\n",
       "    <tr>\n",
       "      <th>82834</th>\n",
       "      <td>None</td>\n",
       "      <td>Male</td>\n",
       "      <td>2022</td>\n",
       "      <td>9.036333</td>\n",
       "      <td>14.086503</td>\n",
       "      <td>11.429928</td>\n",
       "      <td>EMR</td>\n",
       "      <td>Child</td>\n",
       "      <td>Eastern Mediterranean Region</td>\n",
       "    </tr>\n",
       "    <tr>\n",
       "      <th>83093</th>\n",
       "      <td>None</td>\n",
       "      <td>Male</td>\n",
       "      <td>2013</td>\n",
       "      <td>13.517177</td>\n",
       "      <td>14.528246</td>\n",
       "      <td>14.011872</td>\n",
       "      <td>WB_HI</td>\n",
       "      <td>Child</td>\n",
       "      <td>High Income</td>\n",
       "    </tr>\n",
       "  </tbody>\n",
       "</table>\n",
       "<p>1452 rows × 9 columns</p>\n",
       "</div>"
      ],
      "text/plain": [
       "      Region  Gender  Year  Lower_Bound  Upper_bound  Mean_Estimate Country  \\\n",
       "155     None  Female  2016     5.970943     6.696701       6.324915     WPR   \n",
       "167     None  Female  2019    24.963759    26.624760      25.783622   WB_HI   \n",
       "251     None  Female  2017    12.172082    12.886313      12.520297  WB_LMI   \n",
       "352     None  Female  2022     9.591366    11.653028      10.585164    SEAR   \n",
       "685     None    Male  2021    29.186985    32.267982      30.725309     AMR   \n",
       "...      ...     ...   ...          ...          ...            ...     ...   \n",
       "82753   None    Male  2020     3.208165     6.375460       4.610661   WB_LI   \n",
       "82789   None    Male  2020     8.139845     9.995961       9.013220     EUR   \n",
       "82807   None    Male  2014     3.995784     5.021876       4.487799    SEAR   \n",
       "82834   None    Male  2022     9.036333    14.086503      11.429928     EMR   \n",
       "83093   None    Male  2013    13.517177    14.528246      14.011872   WB_HI   \n",
       "\n",
       "      AgeGroup                  Country_Name  \n",
       "155      Adult        Western Pacific Region  \n",
       "167      Adult                   High Income  \n",
       "251      Adult           Low & Middle Income  \n",
       "352      Adult        South-East Asia Region  \n",
       "685      Adult               Americas Region  \n",
       "...        ...                           ...  \n",
       "82753    Child                    Low Income  \n",
       "82789    Child                        Europe  \n",
       "82807    Child        South-East Asia Region  \n",
       "82834    Child  Eastern Mediterranean Region  \n",
       "83093    Child                   High Income  \n",
       "\n",
       "[1452 rows x 9 columns]"
      ]
     },
     "execution_count": 84,
     "metadata": {},
     "output_type": "execute_result"
    }
   ],
   "source": [
    "df_obese[df_obese['Region'].isnull()]"
   ]
  },
  {
   "cell_type": "code",
   "execution_count": 86,
   "id": "a61396ee-a01f-400b-87b0-2879a4341980",
   "metadata": {},
   "outputs": [
    {
     "name": "stderr",
     "output_type": "stream",
     "text": [
      "/var/folders/5j/dqld7g010pn_g3494p0p7yqw0000gn/T/ipykernel_47351/3416929404.py:2: SettingWithCopyWarning: \n",
      "A value is trying to be set on a copy of a slice from a DataFrame.\n",
      "Try using .loc[row_indexer,col_indexer] = value instead\n",
      "\n",
      "See the caveats in the documentation: https://pandas.pydata.org/pandas-docs/stable/user_guide/indexing.html#returning-a-view-versus-a-copy\n",
      "  df_obese['CI_Width']=df_obese['Upper_bound']-df_obese['Lower_Bound']\n"
     ]
    }
   ],
   "source": [
    "#include a new column ci_width\n",
    "df_obese['CI_Width']=df_obese['Upper_bound']-df_obese['Lower_Bound']"
   ]
  },
  {
   "cell_type": "code",
   "execution_count": 88,
   "id": "e29440e1-390a-4fef-a0f6-4877a3c09694",
   "metadata": {
    "jupyter": {
     "source_hidden": true
    }
   },
   "outputs": [
    {
     "data": {
      "text/html": [
       "<div>\n",
       "<style scoped>\n",
       "    .dataframe tbody tr th:only-of-type {\n",
       "        vertical-align: middle;\n",
       "    }\n",
       "\n",
       "    .dataframe tbody tr th {\n",
       "        vertical-align: top;\n",
       "    }\n",
       "\n",
       "    .dataframe thead th {\n",
       "        text-align: right;\n",
       "    }\n",
       "</style>\n",
       "<table border=\"1\" class=\"dataframe\">\n",
       "  <thead>\n",
       "    <tr style=\"text-align: right;\">\n",
       "      <th></th>\n",
       "      <th>Region</th>\n",
       "      <th>Gender</th>\n",
       "      <th>Year</th>\n",
       "      <th>Lower_Bound</th>\n",
       "      <th>Upper_bound</th>\n",
       "      <th>Mean_Estimate</th>\n",
       "      <th>Country</th>\n",
       "      <th>AgeGroup</th>\n",
       "      <th>Country_Name</th>\n",
       "      <th>CI_Width</th>\n",
       "    </tr>\n",
       "  </thead>\n",
       "  <tbody>\n",
       "    <tr>\n",
       "      <th>1</th>\n",
       "      <td>South-East Asia</td>\n",
       "      <td>Male</td>\n",
       "      <td>2013</td>\n",
       "      <td>3.004463</td>\n",
       "      <td>4.399506</td>\n",
       "      <td>3.682037</td>\n",
       "      <td>LKA</td>\n",
       "      <td>Adult</td>\n",
       "      <td>Sri Lanka</td>\n",
       "      <td>1.395044</td>\n",
       "    </tr>\n",
       "    <tr>\n",
       "      <th>4</th>\n",
       "      <td>Eastern Mediterranean</td>\n",
       "      <td>Male</td>\n",
       "      <td>2020</td>\n",
       "      <td>15.793777</td>\n",
       "      <td>19.245727</td>\n",
       "      <td>17.487641</td>\n",
       "      <td>IRN</td>\n",
       "      <td>Adult</td>\n",
       "      <td>Iran, Islamic Republic of</td>\n",
       "      <td>3.451950</td>\n",
       "    </tr>\n",
       "    <tr>\n",
       "      <th>11</th>\n",
       "      <td>Eastern Mediterranean</td>\n",
       "      <td>Male</td>\n",
       "      <td>2020</td>\n",
       "      <td>23.089589</td>\n",
       "      <td>33.815336</td>\n",
       "      <td>28.335530</td>\n",
       "      <td>IRQ</td>\n",
       "      <td>Adult</td>\n",
       "      <td>Iraq</td>\n",
       "      <td>10.725747</td>\n",
       "    </tr>\n",
       "    <tr>\n",
       "      <th>17</th>\n",
       "      <td>Europe</td>\n",
       "      <td>Female</td>\n",
       "      <td>2014</td>\n",
       "      <td>24.924766</td>\n",
       "      <td>31.213260</td>\n",
       "      <td>27.948704</td>\n",
       "      <td>GRL</td>\n",
       "      <td>Adult</td>\n",
       "      <td>Greenland</td>\n",
       "      <td>6.288494</td>\n",
       "    </tr>\n",
       "    <tr>\n",
       "      <th>19</th>\n",
       "      <td>Europe</td>\n",
       "      <td>Female</td>\n",
       "      <td>2019</td>\n",
       "      <td>28.160682</td>\n",
       "      <td>35.574925</td>\n",
       "      <td>31.893221</td>\n",
       "      <td>ARM</td>\n",
       "      <td>Adult</td>\n",
       "      <td>Armenia</td>\n",
       "      <td>7.414243</td>\n",
       "    </tr>\n",
       "  </tbody>\n",
       "</table>\n",
       "</div>"
      ],
      "text/plain": [
       "                   Region  Gender  Year  Lower_Bound  Upper_bound  \\\n",
       "1         South-East Asia    Male  2013     3.004463     4.399506   \n",
       "4   Eastern Mediterranean    Male  2020    15.793777    19.245727   \n",
       "11  Eastern Mediterranean    Male  2020    23.089589    33.815336   \n",
       "17                 Europe  Female  2014    24.924766    31.213260   \n",
       "19                 Europe  Female  2019    28.160682    35.574925   \n",
       "\n",
       "    Mean_Estimate Country AgeGroup               Country_Name   CI_Width  \n",
       "1        3.682037     LKA    Adult                  Sri Lanka   1.395044  \n",
       "4       17.487641     IRN    Adult  Iran, Islamic Republic of   3.451950  \n",
       "11      28.335530     IRQ    Adult                       Iraq  10.725747  \n",
       "17      27.948704     GRL    Adult                  Greenland   6.288494  \n",
       "19      31.893221     ARM    Adult                    Armenia   7.414243  "
      ]
     },
     "execution_count": 88,
     "metadata": {},
     "output_type": "execute_result"
    }
   ],
   "source": [
    "df_obese.head()"
   ]
  },
  {
   "cell_type": "code",
   "execution_count": 90,
   "id": "00fa9b3b-6283-4236-b2a2-454d6cdb36cc",
   "metadata": {},
   "outputs": [
    {
     "name": "stderr",
     "output_type": "stream",
     "text": [
      "/var/folders/5j/dqld7g010pn_g3494p0p7yqw0000gn/T/ipykernel_47351/1832157783.py:2: SettingWithCopyWarning: \n",
      "A value is trying to be set on a copy of a slice from a DataFrame\n",
      "\n",
      "See the caveats in the documentation: https://pandas.pydata.org/pandas-docs/stable/user_guide/indexing.html#returning-a-view-versus-a-copy\n",
      "  df_obese.fillna({\"Region\":\"Other\"},inplace=True)\n"
     ]
    }
   ],
   "source": [
    "#fill the missing values in the region with other\n",
    "df_obese.fillna({\"Region\":\"Other\"},inplace=True)"
   ]
  },
  {
   "cell_type": "code",
   "execution_count": 92,
   "id": "eb317266-bce7-4b0b-9832-21cf27077261",
   "metadata": {
    "jupyter": {
     "source_hidden": true
    }
   },
   "outputs": [
    {
     "name": "stdout",
     "output_type": "stream",
     "text": [
      "<class 'pandas.core.frame.DataFrame'>\n",
      "Index: 27720 entries, 1 to 83154\n",
      "Data columns (total 10 columns):\n",
      " #   Column         Non-Null Count  Dtype  \n",
      "---  ------         --------------  -----  \n",
      " 0   Region         27720 non-null  object \n",
      " 1   Gender         27720 non-null  object \n",
      " 2   Year           27720 non-null  int64  \n",
      " 3   Lower_Bound    27720 non-null  float64\n",
      " 4   Upper_bound    27720 non-null  float64\n",
      " 5   Mean_Estimate  27720 non-null  float64\n",
      " 6   Country        27720 non-null  object \n",
      " 7   AgeGroup       27720 non-null  object \n",
      " 8   Country_Name   27720 non-null  object \n",
      " 9   CI_Width       27720 non-null  float64\n",
      "dtypes: float64(4), int64(1), object(5)\n",
      "memory usage: 2.3+ MB\n"
     ]
    }
   ],
   "source": [
    "df_obese.info()"
   ]
  },
  {
   "cell_type": "code",
   "execution_count": 94,
   "id": "ecca5e2d-2ae8-42ce-8f3e-a1898ab272ba",
   "metadata": {
    "jupyter": {
     "source_hidden": true
    },
    "scrolled": true
   },
   "outputs": [
    {
     "name": "stdout",
     "output_type": "stream",
     "text": [
      "<class 'pandas.core.frame.DataFrame'>\n",
      "Index: 27720 entries, 0 to 83159\n",
      "Data columns (total 9 columns):\n",
      " #   Column         Non-Null Count  Dtype  \n",
      "---  ------         --------------  -----  \n",
      " 0   Region         27720 non-null  object \n",
      " 1   Gender         27720 non-null  object \n",
      " 2   Year           27720 non-null  int64  \n",
      " 3   Lower_Bound    27720 non-null  float64\n",
      " 4   Upper_bound    27720 non-null  float64\n",
      " 5   Mean_Estimate  27720 non-null  float64\n",
      " 6   Country        27720 non-null  object \n",
      " 7   AgeGroup       27720 non-null  object \n",
      " 8   Country_Name   27720 non-null  object \n",
      "dtypes: float64(3), int64(1), object(5)\n",
      "memory usage: 2.1+ MB\n"
     ]
    }
   ],
   "source": [
    "df_malnut.fillna({\"Region\":\"Other\"},inplace=True)\n",
    "df_malnut.info()"
   ]
  },
  {
   "cell_type": "code",
   "execution_count": 96,
   "id": "589a3da5-c050-4e02-adc4-7d9a313a8e04",
   "metadata": {},
   "outputs": [
    {
     "name": "stderr",
     "output_type": "stream",
     "text": [
      "/var/folders/5j/dqld7g010pn_g3494p0p7yqw0000gn/T/ipykernel_47351/1258229385.py:10: SettingWithCopyWarning: \n",
      "A value is trying to be set on a copy of a slice from a DataFrame.\n",
      "Try using .loc[row_indexer,col_indexer] = value instead\n",
      "\n",
      "See the caveats in the documentation: https://pandas.pydata.org/pandas-docs/stable/user_guide/indexing.html#returning-a-view-versus-a-copy\n",
      "  df_obese['Obesity_level']=df_obese['Mean_Estimate'].apply(levels)\n"
     ]
    },
    {
     "data": {
      "text/html": [
       "<div>\n",
       "<style scoped>\n",
       "    .dataframe tbody tr th:only-of-type {\n",
       "        vertical-align: middle;\n",
       "    }\n",
       "\n",
       "    .dataframe tbody tr th {\n",
       "        vertical-align: top;\n",
       "    }\n",
       "\n",
       "    .dataframe thead th {\n",
       "        text-align: right;\n",
       "    }\n",
       "</style>\n",
       "<table border=\"1\" class=\"dataframe\">\n",
       "  <thead>\n",
       "    <tr style=\"text-align: right;\">\n",
       "      <th></th>\n",
       "      <th>Region</th>\n",
       "      <th>Gender</th>\n",
       "      <th>Year</th>\n",
       "      <th>Lower_Bound</th>\n",
       "      <th>Upper_bound</th>\n",
       "      <th>Mean_Estimate</th>\n",
       "      <th>Country</th>\n",
       "      <th>AgeGroup</th>\n",
       "      <th>Country_Name</th>\n",
       "      <th>CI_Width</th>\n",
       "      <th>Obesity_level</th>\n",
       "    </tr>\n",
       "  </thead>\n",
       "  <tbody>\n",
       "    <tr>\n",
       "      <th>1</th>\n",
       "      <td>South-East Asia</td>\n",
       "      <td>Male</td>\n",
       "      <td>2013</td>\n",
       "      <td>3.004463</td>\n",
       "      <td>4.399506</td>\n",
       "      <td>3.682037</td>\n",
       "      <td>LKA</td>\n",
       "      <td>Adult</td>\n",
       "      <td>Sri Lanka</td>\n",
       "      <td>1.395044</td>\n",
       "      <td>Low</td>\n",
       "    </tr>\n",
       "    <tr>\n",
       "      <th>4</th>\n",
       "      <td>Eastern Mediterranean</td>\n",
       "      <td>Male</td>\n",
       "      <td>2020</td>\n",
       "      <td>15.793777</td>\n",
       "      <td>19.245727</td>\n",
       "      <td>17.487641</td>\n",
       "      <td>IRN</td>\n",
       "      <td>Adult</td>\n",
       "      <td>Iran, Islamic Republic of</td>\n",
       "      <td>3.451950</td>\n",
       "      <td>Low</td>\n",
       "    </tr>\n",
       "    <tr>\n",
       "      <th>11</th>\n",
       "      <td>Eastern Mediterranean</td>\n",
       "      <td>Male</td>\n",
       "      <td>2020</td>\n",
       "      <td>23.089589</td>\n",
       "      <td>33.815336</td>\n",
       "      <td>28.335530</td>\n",
       "      <td>IRQ</td>\n",
       "      <td>Adult</td>\n",
       "      <td>Iraq</td>\n",
       "      <td>10.725747</td>\n",
       "      <td>Moderate</td>\n",
       "    </tr>\n",
       "    <tr>\n",
       "      <th>17</th>\n",
       "      <td>Europe</td>\n",
       "      <td>Female</td>\n",
       "      <td>2014</td>\n",
       "      <td>24.924766</td>\n",
       "      <td>31.213260</td>\n",
       "      <td>27.948704</td>\n",
       "      <td>GRL</td>\n",
       "      <td>Adult</td>\n",
       "      <td>Greenland</td>\n",
       "      <td>6.288494</td>\n",
       "      <td>Moderate</td>\n",
       "    </tr>\n",
       "    <tr>\n",
       "      <th>19</th>\n",
       "      <td>Europe</td>\n",
       "      <td>Female</td>\n",
       "      <td>2019</td>\n",
       "      <td>28.160682</td>\n",
       "      <td>35.574925</td>\n",
       "      <td>31.893221</td>\n",
       "      <td>ARM</td>\n",
       "      <td>Adult</td>\n",
       "      <td>Armenia</td>\n",
       "      <td>7.414243</td>\n",
       "      <td>High</td>\n",
       "    </tr>\n",
       "  </tbody>\n",
       "</table>\n",
       "</div>"
      ],
      "text/plain": [
       "                   Region  Gender  Year  Lower_Bound  Upper_bound  \\\n",
       "1         South-East Asia    Male  2013     3.004463     4.399506   \n",
       "4   Eastern Mediterranean    Male  2020    15.793777    19.245727   \n",
       "11  Eastern Mediterranean    Male  2020    23.089589    33.815336   \n",
       "17                 Europe  Female  2014    24.924766    31.213260   \n",
       "19                 Europe  Female  2019    28.160682    35.574925   \n",
       "\n",
       "    Mean_Estimate Country AgeGroup               Country_Name   CI_Width  \\\n",
       "1        3.682037     LKA    Adult                  Sri Lanka   1.395044   \n",
       "4       17.487641     IRN    Adult  Iran, Islamic Republic of   3.451950   \n",
       "11      28.335530     IRQ    Adult                       Iraq  10.725747   \n",
       "17      27.948704     GRL    Adult                  Greenland   6.288494   \n",
       "19      31.893221     ARM    Adult                    Armenia   7.414243   \n",
       "\n",
       "   Obesity_level  \n",
       "1            Low  \n",
       "4            Low  \n",
       "11      Moderate  \n",
       "17      Moderate  \n",
       "19          High  "
      ]
     },
     "execution_count": 96,
     "metadata": {},
     "output_type": "execute_result"
    }
   ],
   "source": [
    "#include a new column obesity_level to categorize\n",
    "def levels (value):\n",
    "    if value>=30:\n",
    "        return 'High'\n",
    "    elif value >=25:\n",
    "        return 'Moderate'\n",
    "    else:\n",
    "        return \"Low\"\n",
    "\n",
    "df_obese['Obesity_level']=df_obese['Mean_Estimate'].apply(levels)\n",
    "df_obese.head()"
   ]
  },
  {
   "cell_type": "code",
   "execution_count": 98,
   "id": "aa797419-d21c-4828-b39e-2cbb927ec2ac",
   "metadata": {},
   "outputs": [
    {
     "name": "stdout",
     "output_type": "stream",
     "text": [
      "<class 'pandas.core.frame.DataFrame'>\n",
      "Index: 27720 entries, 1 to 83154\n",
      "Data columns (total 10 columns):\n",
      " #   Column         Non-Null Count  Dtype  \n",
      "---  ------         --------------  -----  \n",
      " 0   Region         27720 non-null  object \n",
      " 1   Gender         27720 non-null  object \n",
      " 2   Year           27720 non-null  int64  \n",
      " 3   Lower_Bound    27720 non-null  float64\n",
      " 4   Upper_bound    27720 non-null  float64\n",
      " 5   Mean_Estimate  27720 non-null  float64\n",
      " 6   AgeGroup       27720 non-null  object \n",
      " 7   Country_Name   27720 non-null  object \n",
      " 8   CI_Width       27720 non-null  float64\n",
      " 9   Obesity_level  27720 non-null  object \n",
      "dtypes: float64(4), int64(1), object(5)\n",
      "memory usage: 2.3+ MB\n"
     ]
    },
    {
     "name": "stderr",
     "output_type": "stream",
     "text": [
      "/var/folders/5j/dqld7g010pn_g3494p0p7yqw0000gn/T/ipykernel_47351/2460841728.py:1: SettingWithCopyWarning: \n",
      "A value is trying to be set on a copy of a slice from a DataFrame\n",
      "\n",
      "See the caveats in the documentation: https://pandas.pydata.org/pandas-docs/stable/user_guide/indexing.html#returning-a-view-versus-a-copy\n",
      "  df_obese.drop('Country',axis =1 ,inplace=True )\n"
     ]
    }
   ],
   "source": [
    "df_obese.drop('Country',axis =1 ,inplace=True )\n",
    "df_obese.info()"
   ]
  },
  {
   "cell_type": "code",
   "execution_count": 106,
   "id": "c2e82374-66aa-490b-9e16-6ea305b5a7e9",
   "metadata": {},
   "outputs": [],
   "source": [
    "df_malnut['CI_Width']=df_malnut['Upper_bound']-df_malnut['Lower_Bound']"
   ]
  },
  {
   "cell_type": "code",
   "execution_count": 108,
   "id": "5b7f7e09-709e-42a9-90f4-5576c77f8fed",
   "metadata": {
    "scrolled": true
   },
   "outputs": [
    {
     "data": {
      "text/html": [
       "<div>\n",
       "<style scoped>\n",
       "    .dataframe tbody tr th:only-of-type {\n",
       "        vertical-align: middle;\n",
       "    }\n",
       "\n",
       "    .dataframe tbody tr th {\n",
       "        vertical-align: top;\n",
       "    }\n",
       "\n",
       "    .dataframe thead th {\n",
       "        text-align: right;\n",
       "    }\n",
       "</style>\n",
       "<table border=\"1\" class=\"dataframe\">\n",
       "  <thead>\n",
       "    <tr style=\"text-align: right;\">\n",
       "      <th></th>\n",
       "      <th>Region</th>\n",
       "      <th>Gender</th>\n",
       "      <th>Year</th>\n",
       "      <th>Lower_Bound</th>\n",
       "      <th>Upper_bound</th>\n",
       "      <th>Mean_Estimate</th>\n",
       "      <th>AgeGroup</th>\n",
       "      <th>Country_Name</th>\n",
       "      <th>CI_Width</th>\n",
       "      <th>Malnutrition_level</th>\n",
       "    </tr>\n",
       "  </thead>\n",
       "  <tbody>\n",
       "    <tr>\n",
       "      <th>0</th>\n",
       "      <td>Africa</td>\n",
       "      <td>Female</td>\n",
       "      <td>2021</td>\n",
       "      <td>3.972036</td>\n",
       "      <td>8.077021</td>\n",
       "      <td>5.795110</td>\n",
       "      <td>Adult</td>\n",
       "      <td>Gabon</td>\n",
       "      <td>4.104985</td>\n",
       "      <td>Low</td>\n",
       "    </tr>\n",
       "    <tr>\n",
       "      <th>4</th>\n",
       "      <td>Western Pacific</td>\n",
       "      <td>Both</td>\n",
       "      <td>2017</td>\n",
       "      <td>2.428230</td>\n",
       "      <td>3.842155</td>\n",
       "      <td>3.090652</td>\n",
       "      <td>Adult</td>\n",
       "      <td>Mongolia</td>\n",
       "      <td>1.413925</td>\n",
       "      <td>Low</td>\n",
       "    </tr>\n",
       "    <tr>\n",
       "      <th>5</th>\n",
       "      <td>Africa</td>\n",
       "      <td>Female</td>\n",
       "      <td>2016</td>\n",
       "      <td>6.655668</td>\n",
       "      <td>10.253121</td>\n",
       "      <td>8.371724</td>\n",
       "      <td>Adult</td>\n",
       "      <td>Sierra Leone</td>\n",
       "      <td>3.597453</td>\n",
       "      <td>Low</td>\n",
       "    </tr>\n",
       "    <tr>\n",
       "      <th>7</th>\n",
       "      <td>Other</td>\n",
       "      <td>Both</td>\n",
       "      <td>2021</td>\n",
       "      <td>12.242323</td>\n",
       "      <td>14.442866</td>\n",
       "      <td>13.336353</td>\n",
       "      <td>Adult</td>\n",
       "      <td>South-East Asia Region</td>\n",
       "      <td>2.200543</td>\n",
       "      <td>Low</td>\n",
       "    </tr>\n",
       "    <tr>\n",
       "      <th>9</th>\n",
       "      <td>Eastern Mediterranean</td>\n",
       "      <td>Male</td>\n",
       "      <td>2014</td>\n",
       "      <td>1.253843</td>\n",
       "      <td>3.516819</td>\n",
       "      <td>2.208070</td>\n",
       "      <td>Adult</td>\n",
       "      <td>Qatar</td>\n",
       "      <td>2.262976</td>\n",
       "      <td>Low</td>\n",
       "    </tr>\n",
       "  </tbody>\n",
       "</table>\n",
       "</div>"
      ],
      "text/plain": [
       "                  Region  Gender  Year  Lower_Bound  Upper_bound  \\\n",
       "0                 Africa  Female  2021     3.972036     8.077021   \n",
       "4        Western Pacific    Both  2017     2.428230     3.842155   \n",
       "5                 Africa  Female  2016     6.655668    10.253121   \n",
       "7                  Other    Both  2021    12.242323    14.442866   \n",
       "9  Eastern Mediterranean    Male  2014     1.253843     3.516819   \n",
       "\n",
       "   Mean_Estimate AgeGroup            Country_Name  CI_Width Malnutrition_level  \n",
       "0       5.795110    Adult                   Gabon  4.104985                Low  \n",
       "4       3.090652    Adult                Mongolia  1.413925                Low  \n",
       "5       8.371724    Adult            Sierra Leone  3.597453                Low  \n",
       "7      13.336353    Adult  South-East Asia Region  2.200543                Low  \n",
       "9       2.208070    Adult                   Qatar  2.262976                Low  "
      ]
     },
     "execution_count": 108,
     "metadata": {},
     "output_type": "execute_result"
    }
   ],
   "source": [
    "def levels (value):\n",
    "    if value>=20:\n",
    "        return 'High'\n",
    "    elif value >=20:\n",
    "        return 'Moderate'\n",
    "    else:\n",
    "        return \"Low\"\n",
    "\n",
    "df_malnut['Malnutrition_level']=df_malnut['Mean_Estimate'].apply(levels)\n",
    "df_malnut.head()"
   ]
  },
  {
   "cell_type": "code",
   "execution_count": 110,
   "id": "dc6c0bbd-fc11-40e7-8bb5-dac849a6f277",
   "metadata": {
    "scrolled": true
   },
   "outputs": [
    {
     "name": "stdout",
     "output_type": "stream",
     "text": [
      "Requirement already satisfied: pymysql in /opt/anaconda3/lib/python3.12/site-packages (1.1.1)\n",
      "Note: you may need to restart the kernel to use updated packages.\n"
     ]
    }
   ],
   "source": [
    "pip install pymysql "
   ]
  },
  {
   "cell_type": "code",
   "execution_count": 112,
   "id": "3133ec70-074e-4441-b8cc-6ed917917068",
   "metadata": {},
   "outputs": [],
   "source": [
    "#create connection to sql\n",
    "conn =pymysql.connect(host='127.0.0.1',user='root',passwd='Arahim4199')"
   ]
  },
  {
   "cell_type": "code",
   "execution_count": 114,
   "id": "cd064a56-ab7a-4751-b5b4-def2ab250bc3",
   "metadata": {},
   "outputs": [],
   "source": [
    "#create cursor\n",
    "curs=conn.cursor()"
   ]
  },
  {
   "cell_type": "code",
   "execution_count": 116,
   "id": "40e3c436-9134-4176-8a67-cc2fa91a37ce",
   "metadata": {
    "collapsed": true,
    "jupyter": {
     "outputs_hidden": true
    },
    "scrolled": true
   },
   "outputs": [
    {
     "ename": "ProgrammingError",
     "evalue": "(1007, \"Can't create database 'Nutrition_Paradox'; database exists\")",
     "output_type": "error",
     "traceback": [
      "\u001b[0;31m---------------------------------------------------------------------------\u001b[0m",
      "\u001b[0;31mProgrammingError\u001b[0m                          Traceback (most recent call last)",
      "Cell \u001b[0;32mIn[116], line 2\u001b[0m\n\u001b[1;32m      1\u001b[0m \u001b[38;5;66;03m#create a data base named Nutrition_paradox\u001b[39;00m\n\u001b[0;32m----> 2\u001b[0m curs\u001b[38;5;241m.\u001b[39mexecute(\u001b[38;5;124m'\u001b[39m\u001b[38;5;124mcreate database Nutrition_Paradox\u001b[39m\u001b[38;5;124m'\u001b[39m)\n",
      "File \u001b[0;32m/opt/anaconda3/lib/python3.12/site-packages/pymysql/cursors.py:153\u001b[0m, in \u001b[0;36mCursor.execute\u001b[0;34m(self, query, args)\u001b[0m\n\u001b[1;32m    149\u001b[0m     \u001b[38;5;28;01mpass\u001b[39;00m\n\u001b[1;32m    151\u001b[0m query \u001b[38;5;241m=\u001b[39m \u001b[38;5;28mself\u001b[39m\u001b[38;5;241m.\u001b[39mmogrify(query, args)\n\u001b[0;32m--> 153\u001b[0m result \u001b[38;5;241m=\u001b[39m \u001b[38;5;28mself\u001b[39m\u001b[38;5;241m.\u001b[39m_query(query)\n\u001b[1;32m    154\u001b[0m \u001b[38;5;28mself\u001b[39m\u001b[38;5;241m.\u001b[39m_executed \u001b[38;5;241m=\u001b[39m query\n\u001b[1;32m    155\u001b[0m \u001b[38;5;28;01mreturn\u001b[39;00m result\n",
      "File \u001b[0;32m/opt/anaconda3/lib/python3.12/site-packages/pymysql/cursors.py:322\u001b[0m, in \u001b[0;36mCursor._query\u001b[0;34m(self, q)\u001b[0m\n\u001b[1;32m    320\u001b[0m conn \u001b[38;5;241m=\u001b[39m \u001b[38;5;28mself\u001b[39m\u001b[38;5;241m.\u001b[39m_get_db()\n\u001b[1;32m    321\u001b[0m \u001b[38;5;28mself\u001b[39m\u001b[38;5;241m.\u001b[39m_clear_result()\n\u001b[0;32m--> 322\u001b[0m conn\u001b[38;5;241m.\u001b[39mquery(q)\n\u001b[1;32m    323\u001b[0m \u001b[38;5;28mself\u001b[39m\u001b[38;5;241m.\u001b[39m_do_get_result()\n\u001b[1;32m    324\u001b[0m \u001b[38;5;28;01mreturn\u001b[39;00m \u001b[38;5;28mself\u001b[39m\u001b[38;5;241m.\u001b[39mrowcount\n",
      "File \u001b[0;32m/opt/anaconda3/lib/python3.12/site-packages/pymysql/connections.py:563\u001b[0m, in \u001b[0;36mConnection.query\u001b[0;34m(self, sql, unbuffered)\u001b[0m\n\u001b[1;32m    561\u001b[0m     sql \u001b[38;5;241m=\u001b[39m sql\u001b[38;5;241m.\u001b[39mencode(\u001b[38;5;28mself\u001b[39m\u001b[38;5;241m.\u001b[39mencoding, \u001b[38;5;124m\"\u001b[39m\u001b[38;5;124msurrogateescape\u001b[39m\u001b[38;5;124m\"\u001b[39m)\n\u001b[1;32m    562\u001b[0m \u001b[38;5;28mself\u001b[39m\u001b[38;5;241m.\u001b[39m_execute_command(COMMAND\u001b[38;5;241m.\u001b[39mCOM_QUERY, sql)\n\u001b[0;32m--> 563\u001b[0m \u001b[38;5;28mself\u001b[39m\u001b[38;5;241m.\u001b[39m_affected_rows \u001b[38;5;241m=\u001b[39m \u001b[38;5;28mself\u001b[39m\u001b[38;5;241m.\u001b[39m_read_query_result(unbuffered\u001b[38;5;241m=\u001b[39munbuffered)\n\u001b[1;32m    564\u001b[0m \u001b[38;5;28;01mreturn\u001b[39;00m \u001b[38;5;28mself\u001b[39m\u001b[38;5;241m.\u001b[39m_affected_rows\n",
      "File \u001b[0;32m/opt/anaconda3/lib/python3.12/site-packages/pymysql/connections.py:825\u001b[0m, in \u001b[0;36mConnection._read_query_result\u001b[0;34m(self, unbuffered)\u001b[0m\n\u001b[1;32m    823\u001b[0m \u001b[38;5;28;01melse\u001b[39;00m:\n\u001b[1;32m    824\u001b[0m     result \u001b[38;5;241m=\u001b[39m MySQLResult(\u001b[38;5;28mself\u001b[39m)\n\u001b[0;32m--> 825\u001b[0m     result\u001b[38;5;241m.\u001b[39mread()\n\u001b[1;32m    826\u001b[0m \u001b[38;5;28mself\u001b[39m\u001b[38;5;241m.\u001b[39m_result \u001b[38;5;241m=\u001b[39m result\n\u001b[1;32m    827\u001b[0m \u001b[38;5;28;01mif\u001b[39;00m result\u001b[38;5;241m.\u001b[39mserver_status \u001b[38;5;129;01mis\u001b[39;00m \u001b[38;5;129;01mnot\u001b[39;00m \u001b[38;5;28;01mNone\u001b[39;00m:\n",
      "File \u001b[0;32m/opt/anaconda3/lib/python3.12/site-packages/pymysql/connections.py:1199\u001b[0m, in \u001b[0;36mMySQLResult.read\u001b[0;34m(self)\u001b[0m\n\u001b[1;32m   1197\u001b[0m \u001b[38;5;28;01mdef\u001b[39;00m \u001b[38;5;21mread\u001b[39m(\u001b[38;5;28mself\u001b[39m):\n\u001b[1;32m   1198\u001b[0m     \u001b[38;5;28;01mtry\u001b[39;00m:\n\u001b[0;32m-> 1199\u001b[0m         first_packet \u001b[38;5;241m=\u001b[39m \u001b[38;5;28mself\u001b[39m\u001b[38;5;241m.\u001b[39mconnection\u001b[38;5;241m.\u001b[39m_read_packet()\n\u001b[1;32m   1201\u001b[0m         \u001b[38;5;28;01mif\u001b[39;00m first_packet\u001b[38;5;241m.\u001b[39mis_ok_packet():\n\u001b[1;32m   1202\u001b[0m             \u001b[38;5;28mself\u001b[39m\u001b[38;5;241m.\u001b[39m_read_ok_packet(first_packet)\n",
      "File \u001b[0;32m/opt/anaconda3/lib/python3.12/site-packages/pymysql/connections.py:775\u001b[0m, in \u001b[0;36mConnection._read_packet\u001b[0;34m(self, packet_type)\u001b[0m\n\u001b[1;32m    773\u001b[0m     \u001b[38;5;28;01mif\u001b[39;00m \u001b[38;5;28mself\u001b[39m\u001b[38;5;241m.\u001b[39m_result \u001b[38;5;129;01mis\u001b[39;00m \u001b[38;5;129;01mnot\u001b[39;00m \u001b[38;5;28;01mNone\u001b[39;00m \u001b[38;5;129;01mand\u001b[39;00m \u001b[38;5;28mself\u001b[39m\u001b[38;5;241m.\u001b[39m_result\u001b[38;5;241m.\u001b[39munbuffered_active \u001b[38;5;129;01mis\u001b[39;00m \u001b[38;5;28;01mTrue\u001b[39;00m:\n\u001b[1;32m    774\u001b[0m         \u001b[38;5;28mself\u001b[39m\u001b[38;5;241m.\u001b[39m_result\u001b[38;5;241m.\u001b[39munbuffered_active \u001b[38;5;241m=\u001b[39m \u001b[38;5;28;01mFalse\u001b[39;00m\n\u001b[0;32m--> 775\u001b[0m     packet\u001b[38;5;241m.\u001b[39mraise_for_error()\n\u001b[1;32m    776\u001b[0m \u001b[38;5;28;01mreturn\u001b[39;00m packet\n",
      "File \u001b[0;32m/opt/anaconda3/lib/python3.12/site-packages/pymysql/protocol.py:219\u001b[0m, in \u001b[0;36mMysqlPacket.raise_for_error\u001b[0;34m(self)\u001b[0m\n\u001b[1;32m    217\u001b[0m \u001b[38;5;28;01mif\u001b[39;00m DEBUG:\n\u001b[1;32m    218\u001b[0m     \u001b[38;5;28mprint\u001b[39m(\u001b[38;5;124m\"\u001b[39m\u001b[38;5;124merrno =\u001b[39m\u001b[38;5;124m\"\u001b[39m, errno)\n\u001b[0;32m--> 219\u001b[0m err\u001b[38;5;241m.\u001b[39mraise_mysql_exception(\u001b[38;5;28mself\u001b[39m\u001b[38;5;241m.\u001b[39m_data)\n",
      "File \u001b[0;32m/opt/anaconda3/lib/python3.12/site-packages/pymysql/err.py:150\u001b[0m, in \u001b[0;36mraise_mysql_exception\u001b[0;34m(data)\u001b[0m\n\u001b[1;32m    148\u001b[0m \u001b[38;5;28;01mif\u001b[39;00m errorclass \u001b[38;5;129;01mis\u001b[39;00m \u001b[38;5;28;01mNone\u001b[39;00m:\n\u001b[1;32m    149\u001b[0m     errorclass \u001b[38;5;241m=\u001b[39m InternalError \u001b[38;5;28;01mif\u001b[39;00m errno \u001b[38;5;241m<\u001b[39m \u001b[38;5;241m1000\u001b[39m \u001b[38;5;28;01melse\u001b[39;00m OperationalError\n\u001b[0;32m--> 150\u001b[0m \u001b[38;5;28;01mraise\u001b[39;00m errorclass(errno, errval)\n",
      "\u001b[0;31mProgrammingError\u001b[0m: (1007, \"Can't create database 'Nutrition_Paradox'; database exists\")"
     ]
    }
   ],
   "source": [
    "#create a data base named Nutrition_paradox\n",
    "curs.execute('create database Nutrition_Paradox')"
   ]
  },
  {
   "cell_type": "code",
   "execution_count": 118,
   "id": "009e91c0-5d26-4431-b254-4945a7a8522f",
   "metadata": {},
   "outputs": [],
   "source": [
    "conn=pymysql.connect(host='127.0.0.1',user='root',passwd='Arahim4199',database='Nutrition_Paradox')"
   ]
  },
  {
   "cell_type": "code",
   "execution_count": 120,
   "id": "bfbd850d-25f2-4d77-92d8-d559c7bcb889",
   "metadata": {},
   "outputs": [],
   "source": [
    "curs=conn.cursor()"
   ]
  },
  {
   "cell_type": "code",
   "execution_count": 122,
   "id": "079bafe1-94af-46d1-8716-1ba716327080",
   "metadata": {
    "collapsed": true,
    "jupyter": {
     "outputs_hidden": true
    }
   },
   "outputs": [
    {
     "ename": "OperationalError",
     "evalue": "(1050, \"Table 'obesity' already exists\")",
     "output_type": "error",
     "traceback": [
      "\u001b[0;31m---------------------------------------------------------------------------\u001b[0m",
      "\u001b[0;31mOperationalError\u001b[0m                          Traceback (most recent call last)",
      "Cell \u001b[0;32mIn[122], line 2\u001b[0m\n\u001b[1;32m      1\u001b[0m \u001b[38;5;66;03m#create a table named obesity\u001b[39;00m\n\u001b[0;32m----> 2\u001b[0m curs\u001b[38;5;241m.\u001b[39mexecute(\u001b[38;5;124m'\u001b[39m\u001b[38;5;124mcreate table Obesity(REGION VARCHAR(30),GENDER VARCHAR(30),YEAR INT,LOWER_BOUND FLOAT,UPPER_BOUND FLOAT,MEAN_ESTIMATE FLOAT,AGEGROUP VARCHAR(30),COUNTRY_NAME VARCHAR(40),CI_WIDTH FLOAT,OBESITY_LEVEL VARCHAR(30))\u001b[39m\u001b[38;5;124m'\u001b[39m)\n",
      "File \u001b[0;32m/opt/anaconda3/lib/python3.12/site-packages/pymysql/cursors.py:153\u001b[0m, in \u001b[0;36mCursor.execute\u001b[0;34m(self, query, args)\u001b[0m\n\u001b[1;32m    149\u001b[0m     \u001b[38;5;28;01mpass\u001b[39;00m\n\u001b[1;32m    151\u001b[0m query \u001b[38;5;241m=\u001b[39m \u001b[38;5;28mself\u001b[39m\u001b[38;5;241m.\u001b[39mmogrify(query, args)\n\u001b[0;32m--> 153\u001b[0m result \u001b[38;5;241m=\u001b[39m \u001b[38;5;28mself\u001b[39m\u001b[38;5;241m.\u001b[39m_query(query)\n\u001b[1;32m    154\u001b[0m \u001b[38;5;28mself\u001b[39m\u001b[38;5;241m.\u001b[39m_executed \u001b[38;5;241m=\u001b[39m query\n\u001b[1;32m    155\u001b[0m \u001b[38;5;28;01mreturn\u001b[39;00m result\n",
      "File \u001b[0;32m/opt/anaconda3/lib/python3.12/site-packages/pymysql/cursors.py:322\u001b[0m, in \u001b[0;36mCursor._query\u001b[0;34m(self, q)\u001b[0m\n\u001b[1;32m    320\u001b[0m conn \u001b[38;5;241m=\u001b[39m \u001b[38;5;28mself\u001b[39m\u001b[38;5;241m.\u001b[39m_get_db()\n\u001b[1;32m    321\u001b[0m \u001b[38;5;28mself\u001b[39m\u001b[38;5;241m.\u001b[39m_clear_result()\n\u001b[0;32m--> 322\u001b[0m conn\u001b[38;5;241m.\u001b[39mquery(q)\n\u001b[1;32m    323\u001b[0m \u001b[38;5;28mself\u001b[39m\u001b[38;5;241m.\u001b[39m_do_get_result()\n\u001b[1;32m    324\u001b[0m \u001b[38;5;28;01mreturn\u001b[39;00m \u001b[38;5;28mself\u001b[39m\u001b[38;5;241m.\u001b[39mrowcount\n",
      "File \u001b[0;32m/opt/anaconda3/lib/python3.12/site-packages/pymysql/connections.py:563\u001b[0m, in \u001b[0;36mConnection.query\u001b[0;34m(self, sql, unbuffered)\u001b[0m\n\u001b[1;32m    561\u001b[0m     sql \u001b[38;5;241m=\u001b[39m sql\u001b[38;5;241m.\u001b[39mencode(\u001b[38;5;28mself\u001b[39m\u001b[38;5;241m.\u001b[39mencoding, \u001b[38;5;124m\"\u001b[39m\u001b[38;5;124msurrogateescape\u001b[39m\u001b[38;5;124m\"\u001b[39m)\n\u001b[1;32m    562\u001b[0m \u001b[38;5;28mself\u001b[39m\u001b[38;5;241m.\u001b[39m_execute_command(COMMAND\u001b[38;5;241m.\u001b[39mCOM_QUERY, sql)\n\u001b[0;32m--> 563\u001b[0m \u001b[38;5;28mself\u001b[39m\u001b[38;5;241m.\u001b[39m_affected_rows \u001b[38;5;241m=\u001b[39m \u001b[38;5;28mself\u001b[39m\u001b[38;5;241m.\u001b[39m_read_query_result(unbuffered\u001b[38;5;241m=\u001b[39munbuffered)\n\u001b[1;32m    564\u001b[0m \u001b[38;5;28;01mreturn\u001b[39;00m \u001b[38;5;28mself\u001b[39m\u001b[38;5;241m.\u001b[39m_affected_rows\n",
      "File \u001b[0;32m/opt/anaconda3/lib/python3.12/site-packages/pymysql/connections.py:825\u001b[0m, in \u001b[0;36mConnection._read_query_result\u001b[0;34m(self, unbuffered)\u001b[0m\n\u001b[1;32m    823\u001b[0m \u001b[38;5;28;01melse\u001b[39;00m:\n\u001b[1;32m    824\u001b[0m     result \u001b[38;5;241m=\u001b[39m MySQLResult(\u001b[38;5;28mself\u001b[39m)\n\u001b[0;32m--> 825\u001b[0m     result\u001b[38;5;241m.\u001b[39mread()\n\u001b[1;32m    826\u001b[0m \u001b[38;5;28mself\u001b[39m\u001b[38;5;241m.\u001b[39m_result \u001b[38;5;241m=\u001b[39m result\n\u001b[1;32m    827\u001b[0m \u001b[38;5;28;01mif\u001b[39;00m result\u001b[38;5;241m.\u001b[39mserver_status \u001b[38;5;129;01mis\u001b[39;00m \u001b[38;5;129;01mnot\u001b[39;00m \u001b[38;5;28;01mNone\u001b[39;00m:\n",
      "File \u001b[0;32m/opt/anaconda3/lib/python3.12/site-packages/pymysql/connections.py:1199\u001b[0m, in \u001b[0;36mMySQLResult.read\u001b[0;34m(self)\u001b[0m\n\u001b[1;32m   1197\u001b[0m \u001b[38;5;28;01mdef\u001b[39;00m \u001b[38;5;21mread\u001b[39m(\u001b[38;5;28mself\u001b[39m):\n\u001b[1;32m   1198\u001b[0m     \u001b[38;5;28;01mtry\u001b[39;00m:\n\u001b[0;32m-> 1199\u001b[0m         first_packet \u001b[38;5;241m=\u001b[39m \u001b[38;5;28mself\u001b[39m\u001b[38;5;241m.\u001b[39mconnection\u001b[38;5;241m.\u001b[39m_read_packet()\n\u001b[1;32m   1201\u001b[0m         \u001b[38;5;28;01mif\u001b[39;00m first_packet\u001b[38;5;241m.\u001b[39mis_ok_packet():\n\u001b[1;32m   1202\u001b[0m             \u001b[38;5;28mself\u001b[39m\u001b[38;5;241m.\u001b[39m_read_ok_packet(first_packet)\n",
      "File \u001b[0;32m/opt/anaconda3/lib/python3.12/site-packages/pymysql/connections.py:775\u001b[0m, in \u001b[0;36mConnection._read_packet\u001b[0;34m(self, packet_type)\u001b[0m\n\u001b[1;32m    773\u001b[0m     \u001b[38;5;28;01mif\u001b[39;00m \u001b[38;5;28mself\u001b[39m\u001b[38;5;241m.\u001b[39m_result \u001b[38;5;129;01mis\u001b[39;00m \u001b[38;5;129;01mnot\u001b[39;00m \u001b[38;5;28;01mNone\u001b[39;00m \u001b[38;5;129;01mand\u001b[39;00m \u001b[38;5;28mself\u001b[39m\u001b[38;5;241m.\u001b[39m_result\u001b[38;5;241m.\u001b[39munbuffered_active \u001b[38;5;129;01mis\u001b[39;00m \u001b[38;5;28;01mTrue\u001b[39;00m:\n\u001b[1;32m    774\u001b[0m         \u001b[38;5;28mself\u001b[39m\u001b[38;5;241m.\u001b[39m_result\u001b[38;5;241m.\u001b[39munbuffered_active \u001b[38;5;241m=\u001b[39m \u001b[38;5;28;01mFalse\u001b[39;00m\n\u001b[0;32m--> 775\u001b[0m     packet\u001b[38;5;241m.\u001b[39mraise_for_error()\n\u001b[1;32m    776\u001b[0m \u001b[38;5;28;01mreturn\u001b[39;00m packet\n",
      "File \u001b[0;32m/opt/anaconda3/lib/python3.12/site-packages/pymysql/protocol.py:219\u001b[0m, in \u001b[0;36mMysqlPacket.raise_for_error\u001b[0;34m(self)\u001b[0m\n\u001b[1;32m    217\u001b[0m \u001b[38;5;28;01mif\u001b[39;00m DEBUG:\n\u001b[1;32m    218\u001b[0m     \u001b[38;5;28mprint\u001b[39m(\u001b[38;5;124m\"\u001b[39m\u001b[38;5;124merrno =\u001b[39m\u001b[38;5;124m\"\u001b[39m, errno)\n\u001b[0;32m--> 219\u001b[0m err\u001b[38;5;241m.\u001b[39mraise_mysql_exception(\u001b[38;5;28mself\u001b[39m\u001b[38;5;241m.\u001b[39m_data)\n",
      "File \u001b[0;32m/opt/anaconda3/lib/python3.12/site-packages/pymysql/err.py:150\u001b[0m, in \u001b[0;36mraise_mysql_exception\u001b[0;34m(data)\u001b[0m\n\u001b[1;32m    148\u001b[0m \u001b[38;5;28;01mif\u001b[39;00m errorclass \u001b[38;5;129;01mis\u001b[39;00m \u001b[38;5;28;01mNone\u001b[39;00m:\n\u001b[1;32m    149\u001b[0m     errorclass \u001b[38;5;241m=\u001b[39m InternalError \u001b[38;5;28;01mif\u001b[39;00m errno \u001b[38;5;241m<\u001b[39m \u001b[38;5;241m1000\u001b[39m \u001b[38;5;28;01melse\u001b[39;00m OperationalError\n\u001b[0;32m--> 150\u001b[0m \u001b[38;5;28;01mraise\u001b[39;00m errorclass(errno, errval)\n",
      "\u001b[0;31mOperationalError\u001b[0m: (1050, \"Table 'obesity' already exists\")"
     ]
    }
   ],
   "source": [
    "#create a table named obesity\n",
    "curs.execute('create table Obesity(REGION VARCHAR(30),GENDER VARCHAR(30),YEAR INT,LOWER_BOUND FLOAT,UPPER_BOUND FLOAT,MEAN_ESTIMATE FLOAT,AGEGROUP VARCHAR(30),COUNTRY_NAME VARCHAR(40),CI_WIDTH FLOAT,OBESITY_LEVEL VARCHAR(30))')"
   ]
  },
  {
   "cell_type": "code",
   "execution_count": 124,
   "id": "78a42a8c-882f-48c5-a23c-9b070de11452",
   "metadata": {},
   "outputs": [],
   "source": [
    "#insert the values into the table\n",
    "ob_insert = '''INSERT INTO Obesity(\n",
    "    REGION, GENDER, YEAR, LOWER_BOUND, UPPER_BOUND, MEAN_ESTIMATE,\n",
    "    AGEGROUP, COUNTRY_NAME, CI_WIDTH, OBESITY_LEVEL) VALUES (%s, %s, %s, %s, %s, %s, %s, %s, %s, %s)'''\n",
    "\n",
    "for _, i in df_obese.iterrows():\n",
    "    values = (\n",
    "        i['Region'], i['Gender'], i['Year'], i['Lower_Bound'],\n",
    "        i['Upper_bound'], i['Mean_Estimate'], i['AgeGroup'],\n",
    "        i['Country_Name'], i['CI_Width'], i['Obesity_level']\n",
    "    )\n",
    "    curs.execute(ob_insert, values)\n",
    "\n",
    "conn.commit()"
   ]
  },
  {
   "cell_type": "code",
   "execution_count": 126,
   "id": "8086f405-1f7f-4394-80fb-a7d89660b8e8",
   "metadata": {},
   "outputs": [],
   "source": [
    "#commit to confirm changes\n",
    "conn.commit()"
   ]
  },
  {
   "cell_type": "code",
   "execution_count": 128,
   "id": "0eef25bb-b956-4a68-b2d6-6abe71e0a342",
   "metadata": {},
   "outputs": [
    {
     "name": "stderr",
     "output_type": "stream",
     "text": [
      "/var/folders/5j/dqld7g010pn_g3494p0p7yqw0000gn/T/ipykernel_47351/1520569637.py:1: UserWarning: pandas only supports SQLAlchemy connectable (engine/connection) or database string URI or sqlite3 DBAPI2 connection. Other DBAPI2 objects are not tested. Please consider using SQLAlchemy.\n",
      "  pd.read_sql_query('select * from obesity limit 5', conn)\n"
     ]
    },
    {
     "data": {
      "text/html": [
       "<div>\n",
       "<style scoped>\n",
       "    .dataframe tbody tr th:only-of-type {\n",
       "        vertical-align: middle;\n",
       "    }\n",
       "\n",
       "    .dataframe tbody tr th {\n",
       "        vertical-align: top;\n",
       "    }\n",
       "\n",
       "    .dataframe thead th {\n",
       "        text-align: right;\n",
       "    }\n",
       "</style>\n",
       "<table border=\"1\" class=\"dataframe\">\n",
       "  <thead>\n",
       "    <tr style=\"text-align: right;\">\n",
       "      <th></th>\n",
       "      <th>REGION</th>\n",
       "      <th>GENDER</th>\n",
       "      <th>YEAR</th>\n",
       "      <th>LOWER_BOUND</th>\n",
       "      <th>UPPER_BOUND</th>\n",
       "      <th>MEAN_ESTIMATE</th>\n",
       "      <th>AGEGROUP</th>\n",
       "      <th>COUNTRY_NAME</th>\n",
       "      <th>CI_WIDTH</th>\n",
       "      <th>OBESITY_LEVEL</th>\n",
       "    </tr>\n",
       "  </thead>\n",
       "  <tbody>\n",
       "    <tr>\n",
       "      <th>0</th>\n",
       "      <td>Americas</td>\n",
       "      <td>Male</td>\n",
       "      <td>2017</td>\n",
       "      <td>32.9302</td>\n",
       "      <td>40.9135</td>\n",
       "      <td>36.8263</td>\n",
       "      <td>Adult</td>\n",
       "      <td>Bahamas</td>\n",
       "      <td>7.98337</td>\n",
       "      <td>High</td>\n",
       "    </tr>\n",
       "    <tr>\n",
       "      <th>1</th>\n",
       "      <td>Eastern Mediterranean</td>\n",
       "      <td>Male</td>\n",
       "      <td>2020</td>\n",
       "      <td>15.7938</td>\n",
       "      <td>19.2457</td>\n",
       "      <td>17.4876</td>\n",
       "      <td>Adult</td>\n",
       "      <td>Iran, Islamic Republic of</td>\n",
       "      <td>3.45195</td>\n",
       "      <td>Low</td>\n",
       "    </tr>\n",
       "    <tr>\n",
       "      <th>2</th>\n",
       "      <td>Eastern Mediterranean</td>\n",
       "      <td>Male</td>\n",
       "      <td>2020</td>\n",
       "      <td>23.0896</td>\n",
       "      <td>33.8153</td>\n",
       "      <td>28.3355</td>\n",
       "      <td>Adult</td>\n",
       "      <td>Iraq</td>\n",
       "      <td>10.72570</td>\n",
       "      <td>Moderate</td>\n",
       "    </tr>\n",
       "    <tr>\n",
       "      <th>3</th>\n",
       "      <td>Europe</td>\n",
       "      <td>Female</td>\n",
       "      <td>2014</td>\n",
       "      <td>24.9248</td>\n",
       "      <td>31.2133</td>\n",
       "      <td>27.9487</td>\n",
       "      <td>Adult</td>\n",
       "      <td>Greenland</td>\n",
       "      <td>6.28849</td>\n",
       "      <td>Moderate</td>\n",
       "    </tr>\n",
       "    <tr>\n",
       "      <th>4</th>\n",
       "      <td>Europe</td>\n",
       "      <td>Female</td>\n",
       "      <td>2019</td>\n",
       "      <td>28.1607</td>\n",
       "      <td>35.5749</td>\n",
       "      <td>31.8932</td>\n",
       "      <td>Adult</td>\n",
       "      <td>Armenia</td>\n",
       "      <td>7.41425</td>\n",
       "      <td>High</td>\n",
       "    </tr>\n",
       "  </tbody>\n",
       "</table>\n",
       "</div>"
      ],
      "text/plain": [
       "                  REGION  GENDER  YEAR  LOWER_BOUND  UPPER_BOUND  \\\n",
       "0               Americas    Male  2017      32.9302      40.9135   \n",
       "1  Eastern Mediterranean    Male  2020      15.7938      19.2457   \n",
       "2  Eastern Mediterranean    Male  2020      23.0896      33.8153   \n",
       "3                 Europe  Female  2014      24.9248      31.2133   \n",
       "4                 Europe  Female  2019      28.1607      35.5749   \n",
       "\n",
       "   MEAN_ESTIMATE AGEGROUP               COUNTRY_NAME  CI_WIDTH OBESITY_LEVEL  \n",
       "0        36.8263    Adult                    Bahamas   7.98337          High  \n",
       "1        17.4876    Adult  Iran, Islamic Republic of   3.45195           Low  \n",
       "2        28.3355    Adult                       Iraq  10.72570      Moderate  \n",
       "3        27.9487    Adult                  Greenland   6.28849      Moderate  \n",
       "4        31.8932    Adult                    Armenia   7.41425          High  "
      ]
     },
     "execution_count": 128,
     "metadata": {},
     "output_type": "execute_result"
    }
   ],
   "source": [
    "pd.read_sql_query('select * from obesity limit 5', conn)"
   ]
  },
  {
   "cell_type": "code",
   "execution_count": 130,
   "id": "ef891c9b-e5df-4f88-b364-460e889b84e3",
   "metadata": {},
   "outputs": [
    {
     "name": "stdout",
     "output_type": "stream",
     "text": [
      "<class 'pandas.core.frame.DataFrame'>\n",
      "Index: 27720 entries, 0 to 83159\n",
      "Data columns (total 10 columns):\n",
      " #   Column              Non-Null Count  Dtype  \n",
      "---  ------              --------------  -----  \n",
      " 0   Region              27720 non-null  object \n",
      " 1   Gender              27720 non-null  object \n",
      " 2   Year                27720 non-null  int64  \n",
      " 3   Lower_Bound         27720 non-null  float64\n",
      " 4   Upper_bound         27720 non-null  float64\n",
      " 5   Mean_Estimate       27720 non-null  float64\n",
      " 6   AgeGroup            27720 non-null  object \n",
      " 7   Country_Name        27720 non-null  object \n",
      " 8   CI_Width            27720 non-null  float64\n",
      " 9   Malnutrition_level  27720 non-null  object \n",
      "dtypes: float64(4), int64(1), object(5)\n",
      "memory usage: 2.3+ MB\n"
     ]
    }
   ],
   "source": [
    "df_malnut.info()"
   ]
  },
  {
   "cell_type": "code",
   "execution_count": 132,
   "id": "1e1f0137-028c-49ac-b610-58cb1baf2103",
   "metadata": {
    "collapsed": true,
    "jupyter": {
     "outputs_hidden": true
    },
    "scrolled": true
   },
   "outputs": [
    {
     "ename": "OperationalError",
     "evalue": "(1050, \"Table 'malnutrition' already exists\")",
     "output_type": "error",
     "traceback": [
      "\u001b[0;31m---------------------------------------------------------------------------\u001b[0m",
      "\u001b[0;31mOperationalError\u001b[0m                          Traceback (most recent call last)",
      "Cell \u001b[0;32mIn[132], line 2\u001b[0m\n\u001b[1;32m      1\u001b[0m \u001b[38;5;66;03m#create a table named malnutrition\u001b[39;00m\n\u001b[0;32m----> 2\u001b[0m curs\u001b[38;5;241m.\u001b[39mexecute(\u001b[38;5;124m'\u001b[39m\u001b[38;5;124mcreate table Malnutrition(REGION VARCHAR(30),GENDER VARCHAR(30),YEAR INT,LOWER_BOUND FLOAT,UPPER_BOUND FLOAT,MEAN_ESTIMATE FLOAT,AGEGROUP VARCHAR(30),COUNTRY_NAME VARCHAR(40),CI_WIDTH FLOAT,Malnutrition_LEVEL VARCHAR(30))\u001b[39m\u001b[38;5;124m'\u001b[39m)\n",
      "File \u001b[0;32m/opt/anaconda3/lib/python3.12/site-packages/pymysql/cursors.py:153\u001b[0m, in \u001b[0;36mCursor.execute\u001b[0;34m(self, query, args)\u001b[0m\n\u001b[1;32m    149\u001b[0m     \u001b[38;5;28;01mpass\u001b[39;00m\n\u001b[1;32m    151\u001b[0m query \u001b[38;5;241m=\u001b[39m \u001b[38;5;28mself\u001b[39m\u001b[38;5;241m.\u001b[39mmogrify(query, args)\n\u001b[0;32m--> 153\u001b[0m result \u001b[38;5;241m=\u001b[39m \u001b[38;5;28mself\u001b[39m\u001b[38;5;241m.\u001b[39m_query(query)\n\u001b[1;32m    154\u001b[0m \u001b[38;5;28mself\u001b[39m\u001b[38;5;241m.\u001b[39m_executed \u001b[38;5;241m=\u001b[39m query\n\u001b[1;32m    155\u001b[0m \u001b[38;5;28;01mreturn\u001b[39;00m result\n",
      "File \u001b[0;32m/opt/anaconda3/lib/python3.12/site-packages/pymysql/cursors.py:322\u001b[0m, in \u001b[0;36mCursor._query\u001b[0;34m(self, q)\u001b[0m\n\u001b[1;32m    320\u001b[0m conn \u001b[38;5;241m=\u001b[39m \u001b[38;5;28mself\u001b[39m\u001b[38;5;241m.\u001b[39m_get_db()\n\u001b[1;32m    321\u001b[0m \u001b[38;5;28mself\u001b[39m\u001b[38;5;241m.\u001b[39m_clear_result()\n\u001b[0;32m--> 322\u001b[0m conn\u001b[38;5;241m.\u001b[39mquery(q)\n\u001b[1;32m    323\u001b[0m \u001b[38;5;28mself\u001b[39m\u001b[38;5;241m.\u001b[39m_do_get_result()\n\u001b[1;32m    324\u001b[0m \u001b[38;5;28;01mreturn\u001b[39;00m \u001b[38;5;28mself\u001b[39m\u001b[38;5;241m.\u001b[39mrowcount\n",
      "File \u001b[0;32m/opt/anaconda3/lib/python3.12/site-packages/pymysql/connections.py:563\u001b[0m, in \u001b[0;36mConnection.query\u001b[0;34m(self, sql, unbuffered)\u001b[0m\n\u001b[1;32m    561\u001b[0m     sql \u001b[38;5;241m=\u001b[39m sql\u001b[38;5;241m.\u001b[39mencode(\u001b[38;5;28mself\u001b[39m\u001b[38;5;241m.\u001b[39mencoding, \u001b[38;5;124m\"\u001b[39m\u001b[38;5;124msurrogateescape\u001b[39m\u001b[38;5;124m\"\u001b[39m)\n\u001b[1;32m    562\u001b[0m \u001b[38;5;28mself\u001b[39m\u001b[38;5;241m.\u001b[39m_execute_command(COMMAND\u001b[38;5;241m.\u001b[39mCOM_QUERY, sql)\n\u001b[0;32m--> 563\u001b[0m \u001b[38;5;28mself\u001b[39m\u001b[38;5;241m.\u001b[39m_affected_rows \u001b[38;5;241m=\u001b[39m \u001b[38;5;28mself\u001b[39m\u001b[38;5;241m.\u001b[39m_read_query_result(unbuffered\u001b[38;5;241m=\u001b[39munbuffered)\n\u001b[1;32m    564\u001b[0m \u001b[38;5;28;01mreturn\u001b[39;00m \u001b[38;5;28mself\u001b[39m\u001b[38;5;241m.\u001b[39m_affected_rows\n",
      "File \u001b[0;32m/opt/anaconda3/lib/python3.12/site-packages/pymysql/connections.py:825\u001b[0m, in \u001b[0;36mConnection._read_query_result\u001b[0;34m(self, unbuffered)\u001b[0m\n\u001b[1;32m    823\u001b[0m \u001b[38;5;28;01melse\u001b[39;00m:\n\u001b[1;32m    824\u001b[0m     result \u001b[38;5;241m=\u001b[39m MySQLResult(\u001b[38;5;28mself\u001b[39m)\n\u001b[0;32m--> 825\u001b[0m     result\u001b[38;5;241m.\u001b[39mread()\n\u001b[1;32m    826\u001b[0m \u001b[38;5;28mself\u001b[39m\u001b[38;5;241m.\u001b[39m_result \u001b[38;5;241m=\u001b[39m result\n\u001b[1;32m    827\u001b[0m \u001b[38;5;28;01mif\u001b[39;00m result\u001b[38;5;241m.\u001b[39mserver_status \u001b[38;5;129;01mis\u001b[39;00m \u001b[38;5;129;01mnot\u001b[39;00m \u001b[38;5;28;01mNone\u001b[39;00m:\n",
      "File \u001b[0;32m/opt/anaconda3/lib/python3.12/site-packages/pymysql/connections.py:1199\u001b[0m, in \u001b[0;36mMySQLResult.read\u001b[0;34m(self)\u001b[0m\n\u001b[1;32m   1197\u001b[0m \u001b[38;5;28;01mdef\u001b[39;00m \u001b[38;5;21mread\u001b[39m(\u001b[38;5;28mself\u001b[39m):\n\u001b[1;32m   1198\u001b[0m     \u001b[38;5;28;01mtry\u001b[39;00m:\n\u001b[0;32m-> 1199\u001b[0m         first_packet \u001b[38;5;241m=\u001b[39m \u001b[38;5;28mself\u001b[39m\u001b[38;5;241m.\u001b[39mconnection\u001b[38;5;241m.\u001b[39m_read_packet()\n\u001b[1;32m   1201\u001b[0m         \u001b[38;5;28;01mif\u001b[39;00m first_packet\u001b[38;5;241m.\u001b[39mis_ok_packet():\n\u001b[1;32m   1202\u001b[0m             \u001b[38;5;28mself\u001b[39m\u001b[38;5;241m.\u001b[39m_read_ok_packet(first_packet)\n",
      "File \u001b[0;32m/opt/anaconda3/lib/python3.12/site-packages/pymysql/connections.py:775\u001b[0m, in \u001b[0;36mConnection._read_packet\u001b[0;34m(self, packet_type)\u001b[0m\n\u001b[1;32m    773\u001b[0m     \u001b[38;5;28;01mif\u001b[39;00m \u001b[38;5;28mself\u001b[39m\u001b[38;5;241m.\u001b[39m_result \u001b[38;5;129;01mis\u001b[39;00m \u001b[38;5;129;01mnot\u001b[39;00m \u001b[38;5;28;01mNone\u001b[39;00m \u001b[38;5;129;01mand\u001b[39;00m \u001b[38;5;28mself\u001b[39m\u001b[38;5;241m.\u001b[39m_result\u001b[38;5;241m.\u001b[39munbuffered_active \u001b[38;5;129;01mis\u001b[39;00m \u001b[38;5;28;01mTrue\u001b[39;00m:\n\u001b[1;32m    774\u001b[0m         \u001b[38;5;28mself\u001b[39m\u001b[38;5;241m.\u001b[39m_result\u001b[38;5;241m.\u001b[39munbuffered_active \u001b[38;5;241m=\u001b[39m \u001b[38;5;28;01mFalse\u001b[39;00m\n\u001b[0;32m--> 775\u001b[0m     packet\u001b[38;5;241m.\u001b[39mraise_for_error()\n\u001b[1;32m    776\u001b[0m \u001b[38;5;28;01mreturn\u001b[39;00m packet\n",
      "File \u001b[0;32m/opt/anaconda3/lib/python3.12/site-packages/pymysql/protocol.py:219\u001b[0m, in \u001b[0;36mMysqlPacket.raise_for_error\u001b[0;34m(self)\u001b[0m\n\u001b[1;32m    217\u001b[0m \u001b[38;5;28;01mif\u001b[39;00m DEBUG:\n\u001b[1;32m    218\u001b[0m     \u001b[38;5;28mprint\u001b[39m(\u001b[38;5;124m\"\u001b[39m\u001b[38;5;124merrno =\u001b[39m\u001b[38;5;124m\"\u001b[39m, errno)\n\u001b[0;32m--> 219\u001b[0m err\u001b[38;5;241m.\u001b[39mraise_mysql_exception(\u001b[38;5;28mself\u001b[39m\u001b[38;5;241m.\u001b[39m_data)\n",
      "File \u001b[0;32m/opt/anaconda3/lib/python3.12/site-packages/pymysql/err.py:150\u001b[0m, in \u001b[0;36mraise_mysql_exception\u001b[0;34m(data)\u001b[0m\n\u001b[1;32m    148\u001b[0m \u001b[38;5;28;01mif\u001b[39;00m errorclass \u001b[38;5;129;01mis\u001b[39;00m \u001b[38;5;28;01mNone\u001b[39;00m:\n\u001b[1;32m    149\u001b[0m     errorclass \u001b[38;5;241m=\u001b[39m InternalError \u001b[38;5;28;01mif\u001b[39;00m errno \u001b[38;5;241m<\u001b[39m \u001b[38;5;241m1000\u001b[39m \u001b[38;5;28;01melse\u001b[39;00m OperationalError\n\u001b[0;32m--> 150\u001b[0m \u001b[38;5;28;01mraise\u001b[39;00m errorclass(errno, errval)\n",
      "\u001b[0;31mOperationalError\u001b[0m: (1050, \"Table 'malnutrition' already exists\")"
     ]
    }
   ],
   "source": [
    "#create a table named malnutrition\n",
    "curs.execute('create table Malnutrition(REGION VARCHAR(30),GENDER VARCHAR(30),YEAR INT,LOWER_BOUND FLOAT,UPPER_BOUND FLOAT,MEAN_ESTIMATE FLOAT,AGEGROUP VARCHAR(30),COUNTRY_NAME VARCHAR(40),CI_WIDTH FLOAT,Malnutrition_LEVEL VARCHAR(30))')"
   ]
  },
  {
   "cell_type": "code",
   "execution_count": 134,
   "id": "8c67e3fc-c883-41a9-ba54-bc92cfc6e7c0",
   "metadata": {},
   "outputs": [],
   "source": [
    "#insert values into the table\n",
    "ml_insert= '''insert into Malnutrition(REGION,GENDER,YEAR,LOWER_BOUND,UPPER_BOUND,MEAN_ESTIMATE,AGEGROUP,COUNTRY_NAME,CI_WIDTH,Malnutrition_LEVEL) values(%s,%s,%s,%s,%s,%s,%s,%s,%s,%s)'''\n",
    "for _,i in df_malnut.iterrows():\n",
    "    values=(i['Region'],i['Gender'],i['Year'],i['Lower_Bound'],i['Upper_bound'],i['Mean_Estimate'],i['AgeGroup'],i['Country_Name'],i['CI_Width'],i['Malnutrition_level'])\n",
    "    curs.execute(ml_insert,values)"
   ]
  },
  {
   "cell_type": "code",
   "execution_count": 136,
   "id": "fc622fa9-5dee-453b-964a-e3f92e3f700d",
   "metadata": {},
   "outputs": [],
   "source": [
    "#commit to confirm changes\n",
    "conn.commit()"
   ]
  },
  {
   "cell_type": "code",
   "execution_count": 138,
   "id": "c37e7767-48c5-45b7-bdf7-cd1c652fcff0",
   "metadata": {
    "jupyter": {
     "source_hidden": true
    }
   },
   "outputs": [
    {
     "name": "stderr",
     "output_type": "stream",
     "text": [
      "/var/folders/5j/dqld7g010pn_g3494p0p7yqw0000gn/T/ipykernel_47351/175623308.py:1: UserWarning: pandas only supports SQLAlchemy connectable (engine/connection) or database string URI or sqlite3 DBAPI2 connection. Other DBAPI2 objects are not tested. Please consider using SQLAlchemy.\n",
      "  pd.read_sql_query('select* from malnutrition limit 5',conn)\n"
     ]
    },
    {
     "data": {
      "text/html": [
       "<div>\n",
       "<style scoped>\n",
       "    .dataframe tbody tr th:only-of-type {\n",
       "        vertical-align: middle;\n",
       "    }\n",
       "\n",
       "    .dataframe tbody tr th {\n",
       "        vertical-align: top;\n",
       "    }\n",
       "\n",
       "    .dataframe thead th {\n",
       "        text-align: right;\n",
       "    }\n",
       "</style>\n",
       "<table border=\"1\" class=\"dataframe\">\n",
       "  <thead>\n",
       "    <tr style=\"text-align: right;\">\n",
       "      <th></th>\n",
       "      <th>REGION</th>\n",
       "      <th>GENDER</th>\n",
       "      <th>YEAR</th>\n",
       "      <th>LOWER_BOUND</th>\n",
       "      <th>UPPER_BOUND</th>\n",
       "      <th>MEAN_ESTIMATE</th>\n",
       "      <th>AGEGROUP</th>\n",
       "      <th>COUNTRY_NAME</th>\n",
       "      <th>CI_WIDTH</th>\n",
       "      <th>Malnutrition_LEVEL</th>\n",
       "    </tr>\n",
       "  </thead>\n",
       "  <tbody>\n",
       "    <tr>\n",
       "      <th>0</th>\n",
       "      <td>Americas</td>\n",
       "      <td>Male</td>\n",
       "      <td>2013</td>\n",
       "      <td>0.94316</td>\n",
       "      <td>1.89881</td>\n",
       "      <td>1.36614</td>\n",
       "      <td>Adult</td>\n",
       "      <td>Argentina</td>\n",
       "      <td>0.95565</td>\n",
       "      <td>Low</td>\n",
       "    </tr>\n",
       "    <tr>\n",
       "      <th>1</th>\n",
       "      <td>Africa</td>\n",
       "      <td>Female</td>\n",
       "      <td>2021</td>\n",
       "      <td>3.97204</td>\n",
       "      <td>8.07702</td>\n",
       "      <td>5.79511</td>\n",
       "      <td>Adult</td>\n",
       "      <td>Gabon</td>\n",
       "      <td>4.10498</td>\n",
       "      <td>Low</td>\n",
       "    </tr>\n",
       "    <tr>\n",
       "      <th>2</th>\n",
       "      <td>Western Pacific</td>\n",
       "      <td>Both</td>\n",
       "      <td>2017</td>\n",
       "      <td>2.42823</td>\n",
       "      <td>3.84215</td>\n",
       "      <td>3.09065</td>\n",
       "      <td>Adult</td>\n",
       "      <td>Mongolia</td>\n",
       "      <td>1.41392</td>\n",
       "      <td>Low</td>\n",
       "    </tr>\n",
       "    <tr>\n",
       "      <th>3</th>\n",
       "      <td>Africa</td>\n",
       "      <td>Female</td>\n",
       "      <td>2016</td>\n",
       "      <td>6.65567</td>\n",
       "      <td>10.25310</td>\n",
       "      <td>8.37172</td>\n",
       "      <td>Adult</td>\n",
       "      <td>Sierra Leone</td>\n",
       "      <td>3.59745</td>\n",
       "      <td>Low</td>\n",
       "    </tr>\n",
       "    <tr>\n",
       "      <th>4</th>\n",
       "      <td>Other</td>\n",
       "      <td>Both</td>\n",
       "      <td>2021</td>\n",
       "      <td>12.24230</td>\n",
       "      <td>14.44290</td>\n",
       "      <td>13.33640</td>\n",
       "      <td>Adult</td>\n",
       "      <td>South-East Asia Region</td>\n",
       "      <td>2.20055</td>\n",
       "      <td>Low</td>\n",
       "    </tr>\n",
       "  </tbody>\n",
       "</table>\n",
       "</div>"
      ],
      "text/plain": [
       "            REGION  GENDER  YEAR  LOWER_BOUND  UPPER_BOUND  MEAN_ESTIMATE  \\\n",
       "0         Americas    Male  2013      0.94316      1.89881        1.36614   \n",
       "1           Africa  Female  2021      3.97204      8.07702        5.79511   \n",
       "2  Western Pacific    Both  2017      2.42823      3.84215        3.09065   \n",
       "3           Africa  Female  2016      6.65567     10.25310        8.37172   \n",
       "4            Other    Both  2021     12.24230     14.44290       13.33640   \n",
       "\n",
       "  AGEGROUP            COUNTRY_NAME  CI_WIDTH Malnutrition_LEVEL  \n",
       "0    Adult               Argentina   0.95565                Low  \n",
       "1    Adult                   Gabon   4.10498                Low  \n",
       "2    Adult                Mongolia   1.41392                Low  \n",
       "3    Adult            Sierra Leone   3.59745                Low  \n",
       "4    Adult  South-East Asia Region   2.20055                Low  "
      ]
     },
     "execution_count": 138,
     "metadata": {},
     "output_type": "execute_result"
    }
   ],
   "source": [
    "pd.read_sql_query('select* from malnutrition limit 5',conn)"
   ]
  },
  {
   "cell_type": "code",
   "execution_count": 140,
   "id": "9555e66f-b14f-448c-b6be-69d8efcfd081",
   "metadata": {},
   "outputs": [],
   "source": [
    "conn.close()"
   ]
  },
  {
   "cell_type": "code",
   "execution_count": 146,
   "id": "8c6b8da7-8ece-445b-a741-9b129b58486a",
   "metadata": {},
   "outputs": [],
   "source": [
    "import plotly.graph_objects as pg"
   ]
  },
  {
   "cell_type": "code",
   "execution_count": 148,
   "id": "194e2063-897b-4f32-8523-fc1ac475cd97",
   "metadata": {},
   "outputs": [
    {
     "data": {
      "text/plain": [
       "<Figure size 20000x20000 with 0 Axes>"
      ]
     },
     "metadata": {},
     "output_type": "display_data"
    },
    {
     "data": {
      "image/png": "[encoded data removed]",
      "text/plain": [
       "<Figure size 640x480 with 1 Axes>"
      ]
     },
     "metadata": {},
     "output_type": "display_data"
    }
   ],
   "source": [
    "#plottings\n",
    "ply.figure(figsize=(200,200))\n",
    "ax = df_obese.plot(\"Year\",'Mean_Estimate',kind='line',label='Obesity')\n",
    "df_malnut.plot('Year','Mean_Estimate',ax=ax,kind='line',label=\"Malnutrition\")\n",
    "ply.title('Obesity vs. Malnutrition Over Time')\n",
    "ply.xlabel('Year')\n",
    "ply.ylabel('Mean Estimate')\n",
    "ply.xticks(df_obese[\"Year\"])\n",
    "ply.legend()\n",
    "ply.show()\n"
   ]
  },
  {
   "cell_type": "code",
   "execution_count": 150,
   "id": "17ceb13e-22ff-452c-a6ee-6e5e30d7d396",
   "metadata": {},
   "outputs": [
    {
     "data": {
      "application/vnd.plotly.v1+json": {
       "config": {
        "plotlyServerURL": "https://plot.ly"
       },
       "data": [
        {
         "alignmentgroup": "True",
         "hovertemplate": "Country_Name=%{x}<br>Average Obesity (%)=%{marker.color}<extra></extra>",
         "legendgroup": "",
         "marker": {
          "color": [
           40.664873,
           39.91717259848485,
           38.512100499999995,
           37.9609658030303,
           36.892014833333334,
           36.606795007575755,
           33.97153476515152,
           29.40230953787879,
           29.195151386363637,
           29.05947737121212
          ],
          "coloraxis": "coloraxis",
          "pattern": {
           "shape": ""
          }
         },
         "name": "",
         "offsetgroup": "",
         "orientation": "v",
         "showlegend": false,
         "textposition": "auto",
         "type": "bar",
         "x": [
          "Niue",
          "Cook Islands",
          "Nauru",
          "Tokelau",
          "American Samoa",
          "Tonga",
          "Tuvalu",
          "Bahamas",
          "French Polynesia",
          "Samoa"
         ],
         "xaxis": "x",
         "y": [
          40.664873,
          39.91717259848485,
          38.512100499999995,
          37.9609658030303,
          36.892014833333334,
          36.606795007575755,
          33.97153476515152,
          29.40230953787879,
          29.195151386363637,
          29.05947737121212
         ],
         "yaxis": "y"
        }
       ],
       "layout": {
        "barmode": "relative",
        "coloraxis": {
         "colorbar": {
          "title": {
           "text": "Average Obesity (%)"
          }
         },
         "colorscale": [
          [
           0,
           "rgb(255,245,235)"
          ],
          [
           0.125,
           "rgb(254,230,206)"
          ],
          [
           0.25,
           "rgb(253,208,162)"
          ],
          [
           0.375,
           "rgb(253,174,107)"
          ],
          [
           0.5,
           "rgb(253,141,60)"
          ],
          [
           0.625,
           "rgb(241,105,19)"
          ],
          [
           0.75,
           "rgb(217,72,1)"
          ],
          [
           0.875,
           "rgb(166,54,3)"
          ],
          [
           1,
           "rgb(127,39,4)"
          ]
         ]
        },
        "height": 500,
        "legend": {
         "tracegroupgap": 0
        },
        "template": {
         "data": {
          "bar": [
           {
            "error_x": {
             "color": "#2a3f5f"
            },
            "error_y": {
             "color": "#2a3f5f"
            },
            "marker": {
             "line": {
              "color": "#E5ECF6",
              "width": 0.5
             },
             "pattern": {
              "fillmode": "overlay",
              "size": 10,
              "solidity": 0.2
             }
            },
            "type": "bar"
           }
          ],
          "barpolar": [
           {
            "marker": {
             "line": {
              "color": "#E5ECF6",
              "width": 0.5
             },
             "pattern": {
              "fillmode": "overlay",
              "size": 10,
              "solidity": 0.2
             }
            },
            "type": "barpolar"
           }
          ],
          "carpet": [
           {
            "aaxis": {
             "endlinecolor": "#2a3f5f",
             "gridcolor": "white",
             "linecolor": "white",
             "minorgridcolor": "white",
             "startlinecolor": "#2a3f5f"
            },
            "baxis": {
             "endlinecolor": "#2a3f5f",
             "gridcolor": "white",
             "linecolor": "white",
             "minorgridcolor": "white",
             "startlinecolor": "#2a3f5f"
            },
            "type": "carpet"
           }
          ],
          "choropleth": [
           {
            "colorbar": {
             "outlinewidth": 0,
             "ticks": ""
            },
            "type": "choropleth"
           }
          ],
          "contour": [
           {
            "colorbar": {
             "outlinewidth": 0,
             "ticks": ""
            },
            "colorscale": [
             [
              0,
              "#0d0887"
             ],
             [
              0.1111111111111111,
              "#46039f"
             ],
             [
              0.2222222222222222,
              "#7201a8"
             ],
             [
              0.3333333333333333,
              "#9c179e"
             ],
             [
              0.4444444444444444,
              "#bd3786"
             ],
             [
              0.5555555555555556,
              "#d8576b"
             ],
             [
              0.6666666666666666,
              "#ed7953"
             ],
             [
              0.7777777777777778,
              "#fb9f3a"
             ],
             [
              0.8888888888888888,
              "#fdca26"
             ],
             [
              1,
              "#f0f921"
             ]
            ],
            "type": "contour"
           }
          ],
          "contourcarpet": [
           {
            "colorbar": {
             "outlinewidth": 0,
             "ticks": ""
            },
            "type": "contourcarpet"
           }
          ],
          "heatmap": [
           {
            "colorbar": {
             "outlinewidth": 0,
             "ticks": ""
            },
            "colorscale": [
             [
              0,
              "#0d0887"
             ],
             [
              0.1111111111111111,
              "#46039f"
             ],
             [
              0.2222222222222222,
              "#7201a8"
             ],
             [
              0.3333333333333333,
              "#9c179e"
             ],
             [
              0.4444444444444444,
              "#bd3786"
             ],
             [
              0.5555555555555556,
              "#d8576b"
             ],
             [
              0.6666666666666666,
              "#ed7953"
             ],
             [
              0.7777777777777778,
              "#fb9f3a"
             ],
             [
              0.8888888888888888,
              "#fdca26"
             ],
             [
              1,
              "#f0f921"
             ]
            ],
            "type": "heatmap"
           }
          ],
          "heatmapgl": [
           {
            "colorbar": {
             "outlinewidth": 0,
             "ticks": ""
            },
            "colorscale": [
             [
              0,
              "#0d0887"
             ],
             [
              0.1111111111111111,
              "#46039f"
             ],
             [
              0.2222222222222222,
              "#7201a8"
             ],
             [
              0.3333333333333333,
              "#9c179e"
             ],
             [
              0.4444444444444444,
              "#bd3786"
             ],
             [
              0.5555555555555556,
              "#d8576b"
             ],
             [
              0.6666666666666666,
              "#ed7953"
             ],
             [
              0.7777777777777778,
              "#fb9f3a"
             ],
             [
              0.8888888888888888,
              "#fdca26"
             ],
             [
              1,
              "#f0f921"
             ]
            ],
            "type": "heatmapgl"
           }
          ],
          "histogram": [
           {
            "marker": {
             "pattern": {
              "fillmode": "overlay",
              "size": 10,
              "solidity": 0.2
             }
            },
            "type": "histogram"
           }
          ],
          "histogram2d": [
           {
            "colorbar": {
             "outlinewidth": 0,
             "ticks": ""
            },
            "colorscale": [
             [
              0,
              "#0d0887"
             ],
             [
              0.1111111111111111,
              "#46039f"
             ],
             [
              0.2222222222222222,
              "#7201a8"
             ],
             [
              0.3333333333333333,
              "#9c179e"
             ],
             [
              0.4444444444444444,
              "#bd3786"
             ],
             [
              0.5555555555555556,
              "#d8576b"
             ],
             [
              0.6666666666666666,
              "#ed7953"
             ],
             [
              0.7777777777777778,
              "#fb9f3a"
             ],
             [
              0.8888888888888888,
              "#fdca26"
             ],
             [
              1,
              "#f0f921"
             ]
            ],
            "type": "histogram2d"
           }
          ],
          "histogram2dcontour": [
           {
            "colorbar": {
             "outlinewidth": 0,
             "ticks": ""
            },
            "colorscale": [
             [
              0,
              "#0d0887"
             ],
             [
              0.1111111111111111,
              "#46039f"
             ],
             [
              0.2222222222222222,
              "#7201a8"
             ],
             [
              0.3333333333333333,
              "#9c179e"
             ],
             [
              0.4444444444444444,
              "#bd3786"
             ],
             [
              0.5555555555555556,
              "#d8576b"
             ],
             [
              0.6666666666666666,
              "#ed7953"
             ],
             [
              0.7777777777777778,
              "#fb9f3a"
             ],
             [
              0.8888888888888888,
              "#fdca26"
             ],
             [
              1,
              "#f0f921"
             ]
            ],
            "type": "histogram2dcontour"
           }
          ],
          "mesh3d": [
           {
            "colorbar": {
             "outlinewidth": 0,
             "ticks": ""
            },
            "type": "mesh3d"
           }
          ],
          "parcoords": [
           {
            "line": {
             "colorbar": {
              "outlinewidth": 0,
              "ticks": ""
             }
            },
            "type": "parcoords"
           }
          ],
          "pie": [
           {
            "automargin": true,
            "type": "pie"
           }
          ],
          "scatter": [
           {
            "fillpattern": {
             "fillmode": "overlay",
             "size": 10,
             "solidity": 0.2
            },
            "type": "scatter"
           }
          ],
          "scatter3d": [
           {
            "line": {
             "colorbar": {
              "outlinewidth": 0,
              "ticks": ""
             }
            },
            "marker": {
             "colorbar": {
              "outlinewidth": 0,
              "ticks": ""
             }
            },
            "type": "scatter3d"
           }
          ],
          "scattercarpet": [
           {
            "marker": {
             "colorbar": {
              "outlinewidth": 0,
              "ticks": ""
             }
            },
            "type": "scattercarpet"
           }
          ],
          "scattergeo": [
           {
            "marker": {
             "colorbar": {
              "outlinewidth": 0,
              "ticks": ""
             }
            },
            "type": "scattergeo"
           }
          ],
          "scattergl": [
           {
            "marker": {
             "colorbar": {
              "outlinewidth": 0,
              "ticks": ""
             }
            },
            "type": "scattergl"
           }
          ],
          "scattermapbox": [
           {
            "marker": {
             "colorbar": {
              "outlinewidth": 0,
              "ticks": ""
             }
            },
            "type": "scattermapbox"
           }
          ],
          "scatterpolar": [
           {
            "marker": {
             "colorbar": {
              "outlinewidth": 0,
              "ticks": ""
             }
            },
            "type": "scatterpolar"
           }
          ],
          "scatterpolargl": [
           {
            "marker": {
             "colorbar": {
              "outlinewidth": 0,
              "ticks": ""
             }
            },
            "type": "scatterpolargl"
           }
          ],
          "scatterternary": [
           {
            "marker": {
             "colorbar": {
              "outlinewidth": 0,
              "ticks": ""
             }
            },
            "type": "scatterternary"
           }
          ],
          "surface": [
           {
            "colorbar": {
             "outlinewidth": 0,
             "ticks": ""
            },
            "colorscale": [
             [
              0,
              "#0d0887"
             ],
             [
              0.1111111111111111,
              "#46039f"
             ],
             [
              0.2222222222222222,
              "#7201a8"
             ],
             [
              0.3333333333333333,
              "#9c179e"
             ],
             [
              0.4444444444444444,
              "#bd3786"
             ],
             [
              0.5555555555555556,
              "#d8576b"
             ],
             [
              0.6666666666666666,
              "#ed7953"
             ],
             [
              0.7777777777777778,
              "#fb9f3a"
             ],
             [
              0.8888888888888888,
              "#fdca26"
             ],
             [
              1,
              "#f0f921"
             ]
            ],
            "type": "surface"
           }
          ],
          "table": [
           {
            "cells": {
             "fill": {
              "color": "#EBF0F8"
             },
             "line": {
              "color": "white"
             }
            },
            "header": {
             "fill": {
              "color": "#C8D4E3"
             },
             "line": {
              "color": "white"
             }
            },
            "type": "table"
           }
          ]
         },
         "layout": {
          "annotationdefaults": {
           "arrowcolor": "#2a3f5f",
           "arrowhead": 0,
           "arrowwidth": 1
          },
          "autotypenumbers": "strict",
          "coloraxis": {
           "colorbar": {
            "outlinewidth": 0,
            "ticks": ""
           }
          },
          "colorscale": {
           "diverging": [
            [
             0,
             "#8e0152"
            ],
            [
             0.1,
             "#c51b7d"
            ],
            [
             0.2,
             "#de77ae"
            ],
            [
             0.3,
             "#f1b6da"
            ],
            [
             0.4,
             "#fde0ef"
            ],
            [
             0.5,
             "#f7f7f7"
            ],
            [
             0.6,
             "#e6f5d0"
            ],
            [
             0.7,
             "#b8e186"
            ],
            [
             0.8,
             "#7fbc41"
            ],
            [
             0.9,
             "#4d9221"
            ],
            [
             1,
             "#276419"
            ]
           ],
           "sequential": [
            [
             0,
             "#0d0887"
            ],
            [
             0.1111111111111111,
             "#46039f"
            ],
            [
             0.2222222222222222,
             "#7201a8"
            ],
            [
             0.3333333333333333,
             "#9c179e"
            ],
            [
             0.4444444444444444,
             "#bd3786"
            ],
            [
             0.5555555555555556,
             "#d8576b"
            ],
            [
             0.6666666666666666,
             "#ed7953"
            ],
            [
             0.7777777777777778,
             "#fb9f3a"
            ],
            [
             0.8888888888888888,
             "#fdca26"
            ],
            [
             1,
             "#f0f921"
            ]
           ],
           "sequentialminus": [
            [
             0,
             "#0d0887"
            ],
            [
             0.1111111111111111,
             "#46039f"
            ],
            [
             0.2222222222222222,
             "#7201a8"
            ],
            [
             0.3333333333333333,
             "#9c179e"
            ],
            [
             0.4444444444444444,
             "#bd3786"
            ],
            [
             0.5555555555555556,
             "#d8576b"
            ],
            [
             0.6666666666666666,
             "#ed7953"
            ],
            [
             0.7777777777777778,
             "#fb9f3a"
            ],
            [
             0.8888888888888888,
             "#fdca26"
            ],
            [
             1,
             "#f0f921"
            ]
           ]
          },
          "colorway": [
           "#636efa",
           "#EF553B",
           "#00cc96",
           "#ab63fa",
           "#FFA15A",
           "#19d3f3",
           "#FF6692",
           "#B6E880",
           "#FF97FF",
           "#FECB52"
          ],
          "font": {
           "color": "#2a3f5f"
          },
          "geo": {
           "bgcolor": "white",
           "lakecolor": "white",
           "landcolor": "#E5ECF6",
           "showlakes": true,
           "showland": true,
           "subunitcolor": "white"
          },
          "hoverlabel": {
           "align": "left"
          },
          "hovermode": "closest",
          "mapbox": {
           "style": "light"
          },
          "paper_bgcolor": "white",
          "plot_bgcolor": "#E5ECF6",
          "polar": {
           "angularaxis": {
            "gridcolor": "white",
            "linecolor": "white",
            "ticks": ""
           },
           "bgcolor": "#E5ECF6",
           "radialaxis": {
            "gridcolor": "white",
            "linecolor": "white",
            "ticks": ""
           }
          },
          "scene": {
           "xaxis": {
            "backgroundcolor": "#E5ECF6",
            "gridcolor": "white",
            "gridwidth": 2,
            "linecolor": "white",
            "showbackground": true,
            "ticks": "",
            "zerolinecolor": "white"
           },
           "yaxis": {
            "backgroundcolor": "#E5ECF6",
            "gridcolor": "white",
            "gridwidth": 2,
            "linecolor": "white",
            "showbackground": true,
            "ticks": "",
            "zerolinecolor": "white"
           },
           "zaxis": {
            "backgroundcolor": "#E5ECF6",
            "gridcolor": "white",
            "gridwidth": 2,
            "linecolor": "white",
            "showbackground": true,
            "ticks": "",
            "zerolinecolor": "white"
           }
          },
          "shapedefaults": {
           "line": {
            "color": "#2a3f5f"
           }
          },
          "ternary": {
           "aaxis": {
            "gridcolor": "white",
            "linecolor": "white",
            "ticks": ""
           },
           "baxis": {
            "gridcolor": "white",
            "linecolor": "white",
            "ticks": ""
           },
           "bgcolor": "#E5ECF6",
           "caxis": {
            "gridcolor": "white",
            "linecolor": "white",
            "ticks": ""
           }
          },
          "title": {
           "x": 0.05
          },
          "xaxis": {
           "automargin": true,
           "gridcolor": "white",
           "linecolor": "white",
           "ticks": "",
           "title": {
            "standoff": 15
           },
           "zerolinecolor": "white",
           "zerolinewidth": 2
          },
          "yaxis": {
           "automargin": true,
           "gridcolor": "white",
           "linecolor": "white",
           "ticks": "",
           "title": {
            "standoff": 15
           },
           "zerolinecolor": "white",
           "zerolinewidth": 2
          }
         }
        },
        "title": {
         "text": "Top 10 Countries by Average Obesity"
        },
        "width": 900,
        "xaxis": {
         "anchor": "y",
         "autorange": true,
         "domain": [
          0,
          1
         ],
         "range": [
          -0.5,
          9.5
         ],
         "tickangle": -45,
         "title": {
          "text": "Country_Name"
         },
         "type": "category"
        },
        "yaxis": {
         "anchor": "x",
         "autorange": true,
         "domain": [
          0,
          1
         ],
         "range": [
          0,
          42.80512947368421
         ],
         "title": {
          "text": "Average Obesity (%)"
         },
         "type": "linear"
        }
       }
      },
      "image/png": "[encoded data removed]",
      "text/html": [
       "<div>                            <div id=\"8f78b5ed-c2e0-4527-9aa9-02f244b72f4c\" class=\"plotly-graph-div\" style=\"height:500px; width:900px;\"></div>            <script type=\"text/javascript\">                require([\"plotly\"], function(Plotly) {                    window.PLOTLYENV=window.PLOTLYENV || {};                                    if (document.getElementById(\"8f78b5ed-c2e0-4527-9aa9-02f244b72f4c\")) {                    Plotly.newPlot(                        \"8f78b5ed-c2e0-4527-9aa9-02f244b72f4c\",                        [{\"alignmentgroup\":\"True\",\"hovertemplate\":\"Country_Name=%{x}\\u003cbr\\u003eAverage Obesity (%)=%{marker.color}\\u003cextra\\u003e\\u003c\\u002fextra\\u003e\",\"legendgroup\":\"\",\"marker\":{\"color\":[40.664873,39.91717259848485,38.512100499999995,37.9609658030303,36.892014833333334,36.606795007575755,33.97153476515152,29.40230953787879,29.195151386363637,29.05947737121212],\"coloraxis\":\"coloraxis\",\"pattern\":{\"shape\":\"\"}},\"name\":\"\",\"offsetgroup\":\"\",\"orientation\":\"v\",\"showlegend\":false,\"textposition\":\"auto\",\"x\":[\"Niue\",\"Cook Islands\",\"Nauru\",\"Tokelau\",\"American Samoa\",\"Tonga\",\"Tuvalu\",\"Bahamas\",\"French Polynesia\",\"Samoa\"],\"xaxis\":\"x\",\"y\":[40.664873,39.91717259848485,38.512100499999995,37.9609658030303,36.892014833333334,36.606795007575755,33.97153476515152,29.40230953787879,29.195151386363637,29.05947737121212],\"yaxis\":\"y\",\"type\":\"bar\"}],                        {\"template\":{\"data\":{\"histogram2dcontour\":[{\"type\":\"histogram2dcontour\",\"colorbar\":{\"outlinewidth\":0,\"ticks\":\"\"},\"colorscale\":[[0.0,\"#0d0887\"],[0.1111111111111111,\"#46039f\"],[0.2222222222222222,\"#7201a8\"],[0.3333333333333333,\"#9c179e\"],[0.4444444444444444,\"#bd3786\"],[0.5555555555555556,\"#d8576b\"],[0.6666666666666666,\"#ed7953\"],[0.7777777777777778,\"#fb9f3a\"],[0.8888888888888888,\"#fdca26\"],[1.0,\"#f0f921\"]]}],\"choropleth\":[{\"type\":\"choropleth\",\"colorbar\":{\"outlinewidth\":0,\"ticks\":\"\"}}],\"histogram2d\":[{\"type\":\"histogram2d\",\"colorbar\":{\"outlinewidth\":0,\"ticks\":\"\"},\"colorscale\":[[0.0,\"#0d0887\"],[0.1111111111111111,\"#46039f\"],[0.2222222222222222,\"#7201a8\"],[0.3333333333333333,\"#9c179e\"],[0.4444444444444444,\"#bd3786\"],[0.5555555555555556,\"#d8576b\"],[0.6666666666666666,\"#ed7953\"],[0.7777777777777778,\"#fb9f3a\"],[0.8888888888888888,\"#fdca26\"],[1.0,\"#f0f921\"]]}],\"heatmap\":[{\"type\":\"heatmap\",\"colorbar\":{\"outlinewidth\":0,\"ticks\":\"\"},\"colorscale\":[[0.0,\"#0d0887\"],[0.1111111111111111,\"#46039f\"],[0.2222222222222222,\"#7201a8\"],[0.3333333333333333,\"#9c179e\"],[0.4444444444444444,\"#bd3786\"],[0.5555555555555556,\"#d8576b\"],[0.6666666666666666,\"#ed7953\"],[0.7777777777777778,\"#fb9f3a\"],[0.8888888888888888,\"#fdca26\"],[1.0,\"#f0f921\"]]}],\"heatmapgl\":[{\"type\":\"heatmapgl\",\"colorbar\":{\"outlinewidth\":0,\"ticks\":\"\"},\"colorscale\":[[0.0,\"#0d0887\"],[0.1111111111111111,\"#46039f\"],[0.2222222222222222,\"#7201a8\"],[0.3333333333333333,\"#9c179e\"],[0.4444444444444444,\"#bd3786\"],[0.5555555555555556,\"#d8576b\"],[0.6666666666666666,\"#ed7953\"],[0.7777777777777778,\"#fb9f3a\"],[0.8888888888888888,\"#fdca26\"],[1.0,\"#f0f921\"]]}],\"contourcarpet\":[{\"type\":\"contourcarpet\",\"colorbar\":{\"outlinewidth\":0,\"ticks\":\"\"}}],\"contour\":[{\"type\":\"contour\",\"colorbar\":{\"outlinewidth\":0,\"ticks\":\"\"},\"colorscale\":[[0.0,\"#0d0887\"],[0.1111111111111111,\"#46039f\"],[0.2222222222222222,\"#7201a8\"],[0.3333333333333333,\"#9c179e\"],[0.4444444444444444,\"#bd3786\"],[0.5555555555555556,\"#d8576b\"],[0.6666666666666666,\"#ed7953\"],[0.7777777777777778,\"#fb9f3a\"],[0.8888888888888888,\"#fdca26\"],[1.0,\"#f0f921\"]]}],\"surface\":[{\"type\":\"surface\",\"colorbar\":{\"outlinewidth\":0,\"ticks\":\"\"},\"colorscale\":[[0.0,\"#0d0887\"],[0.1111111111111111,\"#46039f\"],[0.2222222222222222,\"#7201a8\"],[0.3333333333333333,\"#9c179e\"],[0.4444444444444444,\"#bd3786\"],[0.5555555555555556,\"#d8576b\"],[0.6666666666666666,\"#ed7953\"],[0.7777777777777778,\"#fb9f3a\"],[0.8888888888888888,\"#fdca26\"],[1.0,\"#f0f921\"]]}],\"mesh3d\":[{\"type\":\"mesh3d\",\"colorbar\":{\"outlinewidth\":0,\"ticks\":\"\"}}],\"scatter\":[{\"fillpattern\":{\"fillmode\":\"overlay\",\"size\":10,\"solidity\":0.2},\"type\":\"scatter\"}],\"parcoords\":[{\"type\":\"parcoords\",\"line\":{\"colorbar\":{\"outlinewidth\":0,\"ticks\":\"\"}}}],\"scatterpolargl\":[{\"type\":\"scatterpolargl\",\"marker\":{\"colorbar\":{\"outlinewidth\":0,\"ticks\":\"\"}}}],\"bar\":[{\"error_x\":{\"color\":\"#2a3f5f\"},\"error_y\":{\"color\":\"#2a3f5f\"},\"marker\":{\"line\":{\"color\":\"#E5ECF6\",\"width\":0.5},\"pattern\":{\"fillmode\":\"overlay\",\"size\":10,\"solidity\":0.2}},\"type\":\"bar\"}],\"scattergeo\":[{\"type\":\"scattergeo\",\"marker\":{\"colorbar\":{\"outlinewidth\":0,\"ticks\":\"\"}}}],\"scatterpolar\":[{\"type\":\"scatterpolar\",\"marker\":{\"colorbar\":{\"outlinewidth\":0,\"ticks\":\"\"}}}],\"histogram\":[{\"marker\":{\"pattern\":{\"fillmode\":\"overlay\",\"size\":10,\"solidity\":0.2}},\"type\":\"histogram\"}],\"scattergl\":[{\"type\":\"scattergl\",\"marker\":{\"colorbar\":{\"outlinewidth\":0,\"ticks\":\"\"}}}],\"scatter3d\":[{\"type\":\"scatter3d\",\"line\":{\"colorbar\":{\"outlinewidth\":0,\"ticks\":\"\"}},\"marker\":{\"colorbar\":{\"outlinewidth\":0,\"ticks\":\"\"}}}],\"scattermapbox\":[{\"type\":\"scattermapbox\",\"marker\":{\"colorbar\":{\"outlinewidth\":0,\"ticks\":\"\"}}}],\"scatterternary\":[{\"type\":\"scatterternary\",\"marker\":{\"colorbar\":{\"outlinewidth\":0,\"ticks\":\"\"}}}],\"scattercarpet\":[{\"type\":\"scattercarpet\",\"marker\":{\"colorbar\":{\"outlinewidth\":0,\"ticks\":\"\"}}}],\"carpet\":[{\"aaxis\":{\"endlinecolor\":\"#2a3f5f\",\"gridcolor\":\"white\",\"linecolor\":\"white\",\"minorgridcolor\":\"white\",\"startlinecolor\":\"#2a3f5f\"},\"baxis\":{\"endlinecolor\":\"#2a3f5f\",\"gridcolor\":\"white\",\"linecolor\":\"white\",\"minorgridcolor\":\"white\",\"startlinecolor\":\"#2a3f5f\"},\"type\":\"carpet\"}],\"table\":[{\"cells\":{\"fill\":{\"color\":\"#EBF0F8\"},\"line\":{\"color\":\"white\"}},\"header\":{\"fill\":{\"color\":\"#C8D4E3\"},\"line\":{\"color\":\"white\"}},\"type\":\"table\"}],\"barpolar\":[{\"marker\":{\"line\":{\"color\":\"#E5ECF6\",\"width\":0.5},\"pattern\":{\"fillmode\":\"overlay\",\"size\":10,\"solidity\":0.2}},\"type\":\"barpolar\"}],\"pie\":[{\"automargin\":true,\"type\":\"pie\"}]},\"layout\":{\"autotypenumbers\":\"strict\",\"colorway\":[\"#636efa\",\"#EF553B\",\"#00cc96\",\"#ab63fa\",\"#FFA15A\",\"#19d3f3\",\"#FF6692\",\"#B6E880\",\"#FF97FF\",\"#FECB52\"],\"font\":{\"color\":\"#2a3f5f\"},\"hovermode\":\"closest\",\"hoverlabel\":{\"align\":\"left\"},\"paper_bgcolor\":\"white\",\"plot_bgcolor\":\"#E5ECF6\",\"polar\":{\"bgcolor\":\"#E5ECF6\",\"angularaxis\":{\"gridcolor\":\"white\",\"linecolor\":\"white\",\"ticks\":\"\"},\"radialaxis\":{\"gridcolor\":\"white\",\"linecolor\":\"white\",\"ticks\":\"\"}},\"ternary\":{\"bgcolor\":\"#E5ECF6\",\"aaxis\":{\"gridcolor\":\"white\",\"linecolor\":\"white\",\"ticks\":\"\"},\"baxis\":{\"gridcolor\":\"white\",\"linecolor\":\"white\",\"ticks\":\"\"},\"caxis\":{\"gridcolor\":\"white\",\"linecolor\":\"white\",\"ticks\":\"\"}},\"coloraxis\":{\"colorbar\":{\"outlinewidth\":0,\"ticks\":\"\"}},\"colorscale\":{\"sequential\":[[0.0,\"#0d0887\"],[0.1111111111111111,\"#46039f\"],[0.2222222222222222,\"#7201a8\"],[0.3333333333333333,\"#9c179e\"],[0.4444444444444444,\"#bd3786\"],[0.5555555555555556,\"#d8576b\"],[0.6666666666666666,\"#ed7953\"],[0.7777777777777778,\"#fb9f3a\"],[0.8888888888888888,\"#fdca26\"],[1.0,\"#f0f921\"]],\"sequentialminus\":[[0.0,\"#0d0887\"],[0.1111111111111111,\"#46039f\"],[0.2222222222222222,\"#7201a8\"],[0.3333333333333333,\"#9c179e\"],[0.4444444444444444,\"#bd3786\"],[0.5555555555555556,\"#d8576b\"],[0.6666666666666666,\"#ed7953\"],[0.7777777777777778,\"#fb9f3a\"],[0.8888888888888888,\"#fdca26\"],[1.0,\"#f0f921\"]],\"diverging\":[[0,\"#8e0152\"],[0.1,\"#c51b7d\"],[0.2,\"#de77ae\"],[0.3,\"#f1b6da\"],[0.4,\"#fde0ef\"],[0.5,\"#f7f7f7\"],[0.6,\"#e6f5d0\"],[0.7,\"#b8e186\"],[0.8,\"#7fbc41\"],[0.9,\"#4d9221\"],[1,\"#276419\"]]},\"xaxis\":{\"gridcolor\":\"white\",\"linecolor\":\"white\",\"ticks\":\"\",\"title\":{\"standoff\":15},\"zerolinecolor\":\"white\",\"automargin\":true,\"zerolinewidth\":2},\"yaxis\":{\"gridcolor\":\"white\",\"linecolor\":\"white\",\"ticks\":\"\",\"title\":{\"standoff\":15},\"zerolinecolor\":\"white\",\"automargin\":true,\"zerolinewidth\":2},\"scene\":{\"xaxis\":{\"backgroundcolor\":\"#E5ECF6\",\"gridcolor\":\"white\",\"linecolor\":\"white\",\"showbackground\":true,\"ticks\":\"\",\"zerolinecolor\":\"white\",\"gridwidth\":2},\"yaxis\":{\"backgroundcolor\":\"#E5ECF6\",\"gridcolor\":\"white\",\"linecolor\":\"white\",\"showbackground\":true,\"ticks\":\"\",\"zerolinecolor\":\"white\",\"gridwidth\":2},\"zaxis\":{\"backgroundcolor\":\"#E5ECF6\",\"gridcolor\":\"white\",\"linecolor\":\"white\",\"showbackground\":true,\"ticks\":\"\",\"zerolinecolor\":\"white\",\"gridwidth\":2}},\"shapedefaults\":{\"line\":{\"color\":\"#2a3f5f\"}},\"annotationdefaults\":{\"arrowcolor\":\"#2a3f5f\",\"arrowhead\":0,\"arrowwidth\":1},\"geo\":{\"bgcolor\":\"white\",\"landcolor\":\"#E5ECF6\",\"subunitcolor\":\"white\",\"showland\":true,\"showlakes\":true,\"lakecolor\":\"white\"},\"title\":{\"x\":0.05},\"mapbox\":{\"style\":\"light\"}}},\"xaxis\":{\"anchor\":\"y\",\"domain\":[0.0,1.0],\"title\":{\"text\":\"Country_Name\"},\"tickangle\":-45},\"yaxis\":{\"anchor\":\"x\",\"domain\":[0.0,1.0],\"title\":{\"text\":\"Average Obesity (%)\"}},\"coloraxis\":{\"colorbar\":{\"title\":{\"text\":\"Average Obesity (%)\"}},\"colorscale\":[[0.0,\"rgb(255,245,235)\"],[0.125,\"rgb(254,230,206)\"],[0.25,\"rgb(253,208,162)\"],[0.375,\"rgb(253,174,107)\"],[0.5,\"rgb(253,141,60)\"],[0.625,\"rgb(241,105,19)\"],[0.75,\"rgb(217,72,1)\"],[0.875,\"rgb(166,54,3)\"],[1.0,\"rgb(127,39,4)\"]]},\"legend\":{\"tracegroupgap\":0},\"title\":{\"text\":\"Top 10 Countries by Average Obesity\"},\"barmode\":\"relative\",\"height\":500,\"width\":900},                        {\"responsive\": true}                    ).then(function(){\n",
       "                            \n",
       "var gd = document.getElementById('8f78b5ed-c2e0-4527-9aa9-02f244b72f4c');\n",
       "var x = new MutationObserver(function (mutations, observer) {{\n",
       "        var display = window.getComputedStyle(gd).display;\n",
       "        if (!display || display === 'none') {{\n",
       "            console.log([gd, 'removed!']);\n",
       "            Plotly.purge(gd);\n",
       "            observer.disconnect();\n",
       "        }}\n",
       "}});\n",
       "\n",
       "// Listen for the removal of the full notebook cells\n",
       "var notebookContainer = gd.closest('#notebook-container');\n",
       "if (notebookContainer) {{\n",
       "    x.observe(notebookContainer, {childList: true});\n",
       "}}\n",
       "\n",
       "// Listen for the clearing of the current output cell\n",
       "var outputEl = gd.closest('.output');\n",
       "if (outputEl) {{\n",
       "    x.observe(outputEl, {childList: true});\n",
       "}}\n",
       "\n",
       "                        })                };                });            </script>        </div>"
      ]
     },
     "metadata": {},
     "output_type": "display_data"
    }
   ],
   "source": [
    "top_obese = (\n",
    "            df_obese.groupby('Country_Name')['Mean_Estimate']\n",
    "            .mean()\n",
    "            .sort_values(ascending=False)\n",
    "            .head(10)\n",
    "            .reset_index()\n",
    "        )\n",
    "        \n",
    "fig = pltly.bar(\n",
    "            top_obese,\n",
    "            x='Country_Name',\n",
    "            y='Mean_Estimate',\n",
    "            title='Top 10 Countries by Average Obesity',\n",
    "            labels={'Mean_Estimate': 'Average Obesity (%)'},\n",
    "            color='Mean_Estimate',\n",
    "            color_continuous_scale='Oranges',\n",
    "            height=500,\n",
    "            width=900\n",
    "        )\n",
    "        \n",
    "fig.update_layout(xaxis_tickangle=-45)\n",
    "fig.show()"
   ]
  },
  {
   "cell_type": "code",
   "execution_count": 156,
   "id": "ba85a541-7e37-414e-ad4c-059d8d1d6c27",
   "metadata": {},
   "outputs": [],
   "source": [
    " top_malnut = (\n",
    "            df_malnut.groupby('Country_Name')['Mean_Estimate']\n",
    "            .mean()\n",
    "            .sort_values(ascending=False)\n",
    "            .head(10)\n",
    "            .reset_index()\n",
    "        )"
   ]
  },
  {
   "cell_type": "code",
   "execution_count": 176,
   "id": "fccb0b3b-5a33-4bf6-89eb-e4826c71c408",
   "metadata": {},
   "outputs": [
    {
     "data": {
      "application/vnd.plotly.v1+json": {
       "config": {
        "plotlyServerURL": "https://plot.ly"
       },
       "data": [
        {
         "alignmentgroup": "True",
         "hovertemplate": "Country_Name=%{x}<br>Average Malnutrition (%)=%{marker.color}<extra></extra>",
         "legendgroup": "",
         "marker": {
          "color": [
           22.142360613636363,
           19.238903143939392,
           18.24576812878788,
           17.87190712121212,
           17.472507727272728,
           17.392327732575758,
           17.099474628787878,
           16.818375560606057,
           16.138561606060605,
           16.123748233333334
          ],
          "coloraxis": "coloraxis",
          "pattern": {
           "shape": ""
          }
         },
         "name": "",
         "offsetgroup": "",
         "orientation": "v",
         "showlegend": false,
         "textposition": "auto",
         "type": "bar",
         "x": [
          "India",
          "South-East Asia Region",
          "Bangladesh",
          "Sri Lanka",
          "Eritrea",
          "Ethiopia",
          "Timor-Leste",
          "Senegal",
          "Niger",
          "Pakistan"
         ],
         "xaxis": "x",
         "y": [
          22.142360613636363,
          19.238903143939392,
          18.24576812878788,
          17.87190712121212,
          17.472507727272728,
          17.392327732575758,
          17.099474628787878,
          16.818375560606057,
          16.138561606060605,
          16.123748233333334
         ],
         "yaxis": "y"
        }
       ],
       "layout": {
        "barmode": "relative",
        "coloraxis": {
         "colorbar": {
          "title": {
           "text": "Average Malnutrition (%)"
          }
         },
         "colorscale": [
          [
           0,
           "rgb(247,251,255)"
          ],
          [
           0.125,
           "rgb(222,235,247)"
          ],
          [
           0.25,
           "rgb(198,219,239)"
          ],
          [
           0.375,
           "rgb(158,202,225)"
          ],
          [
           0.5,
           "rgb(107,174,214)"
          ],
          [
           0.625,
           "rgb(66,146,198)"
          ],
          [
           0.75,
           "rgb(33,113,181)"
          ],
          [
           0.875,
           "rgb(8,81,156)"
          ],
          [
           1,
           "rgb(8,48,107)"
          ]
         ]
        },
        "height": 500,
        "legend": {
         "tracegroupgap": 0
        },
        "template": {
         "data": {
          "bar": [
           {
            "error_x": {
             "color": "#2a3f5f"
            },
            "error_y": {
             "color": "#2a3f5f"
            },
            "marker": {
             "line": {
              "color": "#E5ECF6",
              "width": 0.5
             },
             "pattern": {
              "fillmode": "overlay",
              "size": 10,
              "solidity": 0.2
             }
            },
            "type": "bar"
           }
          ],
          "barpolar": [
           {
            "marker": {
             "line": {
              "color": "#E5ECF6",
              "width": 0.5
             },
             "pattern": {
              "fillmode": "overlay",
              "size": 10,
              "solidity": 0.2
             }
            },
            "type": "barpolar"
           }
          ],
          "carpet": [
           {
            "aaxis": {
             "endlinecolor": "#2a3f5f",
             "gridcolor": "white",
             "linecolor": "white",
             "minorgridcolor": "white",
             "startlinecolor": "#2a3f5f"
            },
            "baxis": {
             "endlinecolor": "#2a3f5f",
             "gridcolor": "white",
             "linecolor": "white",
             "minorgridcolor": "white",
             "startlinecolor": "#2a3f5f"
            },
            "type": "carpet"
           }
          ],
          "choropleth": [
           {
            "colorbar": {
             "outlinewidth": 0,
             "ticks": ""
            },
            "type": "choropleth"
           }
          ],
          "contour": [
           {
            "colorbar": {
             "outlinewidth": 0,
             "ticks": ""
            },
            "colorscale": [
             [
              0,
              "#0d0887"
             ],
             [
              0.1111111111111111,
              "#46039f"
             ],
             [
              0.2222222222222222,
              "#7201a8"
             ],
             [
              0.3333333333333333,
              "#9c179e"
             ],
             [
              0.4444444444444444,
              "#bd3786"
             ],
             [
              0.5555555555555556,
              "#d8576b"
             ],
             [
              0.6666666666666666,
              "#ed7953"
             ],
             [
              0.7777777777777778,
              "#fb9f3a"
             ],
             [
              0.8888888888888888,
              "#fdca26"
             ],
             [
              1,
              "#f0f921"
             ]
            ],
            "type": "contour"
           }
          ],
          "contourcarpet": [
           {
            "colorbar": {
             "outlinewidth": 0,
             "ticks": ""
            },
            "type": "contourcarpet"
           }
          ],
          "heatmap": [
           {
            "colorbar": {
             "outlinewidth": 0,
             "ticks": ""
            },
            "colorscale": [
             [
              0,
              "#0d0887"
             ],
             [
              0.1111111111111111,
              "#46039f"
             ],
             [
              0.2222222222222222,
              "#7201a8"
             ],
             [
              0.3333333333333333,
              "#9c179e"
             ],
             [
              0.4444444444444444,
              "#bd3786"
             ],
             [
              0.5555555555555556,
              "#d8576b"
             ],
             [
              0.6666666666666666,
              "#ed7953"
             ],
             [
              0.7777777777777778,
              "#fb9f3a"
             ],
             [
              0.8888888888888888,
              "#fdca26"
             ],
             [
              1,
              "#f0f921"
             ]
            ],
            "type": "heatmap"
           }
          ],
          "heatmapgl": [
           {
            "colorbar": {
             "outlinewidth": 0,
             "ticks": ""
            },
            "colorscale": [
             [
              0,
              "#0d0887"
             ],
             [
              0.1111111111111111,
              "#46039f"
             ],
             [
              0.2222222222222222,
              "#7201a8"
             ],
             [
              0.3333333333333333,
              "#9c179e"
             ],
             [
              0.4444444444444444,
              "#bd3786"
             ],
             [
              0.5555555555555556,
              "#d8576b"
             ],
             [
              0.6666666666666666,
              "#ed7953"
             ],
             [
              0.7777777777777778,
              "#fb9f3a"
             ],
             [
              0.8888888888888888,
              "#fdca26"
             ],
             [
              1,
              "#f0f921"
             ]
            ],
            "type": "heatmapgl"
           }
          ],
          "histogram": [
           {
            "marker": {
             "pattern": {
              "fillmode": "overlay",
              "size": 10,
              "solidity": 0.2
             }
            },
            "type": "histogram"
           }
          ],
          "histogram2d": [
           {
            "colorbar": {
             "outlinewidth": 0,
             "ticks": ""
            },
            "colorscale": [
             [
              0,
              "#0d0887"
             ],
             [
              0.1111111111111111,
              "#46039f"
             ],
             [
              0.2222222222222222,
              "#7201a8"
             ],
             [
              0.3333333333333333,
              "#9c179e"
             ],
             [
              0.4444444444444444,
              "#bd3786"
             ],
             [
              0.5555555555555556,
              "#d8576b"
             ],
             [
              0.6666666666666666,
              "#ed7953"
             ],
             [
              0.7777777777777778,
              "#fb9f3a"
             ],
             [
              0.8888888888888888,
              "#fdca26"
             ],
             [
              1,
              "#f0f921"
             ]
            ],
            "type": "histogram2d"
           }
          ],
          "histogram2dcontour": [
           {
            "colorbar": {
             "outlinewidth": 0,
             "ticks": ""
            },
            "colorscale": [
             [
              0,
              "#0d0887"
             ],
             [
              0.1111111111111111,
              "#46039f"
             ],
             [
              0.2222222222222222,
              "#7201a8"
             ],
             [
              0.3333333333333333,
              "#9c179e"
             ],
             [
              0.4444444444444444,
              "#bd3786"
             ],
             [
              0.5555555555555556,
              "#d8576b"
             ],
             [
              0.6666666666666666,
              "#ed7953"
             ],
             [
              0.7777777777777778,
              "#fb9f3a"
             ],
             [
              0.8888888888888888,
              "#fdca26"
             ],
             [
              1,
              "#f0f921"
             ]
            ],
            "type": "histogram2dcontour"
           }
          ],
          "mesh3d": [
           {
            "colorbar": {
             "outlinewidth": 0,
             "ticks": ""
            },
            "type": "mesh3d"
           }
          ],
          "parcoords": [
           {
            "line": {
             "colorbar": {
              "outlinewidth": 0,
              "ticks": ""
             }
            },
            "type": "parcoords"
           }
          ],
          "pie": [
           {
            "automargin": true,
            "type": "pie"
           }
          ],
          "scatter": [
           {
            "fillpattern": {
             "fillmode": "overlay",
             "size": 10,
             "solidity": 0.2
            },
            "type": "scatter"
           }
          ],
          "scatter3d": [
           {
            "line": {
             "colorbar": {
              "outlinewidth": 0,
              "ticks": ""
             }
            },
            "marker": {
             "colorbar": {
              "outlinewidth": 0,
              "ticks": ""
             }
            },
            "type": "scatter3d"
           }
          ],
          "scattercarpet": [
           {
            "marker": {
             "colorbar": {
              "outlinewidth": 0,
              "ticks": ""
             }
            },
            "type": "scattercarpet"
           }
          ],
          "scattergeo": [
           {
            "marker": {
             "colorbar": {
              "outlinewidth": 0,
              "ticks": ""
             }
            },
            "type": "scattergeo"
           }
          ],
          "scattergl": [
           {
            "marker": {
             "colorbar": {
              "outlinewidth": 0,
              "ticks": ""
             }
            },
            "type": "scattergl"
           }
          ],
          "scattermapbox": [
           {
            "marker": {
             "colorbar": {
              "outlinewidth": 0,
              "ticks": ""
             }
            },
            "type": "scattermapbox"
           }
          ],
          "scatterpolar": [
           {
            "marker": {
             "colorbar": {
              "outlinewidth": 0,
              "ticks": ""
             }
            },
            "type": "scatterpolar"
           }
          ],
          "scatterpolargl": [
           {
            "marker": {
             "colorbar": {
              "outlinewidth": 0,
              "ticks": ""
             }
            },
            "type": "scatterpolargl"
           }
          ],
          "scatterternary": [
           {
            "marker": {
             "colorbar": {
              "outlinewidth": 0,
              "ticks": ""
             }
            },
            "type": "scatterternary"
           }
          ],
          "surface": [
           {
            "colorbar": {
             "outlinewidth": 0,
             "ticks": ""
            },
            "colorscale": [
             [
              0,
              "#0d0887"
             ],
             [
              0.1111111111111111,
              "#46039f"
             ],
             [
              0.2222222222222222,
              "#7201a8"
             ],
             [
              0.3333333333333333,
              "#9c179e"
             ],
             [
              0.4444444444444444,
              "#bd3786"
             ],
             [
              0.5555555555555556,
              "#d8576b"
             ],
             [
              0.6666666666666666,
              "#ed7953"
             ],
             [
              0.7777777777777778,
              "#fb9f3a"
             ],
             [
              0.8888888888888888,
              "#fdca26"
             ],
             [
              1,
              "#f0f921"
             ]
            ],
            "type": "surface"
           }
          ],
          "table": [
           {
            "cells": {
             "fill": {
              "color": "#EBF0F8"
             },
             "line": {
              "color": "white"
             }
            },
            "header": {
             "fill": {
              "color": "#C8D4E3"
             },
             "line": {
              "color": "white"
             }
            },
            "type": "table"
           }
          ]
         },
         "layout": {
          "annotationdefaults": {
           "arrowcolor": "#2a3f5f",
           "arrowhead": 0,
           "arrowwidth": 1
          },
          "autotypenumbers": "strict",
          "coloraxis": {
           "colorbar": {
            "outlinewidth": 0,
            "ticks": ""
           }
          },
          "colorscale": {
           "diverging": [
            [
             0,
             "#8e0152"
            ],
            [
             0.1,
             "#c51b7d"
            ],
            [
             0.2,
             "#de77ae"
            ],
            [
             0.3,
             "#f1b6da"
            ],
            [
             0.4,
             "#fde0ef"
            ],
            [
             0.5,
             "#f7f7f7"
            ],
            [
             0.6,
             "#e6f5d0"
            ],
            [
             0.7,
             "#b8e186"
            ],
            [
             0.8,
             "#7fbc41"
            ],
            [
             0.9,
             "#4d9221"
            ],
            [
             1,
             "#276419"
            ]
           ],
           "sequential": [
            [
             0,
             "#0d0887"
            ],
            [
             0.1111111111111111,
             "#46039f"
            ],
            [
             0.2222222222222222,
             "#7201a8"
            ],
            [
             0.3333333333333333,
             "#9c179e"
            ],
            [
             0.4444444444444444,
             "#bd3786"
            ],
            [
             0.5555555555555556,
             "#d8576b"
            ],
            [
             0.6666666666666666,
             "#ed7953"
            ],
            [
             0.7777777777777778,
             "#fb9f3a"
            ],
            [
             0.8888888888888888,
             "#fdca26"
            ],
            [
             1,
             "#f0f921"
            ]
           ],
           "sequentialminus": [
            [
             0,
             "#0d0887"
            ],
            [
             0.1111111111111111,
             "#46039f"
            ],
            [
             0.2222222222222222,
             "#7201a8"
            ],
            [
             0.3333333333333333,
             "#9c179e"
            ],
            [
             0.4444444444444444,
             "#bd3786"
            ],
            [
             0.5555555555555556,
             "#d8576b"
            ],
            [
             0.6666666666666666,
             "#ed7953"
            ],
            [
             0.7777777777777778,
             "#fb9f3a"
            ],
            [
             0.8888888888888888,
             "#fdca26"
            ],
            [
             1,
             "#f0f921"
            ]
           ]
          },
          "colorway": [
           "#636efa",
           "#EF553B",
           "#00cc96",
           "#ab63fa",
           "#FFA15A",
           "#19d3f3",
           "#FF6692",
           "#B6E880",
           "#FF97FF",
           "#FECB52"
          ],
          "font": {
           "color": "#2a3f5f"
          },
          "geo": {
           "bgcolor": "white",
           "lakecolor": "white",
           "landcolor": "#E5ECF6",
           "showlakes": true,
           "showland": true,
           "subunitcolor": "white"
          },
          "hoverlabel": {
           "align": "left"
          },
          "hovermode": "closest",
          "mapbox": {
           "style": "light"
          },
          "paper_bgcolor": "white",
          "plot_bgcolor": "#E5ECF6",
          "polar": {
           "angularaxis": {
            "gridcolor": "white",
            "linecolor": "white",
            "ticks": ""
           },
           "bgcolor": "#E5ECF6",
           "radialaxis": {
            "gridcolor": "white",
            "linecolor": "white",
            "ticks": ""
           }
          },
          "scene": {
           "xaxis": {
            "backgroundcolor": "#E5ECF6",
            "gridcolor": "white",
            "gridwidth": 2,
            "linecolor": "white",
            "showbackground": true,
            "ticks": "",
            "zerolinecolor": "white"
           },
           "yaxis": {
            "backgroundcolor": "#E5ECF6",
            "gridcolor": "white",
            "gridwidth": 2,
            "linecolor": "white",
            "showbackground": true,
            "ticks": "",
            "zerolinecolor": "white"
           },
           "zaxis": {
            "backgroundcolor": "#E5ECF6",
            "gridcolor": "white",
            "gridwidth": 2,
            "linecolor": "white",
            "showbackground": true,
            "ticks": "",
            "zerolinecolor": "white"
           }
          },
          "shapedefaults": {
           "line": {
            "color": "#2a3f5f"
           }
          },
          "ternary": {
           "aaxis": {
            "gridcolor": "white",
            "linecolor": "white",
            "ticks": ""
           },
           "baxis": {
            "gridcolor": "white",
            "linecolor": "white",
            "ticks": ""
           },
           "bgcolor": "#E5ECF6",
           "caxis": {
            "gridcolor": "white",
            "linecolor": "white",
            "ticks": ""
           }
          },
          "title": {
           "x": 0.05
          },
          "xaxis": {
           "automargin": true,
           "gridcolor": "white",
           "linecolor": "white",
           "ticks": "",
           "title": {
            "standoff": 15
           },
           "zerolinecolor": "white",
           "zerolinewidth": 2
          },
          "yaxis": {
           "automargin": true,
           "gridcolor": "white",
           "linecolor": "white",
           "ticks": "",
           "title": {
            "standoff": 15
           },
           "zerolinecolor": "white",
           "zerolinewidth": 2
          }
         }
        },
        "title": {
         "text": "Top 10 Countries by Average Malnutrition"
        },
        "width": 900,
        "xaxis": {
         "anchor": "y",
         "autorange": true,
         "domain": [
          0,
          1
         ],
         "range": [
          -0.5,
          9.5
         ],
         "tickangle": -45,
         "title": {
          "text": "Country_Name"
         },
         "type": "category"
        },
        "yaxis": {
         "anchor": "x",
         "autorange": true,
         "domain": [
          0,
          1
         ],
         "range": [
          0,
          23.30774801435407
         ],
         "title": {
          "text": "Average Malnutrition (%)"
         },
         "type": "linear"
        }
       }
      },
      "image/png": "[encoded data removed]",
      "text/html": [
       "<div>                            <div id=\"8d91fdf7-1915-432a-878d-1e806a91cf31\" class=\"plotly-graph-div\" style=\"height:500px; width:900px;\"></div>            <script type=\"text/javascript\">                require([\"plotly\"], function(Plotly) {                    window.PLOTLYENV=window.PLOTLYENV || {};                                    if (document.getElementById(\"8d91fdf7-1915-432a-878d-1e806a91cf31\")) {                    Plotly.newPlot(                        \"8d91fdf7-1915-432a-878d-1e806a91cf31\",                        [{\"alignmentgroup\":\"True\",\"hovertemplate\":\"Country_Name=%{x}\\u003cbr\\u003eAverage Malnutrition (%)=%{marker.color}\\u003cextra\\u003e\\u003c\\u002fextra\\u003e\",\"legendgroup\":\"\",\"marker\":{\"color\":[22.142360613636363,19.238903143939392,18.24576812878788,17.87190712121212,17.472507727272728,17.392327732575758,17.099474628787878,16.818375560606057,16.138561606060605,16.123748233333334],\"coloraxis\":\"coloraxis\",\"pattern\":{\"shape\":\"\"}},\"name\":\"\",\"offsetgroup\":\"\",\"orientation\":\"v\",\"showlegend\":false,\"textposition\":\"auto\",\"x\":[\"India\",\"South-East Asia Region\",\"Bangladesh\",\"Sri Lanka\",\"Eritrea\",\"Ethiopia\",\"Timor-Leste\",\"Senegal\",\"Niger\",\"Pakistan\"],\"xaxis\":\"x\",\"y\":[22.142360613636363,19.238903143939392,18.24576812878788,17.87190712121212,17.472507727272728,17.392327732575758,17.099474628787878,16.818375560606057,16.138561606060605,16.123748233333334],\"yaxis\":\"y\",\"type\":\"bar\"}],                        {\"template\":{\"data\":{\"histogram2dcontour\":[{\"type\":\"histogram2dcontour\",\"colorbar\":{\"outlinewidth\":0,\"ticks\":\"\"},\"colorscale\":[[0.0,\"#0d0887\"],[0.1111111111111111,\"#46039f\"],[0.2222222222222222,\"#7201a8\"],[0.3333333333333333,\"#9c179e\"],[0.4444444444444444,\"#bd3786\"],[0.5555555555555556,\"#d8576b\"],[0.6666666666666666,\"#ed7953\"],[0.7777777777777778,\"#fb9f3a\"],[0.8888888888888888,\"#fdca26\"],[1.0,\"#f0f921\"]]}],\"choropleth\":[{\"type\":\"choropleth\",\"colorbar\":{\"outlinewidth\":0,\"ticks\":\"\"}}],\"histogram2d\":[{\"type\":\"histogram2d\",\"colorbar\":{\"outlinewidth\":0,\"ticks\":\"\"},\"colorscale\":[[0.0,\"#0d0887\"],[0.1111111111111111,\"#46039f\"],[0.2222222222222222,\"#7201a8\"],[0.3333333333333333,\"#9c179e\"],[0.4444444444444444,\"#bd3786\"],[0.5555555555555556,\"#d8576b\"],[0.6666666666666666,\"#ed7953\"],[0.7777777777777778,\"#fb9f3a\"],[0.8888888888888888,\"#fdca26\"],[1.0,\"#f0f921\"]]}],\"heatmap\":[{\"type\":\"heatmap\",\"colorbar\":{\"outlinewidth\":0,\"ticks\":\"\"},\"colorscale\":[[0.0,\"#0d0887\"],[0.1111111111111111,\"#46039f\"],[0.2222222222222222,\"#7201a8\"],[0.3333333333333333,\"#9c179e\"],[0.4444444444444444,\"#bd3786\"],[0.5555555555555556,\"#d8576b\"],[0.6666666666666666,\"#ed7953\"],[0.7777777777777778,\"#fb9f3a\"],[0.8888888888888888,\"#fdca26\"],[1.0,\"#f0f921\"]]}],\"heatmapgl\":[{\"type\":\"heatmapgl\",\"colorbar\":{\"outlinewidth\":0,\"ticks\":\"\"},\"colorscale\":[[0.0,\"#0d0887\"],[0.1111111111111111,\"#46039f\"],[0.2222222222222222,\"#7201a8\"],[0.3333333333333333,\"#9c179e\"],[0.4444444444444444,\"#bd3786\"],[0.5555555555555556,\"#d8576b\"],[0.6666666666666666,\"#ed7953\"],[0.7777777777777778,\"#fb9f3a\"],[0.8888888888888888,\"#fdca26\"],[1.0,\"#f0f921\"]]}],\"contourcarpet\":[{\"type\":\"contourcarpet\",\"colorbar\":{\"outlinewidth\":0,\"ticks\":\"\"}}],\"contour\":[{\"type\":\"contour\",\"colorbar\":{\"outlinewidth\":0,\"ticks\":\"\"},\"colorscale\":[[0.0,\"#0d0887\"],[0.1111111111111111,\"#46039f\"],[0.2222222222222222,\"#7201a8\"],[0.3333333333333333,\"#9c179e\"],[0.4444444444444444,\"#bd3786\"],[0.5555555555555556,\"#d8576b\"],[0.6666666666666666,\"#ed7953\"],[0.7777777777777778,\"#fb9f3a\"],[0.8888888888888888,\"#fdca26\"],[1.0,\"#f0f921\"]]}],\"surface\":[{\"type\":\"surface\",\"colorbar\":{\"outlinewidth\":0,\"ticks\":\"\"},\"colorscale\":[[0.0,\"#0d0887\"],[0.1111111111111111,\"#46039f\"],[0.2222222222222222,\"#7201a8\"],[0.3333333333333333,\"#9c179e\"],[0.4444444444444444,\"#bd3786\"],[0.5555555555555556,\"#d8576b\"],[0.6666666666666666,\"#ed7953\"],[0.7777777777777778,\"#fb9f3a\"],[0.8888888888888888,\"#fdca26\"],[1.0,\"#f0f921\"]]}],\"mesh3d\":[{\"type\":\"mesh3d\",\"colorbar\":{\"outlinewidth\":0,\"ticks\":\"\"}}],\"scatter\":[{\"fillpattern\":{\"fillmode\":\"overlay\",\"size\":10,\"solidity\":0.2},\"type\":\"scatter\"}],\"parcoords\":[{\"type\":\"parcoords\",\"line\":{\"colorbar\":{\"outlinewidth\":0,\"ticks\":\"\"}}}],\"scatterpolargl\":[{\"type\":\"scatterpolargl\",\"marker\":{\"colorbar\":{\"outlinewidth\":0,\"ticks\":\"\"}}}],\"bar\":[{\"error_x\":{\"color\":\"#2a3f5f\"},\"error_y\":{\"color\":\"#2a3f5f\"},\"marker\":{\"line\":{\"color\":\"#E5ECF6\",\"width\":0.5},\"pattern\":{\"fillmode\":\"overlay\",\"size\":10,\"solidity\":0.2}},\"type\":\"bar\"}],\"scattergeo\":[{\"type\":\"scattergeo\",\"marker\":{\"colorbar\":{\"outlinewidth\":0,\"ticks\":\"\"}}}],\"scatterpolar\":[{\"type\":\"scatterpolar\",\"marker\":{\"colorbar\":{\"outlinewidth\":0,\"ticks\":\"\"}}}],\"histogram\":[{\"marker\":{\"pattern\":{\"fillmode\":\"overlay\",\"size\":10,\"solidity\":0.2}},\"type\":\"histogram\"}],\"scattergl\":[{\"type\":\"scattergl\",\"marker\":{\"colorbar\":{\"outlinewidth\":0,\"ticks\":\"\"}}}],\"scatter3d\":[{\"type\":\"scatter3d\",\"line\":{\"colorbar\":{\"outlinewidth\":0,\"ticks\":\"\"}},\"marker\":{\"colorbar\":{\"outlinewidth\":0,\"ticks\":\"\"}}}],\"scattermapbox\":[{\"type\":\"scattermapbox\",\"marker\":{\"colorbar\":{\"outlinewidth\":0,\"ticks\":\"\"}}}],\"scatterternary\":[{\"type\":\"scatterternary\",\"marker\":{\"colorbar\":{\"outlinewidth\":0,\"ticks\":\"\"}}}],\"scattercarpet\":[{\"type\":\"scattercarpet\",\"marker\":{\"colorbar\":{\"outlinewidth\":0,\"ticks\":\"\"}}}],\"carpet\":[{\"aaxis\":{\"endlinecolor\":\"#2a3f5f\",\"gridcolor\":\"white\",\"linecolor\":\"white\",\"minorgridcolor\":\"white\",\"startlinecolor\":\"#2a3f5f\"},\"baxis\":{\"endlinecolor\":\"#2a3f5f\",\"gridcolor\":\"white\",\"linecolor\":\"white\",\"minorgridcolor\":\"white\",\"startlinecolor\":\"#2a3f5f\"},\"type\":\"carpet\"}],\"table\":[{\"cells\":{\"fill\":{\"color\":\"#EBF0F8\"},\"line\":{\"color\":\"white\"}},\"header\":{\"fill\":{\"color\":\"#C8D4E3\"},\"line\":{\"color\":\"white\"}},\"type\":\"table\"}],\"barpolar\":[{\"marker\":{\"line\":{\"color\":\"#E5ECF6\",\"width\":0.5},\"pattern\":{\"fillmode\":\"overlay\",\"size\":10,\"solidity\":0.2}},\"type\":\"barpolar\"}],\"pie\":[{\"automargin\":true,\"type\":\"pie\"}]},\"layout\":{\"autotypenumbers\":\"strict\",\"colorway\":[\"#636efa\",\"#EF553B\",\"#00cc96\",\"#ab63fa\",\"#FFA15A\",\"#19d3f3\",\"#FF6692\",\"#B6E880\",\"#FF97FF\",\"#FECB52\"],\"font\":{\"color\":\"#2a3f5f\"},\"hovermode\":\"closest\",\"hoverlabel\":{\"align\":\"left\"},\"paper_bgcolor\":\"white\",\"plot_bgcolor\":\"#E5ECF6\",\"polar\":{\"bgcolor\":\"#E5ECF6\",\"angularaxis\":{\"gridcolor\":\"white\",\"linecolor\":\"white\",\"ticks\":\"\"},\"radialaxis\":{\"gridcolor\":\"white\",\"linecolor\":\"white\",\"ticks\":\"\"}},\"ternary\":{\"bgcolor\":\"#E5ECF6\",\"aaxis\":{\"gridcolor\":\"white\",\"linecolor\":\"white\",\"ticks\":\"\"},\"baxis\":{\"gridcolor\":\"white\",\"linecolor\":\"white\",\"ticks\":\"\"},\"caxis\":{\"gridcolor\":\"white\",\"linecolor\":\"white\",\"ticks\":\"\"}},\"coloraxis\":{\"colorbar\":{\"outlinewidth\":0,\"ticks\":\"\"}},\"colorscale\":{\"sequential\":[[0.0,\"#0d0887\"],[0.1111111111111111,\"#46039f\"],[0.2222222222222222,\"#7201a8\"],[0.3333333333333333,\"#9c179e\"],[0.4444444444444444,\"#bd3786\"],[0.5555555555555556,\"#d8576b\"],[0.6666666666666666,\"#ed7953\"],[0.7777777777777778,\"#fb9f3a\"],[0.8888888888888888,\"#fdca26\"],[1.0,\"#f0f921\"]],\"sequentialminus\":[[0.0,\"#0d0887\"],[0.1111111111111111,\"#46039f\"],[0.2222222222222222,\"#7201a8\"],[0.3333333333333333,\"#9c179e\"],[0.4444444444444444,\"#bd3786\"],[0.5555555555555556,\"#d8576b\"],[0.6666666666666666,\"#ed7953\"],[0.7777777777777778,\"#fb9f3a\"],[0.8888888888888888,\"#fdca26\"],[1.0,\"#f0f921\"]],\"diverging\":[[0,\"#8e0152\"],[0.1,\"#c51b7d\"],[0.2,\"#de77ae\"],[0.3,\"#f1b6da\"],[0.4,\"#fde0ef\"],[0.5,\"#f7f7f7\"],[0.6,\"#e6f5d0\"],[0.7,\"#b8e186\"],[0.8,\"#7fbc41\"],[0.9,\"#4d9221\"],[1,\"#276419\"]]},\"xaxis\":{\"gridcolor\":\"white\",\"linecolor\":\"white\",\"ticks\":\"\",\"title\":{\"standoff\":15},\"zerolinecolor\":\"white\",\"automargin\":true,\"zerolinewidth\":2},\"yaxis\":{\"gridcolor\":\"white\",\"linecolor\":\"white\",\"ticks\":\"\",\"title\":{\"standoff\":15},\"zerolinecolor\":\"white\",\"automargin\":true,\"zerolinewidth\":2},\"scene\":{\"xaxis\":{\"backgroundcolor\":\"#E5ECF6\",\"gridcolor\":\"white\",\"linecolor\":\"white\",\"showbackground\":true,\"ticks\":\"\",\"zerolinecolor\":\"white\",\"gridwidth\":2},\"yaxis\":{\"backgroundcolor\":\"#E5ECF6\",\"gridcolor\":\"white\",\"linecolor\":\"white\",\"showbackground\":true,\"ticks\":\"\",\"zerolinecolor\":\"white\",\"gridwidth\":2},\"zaxis\":{\"backgroundcolor\":\"#E5ECF6\",\"gridcolor\":\"white\",\"linecolor\":\"white\",\"showbackground\":true,\"ticks\":\"\",\"zerolinecolor\":\"white\",\"gridwidth\":2}},\"shapedefaults\":{\"line\":{\"color\":\"#2a3f5f\"}},\"annotationdefaults\":{\"arrowcolor\":\"#2a3f5f\",\"arrowhead\":0,\"arrowwidth\":1},\"geo\":{\"bgcolor\":\"white\",\"landcolor\":\"#E5ECF6\",\"subunitcolor\":\"white\",\"showland\":true,\"showlakes\":true,\"lakecolor\":\"white\"},\"title\":{\"x\":0.05},\"mapbox\":{\"style\":\"light\"}}},\"xaxis\":{\"anchor\":\"y\",\"domain\":[0.0,1.0],\"title\":{\"text\":\"Country_Name\"},\"tickangle\":-45},\"yaxis\":{\"anchor\":\"x\",\"domain\":[0.0,1.0],\"title\":{\"text\":\"Average Malnutrition (%)\"}},\"coloraxis\":{\"colorbar\":{\"title\":{\"text\":\"Average Malnutrition (%)\"}},\"colorscale\":[[0.0,\"rgb(247,251,255)\"],[0.125,\"rgb(222,235,247)\"],[0.25,\"rgb(198,219,239)\"],[0.375,\"rgb(158,202,225)\"],[0.5,\"rgb(107,174,214)\"],[0.625,\"rgb(66,146,198)\"],[0.75,\"rgb(33,113,181)\"],[0.875,\"rgb(8,81,156)\"],[1.0,\"rgb(8,48,107)\"]]},\"legend\":{\"tracegroupgap\":0},\"title\":{\"text\":\"Top 10 Countries by Average Malnutrition\"},\"barmode\":\"relative\",\"height\":500,\"width\":900},                        {\"responsive\": true}                    ).then(function(){\n",
       "                            \n",
       "var gd = document.getElementById('8d91fdf7-1915-432a-878d-1e806a91cf31');\n",
       "var x = new MutationObserver(function (mutations, observer) {{\n",
       "        var display = window.getComputedStyle(gd).display;\n",
       "        if (!display || display === 'none') {{\n",
       "            console.log([gd, 'removed!']);\n",
       "            Plotly.purge(gd);\n",
       "            observer.disconnect();\n",
       "        }}\n",
       "}});\n",
       "\n",
       "// Listen for the removal of the full notebook cells\n",
       "var notebookContainer = gd.closest('#notebook-container');\n",
       "if (notebookContainer) {{\n",
       "    x.observe(notebookContainer, {childList: true});\n",
       "}}\n",
       "\n",
       "// Listen for the clearing of the current output cell\n",
       "var outputEl = gd.closest('.output');\n",
       "if (outputEl) {{\n",
       "    x.observe(outputEl, {childList: true});\n",
       "}}\n",
       "\n",
       "                        })                };                });            </script>        </div>"
      ]
     },
     "metadata": {},
     "output_type": "display_data"
    }
   ],
   "source": [
    "fig3 = pltly.bar(\n",
    "            top_malnut,\n",
    "            x='Country_Name',\n",
    "            y='Mean_Estimate',\n",
    "            title='Top 10 Countries by Average Malnutrition',\n",
    "            labels={'Mean_Estimate': 'Average Malnutrition (%)'},\n",
    "            color='Mean_Estimate',\n",
    "            color_continuous_scale='Blues',\n",
    "            height=500,\n",
    "            width=900)\n",
    "fig3.update_layout(xaxis_tickangle=-45)\n",
    "fig3.show()\n",
    "    "
   ]
  }
 ],
 "metadata": {
  "kernelspec": {
   "display_name": "Python [conda env:base] *",
   "language": "python",
   "name": "conda-base-py"
  },
  "language_info": {
   "codemirror_mode": {
    "name": "ipython",
    "version": 3
   },
   "file_extension": ".py",
   "mimetype": "text/x-python",
   "name": "python",
   "nbconvert_exporter": "python",
   "pygments_lexer": "ipython3",
   "version": "3.12.7"
  }
 },
 "nbformat": 4,
 "nbformat_minor": 5
}
